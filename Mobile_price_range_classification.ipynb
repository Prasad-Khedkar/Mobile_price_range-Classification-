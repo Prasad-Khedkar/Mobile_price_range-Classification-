{
  "cells": [
    {
      "cell_type": "markdown",
      "metadata": {
        "id": "view-in-github",
        "colab_type": "text"
      },
      "source": [
        "<a href=\"https://colab.research.google.com/github/Prasad-Khedkar/Mobile_price_range-Classification-/blob/main/Mobile_price_range_classification.ipynb\" target=\"_parent\"><img src=\"https://colab.research.google.com/assets/colab-badge.svg\" alt=\"Open In Colab\"/></a>"
      ]
    },
    {
      "cell_type": "code",
      "execution_count": 1,
      "id": "97059c79",
      "metadata": {
        "id": "97059c79"
      },
      "outputs": [],
      "source": [
        "import pandas as pd\n",
        "import seaborn as sns\n",
        "import matplotlib.pyplot as plt\n",
        "\n",
        "from sklearn.linear_model import LogisticRegression\n",
        "\n",
        "from sklearn.model_selection import cross_val_score , cross_validate\n",
        "\n",
        "from sklearn.metrics import confusion_matrix, classification_report, accuracy_score\n",
        "pd.set_option('display.max_columns',500)\n",
        "\n",
        "from sklearn.model_selection import GridSearchCV\n",
        "\n",
        "import warnings\n",
        "warnings. simplefilter(action='ignore', category=FutureWarning)"
      ]
    },
    {
      "cell_type": "code",
      "source": [
        "from google.colab import drive\n",
        "drive.mount('/content/drive/')"
      ],
      "metadata": {
        "colab": {
          "base_uri": "https://localhost:8080/"
        },
        "id": "Llfb7MMsI5Lr",
        "outputId": "9eb9c29b-85e5-4182-b63c-a29975d1473a"
      },
      "execution_count": 2,
      "outputs": [
        {
          "output_type": "stream",
          "name": "stdout",
          "text": [
            "Mounted at /content/drive/\n"
          ]
        }
      ],
      "id": "Llfb7MMsI5Lr"
    },
    {
      "cell_type": "code",
      "source": [
        "path = '/content/drive/MyDrive/Projects/Mobile_price_range(Classification)/Data/'"
      ],
      "metadata": {
        "id": "KwkcU3UkI4sl"
      },
      "execution_count": 3,
      "outputs": [],
      "id": "KwkcU3UkI4sl"
    },
    {
      "cell_type": "code",
      "execution_count": 4,
      "id": "f4fb9014",
      "metadata": {
        "id": "f4fb9014"
      },
      "outputs": [],
      "source": [
        "dff = pd.read_csv(path + 'data_mobile_price_range.csv')"
      ]
    },
    {
      "cell_type": "code",
      "execution_count": 5,
      "id": "71a57ae5",
      "metadata": {
        "id": "71a57ae5"
      },
      "outputs": [],
      "source": [
        "df = dff.copy()"
      ]
    },
    {
      "cell_type": "code",
      "execution_count": 6,
      "id": "4341e33b",
      "metadata": {
        "colab": {
          "base_uri": "https://localhost:8080/",
          "height": 270
        },
        "id": "4341e33b",
        "outputId": "546799d0-08bf-4e82-db1d-466b69a997b2"
      },
      "outputs": [
        {
          "output_type": "execute_result",
          "data": {
            "text/plain": [
              "   battery_power  blue  clock_speed  dual_sim  fc  four_g  int_memory  m_dep  \\\n",
              "0            842     0          2.2         0   1       0           7    0.6   \n",
              "1           1021     1          0.5         1   0       1          53    0.7   \n",
              "2            563     1          0.5         1   2       1          41    0.9   \n",
              "3            615     1          2.5         0   0       0          10    0.8   \n",
              "4           1821     1          1.2         0  13       1          44    0.6   \n",
              "\n",
              "   mobile_wt  n_cores  pc  px_height  px_width   ram  sc_h  sc_w  talk_time  \\\n",
              "0        188        2   2         20       756  2549     9     7         19   \n",
              "1        136        3   6        905      1988  2631    17     3          7   \n",
              "2        145        5   6       1263      1716  2603    11     2          9   \n",
              "3        131        6   9       1216      1786  2769    16     8         11   \n",
              "4        141        2  14       1208      1212  1411     8     2         15   \n",
              "\n",
              "   three_g  touch_screen  wifi  price_range  \n",
              "0        0             0     1            1  \n",
              "1        1             1     0            2  \n",
              "2        1             1     0            2  \n",
              "3        1             0     0            2  \n",
              "4        1             1     0            1  "
            ],
            "text/html": [
              "\n",
              "  <div id=\"df-1939a2f6-9d4f-4e08-8325-3a3a61171c23\">\n",
              "    <div class=\"colab-df-container\">\n",
              "      <div>\n",
              "<style scoped>\n",
              "    .dataframe tbody tr th:only-of-type {\n",
              "        vertical-align: middle;\n",
              "    }\n",
              "\n",
              "    .dataframe tbody tr th {\n",
              "        vertical-align: top;\n",
              "    }\n",
              "\n",
              "    .dataframe thead th {\n",
              "        text-align: right;\n",
              "    }\n",
              "</style>\n",
              "<table border=\"1\" class=\"dataframe\">\n",
              "  <thead>\n",
              "    <tr style=\"text-align: right;\">\n",
              "      <th></th>\n",
              "      <th>battery_power</th>\n",
              "      <th>blue</th>\n",
              "      <th>clock_speed</th>\n",
              "      <th>dual_sim</th>\n",
              "      <th>fc</th>\n",
              "      <th>four_g</th>\n",
              "      <th>int_memory</th>\n",
              "      <th>m_dep</th>\n",
              "      <th>mobile_wt</th>\n",
              "      <th>n_cores</th>\n",
              "      <th>pc</th>\n",
              "      <th>px_height</th>\n",
              "      <th>px_width</th>\n",
              "      <th>ram</th>\n",
              "      <th>sc_h</th>\n",
              "      <th>sc_w</th>\n",
              "      <th>talk_time</th>\n",
              "      <th>three_g</th>\n",
              "      <th>touch_screen</th>\n",
              "      <th>wifi</th>\n",
              "      <th>price_range</th>\n",
              "    </tr>\n",
              "  </thead>\n",
              "  <tbody>\n",
              "    <tr>\n",
              "      <th>0</th>\n",
              "      <td>842</td>\n",
              "      <td>0</td>\n",
              "      <td>2.2</td>\n",
              "      <td>0</td>\n",
              "      <td>1</td>\n",
              "      <td>0</td>\n",
              "      <td>7</td>\n",
              "      <td>0.6</td>\n",
              "      <td>188</td>\n",
              "      <td>2</td>\n",
              "      <td>2</td>\n",
              "      <td>20</td>\n",
              "      <td>756</td>\n",
              "      <td>2549</td>\n",
              "      <td>9</td>\n",
              "      <td>7</td>\n",
              "      <td>19</td>\n",
              "      <td>0</td>\n",
              "      <td>0</td>\n",
              "      <td>1</td>\n",
              "      <td>1</td>\n",
              "    </tr>\n",
              "    <tr>\n",
              "      <th>1</th>\n",
              "      <td>1021</td>\n",
              "      <td>1</td>\n",
              "      <td>0.5</td>\n",
              "      <td>1</td>\n",
              "      <td>0</td>\n",
              "      <td>1</td>\n",
              "      <td>53</td>\n",
              "      <td>0.7</td>\n",
              "      <td>136</td>\n",
              "      <td>3</td>\n",
              "      <td>6</td>\n",
              "      <td>905</td>\n",
              "      <td>1988</td>\n",
              "      <td>2631</td>\n",
              "      <td>17</td>\n",
              "      <td>3</td>\n",
              "      <td>7</td>\n",
              "      <td>1</td>\n",
              "      <td>1</td>\n",
              "      <td>0</td>\n",
              "      <td>2</td>\n",
              "    </tr>\n",
              "    <tr>\n",
              "      <th>2</th>\n",
              "      <td>563</td>\n",
              "      <td>1</td>\n",
              "      <td>0.5</td>\n",
              "      <td>1</td>\n",
              "      <td>2</td>\n",
              "      <td>1</td>\n",
              "      <td>41</td>\n",
              "      <td>0.9</td>\n",
              "      <td>145</td>\n",
              "      <td>5</td>\n",
              "      <td>6</td>\n",
              "      <td>1263</td>\n",
              "      <td>1716</td>\n",
              "      <td>2603</td>\n",
              "      <td>11</td>\n",
              "      <td>2</td>\n",
              "      <td>9</td>\n",
              "      <td>1</td>\n",
              "      <td>1</td>\n",
              "      <td>0</td>\n",
              "      <td>2</td>\n",
              "    </tr>\n",
              "    <tr>\n",
              "      <th>3</th>\n",
              "      <td>615</td>\n",
              "      <td>1</td>\n",
              "      <td>2.5</td>\n",
              "      <td>0</td>\n",
              "      <td>0</td>\n",
              "      <td>0</td>\n",
              "      <td>10</td>\n",
              "      <td>0.8</td>\n",
              "      <td>131</td>\n",
              "      <td>6</td>\n",
              "      <td>9</td>\n",
              "      <td>1216</td>\n",
              "      <td>1786</td>\n",
              "      <td>2769</td>\n",
              "      <td>16</td>\n",
              "      <td>8</td>\n",
              "      <td>11</td>\n",
              "      <td>1</td>\n",
              "      <td>0</td>\n",
              "      <td>0</td>\n",
              "      <td>2</td>\n",
              "    </tr>\n",
              "    <tr>\n",
              "      <th>4</th>\n",
              "      <td>1821</td>\n",
              "      <td>1</td>\n",
              "      <td>1.2</td>\n",
              "      <td>0</td>\n",
              "      <td>13</td>\n",
              "      <td>1</td>\n",
              "      <td>44</td>\n",
              "      <td>0.6</td>\n",
              "      <td>141</td>\n",
              "      <td>2</td>\n",
              "      <td>14</td>\n",
              "      <td>1208</td>\n",
              "      <td>1212</td>\n",
              "      <td>1411</td>\n",
              "      <td>8</td>\n",
              "      <td>2</td>\n",
              "      <td>15</td>\n",
              "      <td>1</td>\n",
              "      <td>1</td>\n",
              "      <td>0</td>\n",
              "      <td>1</td>\n",
              "    </tr>\n",
              "  </tbody>\n",
              "</table>\n",
              "</div>\n",
              "      <button class=\"colab-df-convert\" onclick=\"convertToInteractive('df-1939a2f6-9d4f-4e08-8325-3a3a61171c23')\"\n",
              "              title=\"Convert this dataframe to an interactive table.\"\n",
              "              style=\"display:none;\">\n",
              "        \n",
              "  <svg xmlns=\"http://www.w3.org/2000/svg\" height=\"24px\"viewBox=\"0 0 24 24\"\n",
              "       width=\"24px\">\n",
              "    <path d=\"M0 0h24v24H0V0z\" fill=\"none\"/>\n",
              "    <path d=\"M18.56 5.44l.94 2.06.94-2.06 2.06-.94-2.06-.94-.94-2.06-.94 2.06-2.06.94zm-11 1L8.5 8.5l.94-2.06 2.06-.94-2.06-.94L8.5 2.5l-.94 2.06-2.06.94zm10 10l.94 2.06.94-2.06 2.06-.94-2.06-.94-.94-2.06-.94 2.06-2.06.94z\"/><path d=\"M17.41 7.96l-1.37-1.37c-.4-.4-.92-.59-1.43-.59-.52 0-1.04.2-1.43.59L10.3 9.45l-7.72 7.72c-.78.78-.78 2.05 0 2.83L4 21.41c.39.39.9.59 1.41.59.51 0 1.02-.2 1.41-.59l7.78-7.78 2.81-2.81c.8-.78.8-2.07 0-2.86zM5.41 20L4 18.59l7.72-7.72 1.47 1.35L5.41 20z\"/>\n",
              "  </svg>\n",
              "      </button>\n",
              "      \n",
              "  <style>\n",
              "    .colab-df-container {\n",
              "      display:flex;\n",
              "      flex-wrap:wrap;\n",
              "      gap: 12px;\n",
              "    }\n",
              "\n",
              "    .colab-df-convert {\n",
              "      background-color: #E8F0FE;\n",
              "      border: none;\n",
              "      border-radius: 50%;\n",
              "      cursor: pointer;\n",
              "      display: none;\n",
              "      fill: #1967D2;\n",
              "      height: 32px;\n",
              "      padding: 0 0 0 0;\n",
              "      width: 32px;\n",
              "    }\n",
              "\n",
              "    .colab-df-convert:hover {\n",
              "      background-color: #E2EBFA;\n",
              "      box-shadow: 0px 1px 2px rgba(60, 64, 67, 0.3), 0px 1px 3px 1px rgba(60, 64, 67, 0.15);\n",
              "      fill: #174EA6;\n",
              "    }\n",
              "\n",
              "    [theme=dark] .colab-df-convert {\n",
              "      background-color: #3B4455;\n",
              "      fill: #D2E3FC;\n",
              "    }\n",
              "\n",
              "    [theme=dark] .colab-df-convert:hover {\n",
              "      background-color: #434B5C;\n",
              "      box-shadow: 0px 1px 3px 1px rgba(0, 0, 0, 0.15);\n",
              "      filter: drop-shadow(0px 1px 2px rgba(0, 0, 0, 0.3));\n",
              "      fill: #FFFFFF;\n",
              "    }\n",
              "  </style>\n",
              "\n",
              "      <script>\n",
              "        const buttonEl =\n",
              "          document.querySelector('#df-1939a2f6-9d4f-4e08-8325-3a3a61171c23 button.colab-df-convert');\n",
              "        buttonEl.style.display =\n",
              "          google.colab.kernel.accessAllowed ? 'block' : 'none';\n",
              "\n",
              "        async function convertToInteractive(key) {\n",
              "          const element = document.querySelector('#df-1939a2f6-9d4f-4e08-8325-3a3a61171c23');\n",
              "          const dataTable =\n",
              "            await google.colab.kernel.invokeFunction('convertToInteractive',\n",
              "                                                     [key], {});\n",
              "          if (!dataTable) return;\n",
              "\n",
              "          const docLinkHtml = 'Like what you see? Visit the ' +\n",
              "            '<a target=\"_blank\" href=https://colab.research.google.com/notebooks/data_table.ipynb>data table notebook</a>'\n",
              "            + ' to learn more about interactive tables.';\n",
              "          element.innerHTML = '';\n",
              "          dataTable['output_type'] = 'display_data';\n",
              "          await google.colab.output.renderOutput(dataTable, element);\n",
              "          const docLink = document.createElement('div');\n",
              "          docLink.innerHTML = docLinkHtml;\n",
              "          element.appendChild(docLink);\n",
              "        }\n",
              "      </script>\n",
              "    </div>\n",
              "  </div>\n",
              "  "
            ]
          },
          "metadata": {},
          "execution_count": 6
        }
      ],
      "source": [
        "df.head()"
      ]
    },
    {
      "cell_type": "code",
      "execution_count": 7,
      "id": "0c2d9ff2",
      "metadata": {
        "colab": {
          "base_uri": "https://localhost:8080/",
          "height": 270
        },
        "id": "0c2d9ff2",
        "outputId": "d8420a4e-e8eb-43a0-fbb9-91aee3dc317e"
      },
      "outputs": [
        {
          "output_type": "execute_result",
          "data": {
            "text/plain": [
              "      battery_power  blue  clock_speed  dual_sim  fc  four_g  int_memory  \\\n",
              "1995            794     1          0.5         1   0       1           2   \n",
              "1996           1965     1          2.6         1   0       0          39   \n",
              "1997           1911     0          0.9         1   1       1          36   \n",
              "1998           1512     0          0.9         0   4       1          46   \n",
              "1999            510     1          2.0         1   5       1          45   \n",
              "\n",
              "      m_dep  mobile_wt  n_cores  pc  px_height  px_width   ram  sc_h  sc_w  \\\n",
              "1995    0.8        106        6  14       1222      1890   668    13     4   \n",
              "1996    0.2        187        4   3        915      1965  2032    11    10   \n",
              "1997    0.7        108        8   3        868      1632  3057     9     1   \n",
              "1998    0.1        145        5   5        336       670   869    18    10   \n",
              "1999    0.9        168        6  16        483       754  3919    19     4   \n",
              "\n",
              "      talk_time  three_g  touch_screen  wifi  price_range  \n",
              "1995         19        1             1     0            0  \n",
              "1996         16        1             1     1            2  \n",
              "1997          5        1             1     0            3  \n",
              "1998         19        1             1     1            0  \n",
              "1999          2        1             1     1            3  "
            ],
            "text/html": [
              "\n",
              "  <div id=\"df-d4f0adb3-19a6-4ffb-b23d-26c06323a83a\">\n",
              "    <div class=\"colab-df-container\">\n",
              "      <div>\n",
              "<style scoped>\n",
              "    .dataframe tbody tr th:only-of-type {\n",
              "        vertical-align: middle;\n",
              "    }\n",
              "\n",
              "    .dataframe tbody tr th {\n",
              "        vertical-align: top;\n",
              "    }\n",
              "\n",
              "    .dataframe thead th {\n",
              "        text-align: right;\n",
              "    }\n",
              "</style>\n",
              "<table border=\"1\" class=\"dataframe\">\n",
              "  <thead>\n",
              "    <tr style=\"text-align: right;\">\n",
              "      <th></th>\n",
              "      <th>battery_power</th>\n",
              "      <th>blue</th>\n",
              "      <th>clock_speed</th>\n",
              "      <th>dual_sim</th>\n",
              "      <th>fc</th>\n",
              "      <th>four_g</th>\n",
              "      <th>int_memory</th>\n",
              "      <th>m_dep</th>\n",
              "      <th>mobile_wt</th>\n",
              "      <th>n_cores</th>\n",
              "      <th>pc</th>\n",
              "      <th>px_height</th>\n",
              "      <th>px_width</th>\n",
              "      <th>ram</th>\n",
              "      <th>sc_h</th>\n",
              "      <th>sc_w</th>\n",
              "      <th>talk_time</th>\n",
              "      <th>three_g</th>\n",
              "      <th>touch_screen</th>\n",
              "      <th>wifi</th>\n",
              "      <th>price_range</th>\n",
              "    </tr>\n",
              "  </thead>\n",
              "  <tbody>\n",
              "    <tr>\n",
              "      <th>1995</th>\n",
              "      <td>794</td>\n",
              "      <td>1</td>\n",
              "      <td>0.5</td>\n",
              "      <td>1</td>\n",
              "      <td>0</td>\n",
              "      <td>1</td>\n",
              "      <td>2</td>\n",
              "      <td>0.8</td>\n",
              "      <td>106</td>\n",
              "      <td>6</td>\n",
              "      <td>14</td>\n",
              "      <td>1222</td>\n",
              "      <td>1890</td>\n",
              "      <td>668</td>\n",
              "      <td>13</td>\n",
              "      <td>4</td>\n",
              "      <td>19</td>\n",
              "      <td>1</td>\n",
              "      <td>1</td>\n",
              "      <td>0</td>\n",
              "      <td>0</td>\n",
              "    </tr>\n",
              "    <tr>\n",
              "      <th>1996</th>\n",
              "      <td>1965</td>\n",
              "      <td>1</td>\n",
              "      <td>2.6</td>\n",
              "      <td>1</td>\n",
              "      <td>0</td>\n",
              "      <td>0</td>\n",
              "      <td>39</td>\n",
              "      <td>0.2</td>\n",
              "      <td>187</td>\n",
              "      <td>4</td>\n",
              "      <td>3</td>\n",
              "      <td>915</td>\n",
              "      <td>1965</td>\n",
              "      <td>2032</td>\n",
              "      <td>11</td>\n",
              "      <td>10</td>\n",
              "      <td>16</td>\n",
              "      <td>1</td>\n",
              "      <td>1</td>\n",
              "      <td>1</td>\n",
              "      <td>2</td>\n",
              "    </tr>\n",
              "    <tr>\n",
              "      <th>1997</th>\n",
              "      <td>1911</td>\n",
              "      <td>0</td>\n",
              "      <td>0.9</td>\n",
              "      <td>1</td>\n",
              "      <td>1</td>\n",
              "      <td>1</td>\n",
              "      <td>36</td>\n",
              "      <td>0.7</td>\n",
              "      <td>108</td>\n",
              "      <td>8</td>\n",
              "      <td>3</td>\n",
              "      <td>868</td>\n",
              "      <td>1632</td>\n",
              "      <td>3057</td>\n",
              "      <td>9</td>\n",
              "      <td>1</td>\n",
              "      <td>5</td>\n",
              "      <td>1</td>\n",
              "      <td>1</td>\n",
              "      <td>0</td>\n",
              "      <td>3</td>\n",
              "    </tr>\n",
              "    <tr>\n",
              "      <th>1998</th>\n",
              "      <td>1512</td>\n",
              "      <td>0</td>\n",
              "      <td>0.9</td>\n",
              "      <td>0</td>\n",
              "      <td>4</td>\n",
              "      <td>1</td>\n",
              "      <td>46</td>\n",
              "      <td>0.1</td>\n",
              "      <td>145</td>\n",
              "      <td>5</td>\n",
              "      <td>5</td>\n",
              "      <td>336</td>\n",
              "      <td>670</td>\n",
              "      <td>869</td>\n",
              "      <td>18</td>\n",
              "      <td>10</td>\n",
              "      <td>19</td>\n",
              "      <td>1</td>\n",
              "      <td>1</td>\n",
              "      <td>1</td>\n",
              "      <td>0</td>\n",
              "    </tr>\n",
              "    <tr>\n",
              "      <th>1999</th>\n",
              "      <td>510</td>\n",
              "      <td>1</td>\n",
              "      <td>2.0</td>\n",
              "      <td>1</td>\n",
              "      <td>5</td>\n",
              "      <td>1</td>\n",
              "      <td>45</td>\n",
              "      <td>0.9</td>\n",
              "      <td>168</td>\n",
              "      <td>6</td>\n",
              "      <td>16</td>\n",
              "      <td>483</td>\n",
              "      <td>754</td>\n",
              "      <td>3919</td>\n",
              "      <td>19</td>\n",
              "      <td>4</td>\n",
              "      <td>2</td>\n",
              "      <td>1</td>\n",
              "      <td>1</td>\n",
              "      <td>1</td>\n",
              "      <td>3</td>\n",
              "    </tr>\n",
              "  </tbody>\n",
              "</table>\n",
              "</div>\n",
              "      <button class=\"colab-df-convert\" onclick=\"convertToInteractive('df-d4f0adb3-19a6-4ffb-b23d-26c06323a83a')\"\n",
              "              title=\"Convert this dataframe to an interactive table.\"\n",
              "              style=\"display:none;\">\n",
              "        \n",
              "  <svg xmlns=\"http://www.w3.org/2000/svg\" height=\"24px\"viewBox=\"0 0 24 24\"\n",
              "       width=\"24px\">\n",
              "    <path d=\"M0 0h24v24H0V0z\" fill=\"none\"/>\n",
              "    <path d=\"M18.56 5.44l.94 2.06.94-2.06 2.06-.94-2.06-.94-.94-2.06-.94 2.06-2.06.94zm-11 1L8.5 8.5l.94-2.06 2.06-.94-2.06-.94L8.5 2.5l-.94 2.06-2.06.94zm10 10l.94 2.06.94-2.06 2.06-.94-2.06-.94-.94-2.06-.94 2.06-2.06.94z\"/><path d=\"M17.41 7.96l-1.37-1.37c-.4-.4-.92-.59-1.43-.59-.52 0-1.04.2-1.43.59L10.3 9.45l-7.72 7.72c-.78.78-.78 2.05 0 2.83L4 21.41c.39.39.9.59 1.41.59.51 0 1.02-.2 1.41-.59l7.78-7.78 2.81-2.81c.8-.78.8-2.07 0-2.86zM5.41 20L4 18.59l7.72-7.72 1.47 1.35L5.41 20z\"/>\n",
              "  </svg>\n",
              "      </button>\n",
              "      \n",
              "  <style>\n",
              "    .colab-df-container {\n",
              "      display:flex;\n",
              "      flex-wrap:wrap;\n",
              "      gap: 12px;\n",
              "    }\n",
              "\n",
              "    .colab-df-convert {\n",
              "      background-color: #E8F0FE;\n",
              "      border: none;\n",
              "      border-radius: 50%;\n",
              "      cursor: pointer;\n",
              "      display: none;\n",
              "      fill: #1967D2;\n",
              "      height: 32px;\n",
              "      padding: 0 0 0 0;\n",
              "      width: 32px;\n",
              "    }\n",
              "\n",
              "    .colab-df-convert:hover {\n",
              "      background-color: #E2EBFA;\n",
              "      box-shadow: 0px 1px 2px rgba(60, 64, 67, 0.3), 0px 1px 3px 1px rgba(60, 64, 67, 0.15);\n",
              "      fill: #174EA6;\n",
              "    }\n",
              "\n",
              "    [theme=dark] .colab-df-convert {\n",
              "      background-color: #3B4455;\n",
              "      fill: #D2E3FC;\n",
              "    }\n",
              "\n",
              "    [theme=dark] .colab-df-convert:hover {\n",
              "      background-color: #434B5C;\n",
              "      box-shadow: 0px 1px 3px 1px rgba(0, 0, 0, 0.15);\n",
              "      filter: drop-shadow(0px 1px 2px rgba(0, 0, 0, 0.3));\n",
              "      fill: #FFFFFF;\n",
              "    }\n",
              "  </style>\n",
              "\n",
              "      <script>\n",
              "        const buttonEl =\n",
              "          document.querySelector('#df-d4f0adb3-19a6-4ffb-b23d-26c06323a83a button.colab-df-convert');\n",
              "        buttonEl.style.display =\n",
              "          google.colab.kernel.accessAllowed ? 'block' : 'none';\n",
              "\n",
              "        async function convertToInteractive(key) {\n",
              "          const element = document.querySelector('#df-d4f0adb3-19a6-4ffb-b23d-26c06323a83a');\n",
              "          const dataTable =\n",
              "            await google.colab.kernel.invokeFunction('convertToInteractive',\n",
              "                                                     [key], {});\n",
              "          if (!dataTable) return;\n",
              "\n",
              "          const docLinkHtml = 'Like what you see? Visit the ' +\n",
              "            '<a target=\"_blank\" href=https://colab.research.google.com/notebooks/data_table.ipynb>data table notebook</a>'\n",
              "            + ' to learn more about interactive tables.';\n",
              "          element.innerHTML = '';\n",
              "          dataTable['output_type'] = 'display_data';\n",
              "          await google.colab.output.renderOutput(dataTable, element);\n",
              "          const docLink = document.createElement('div');\n",
              "          docLink.innerHTML = docLinkHtml;\n",
              "          element.appendChild(docLink);\n",
              "        }\n",
              "      </script>\n",
              "    </div>\n",
              "  </div>\n",
              "  "
            ]
          },
          "metadata": {},
          "execution_count": 7
        }
      ],
      "source": [
        "df.tail()"
      ]
    },
    {
      "cell_type": "code",
      "execution_count": 8,
      "id": "1f2d2467",
      "metadata": {
        "colab": {
          "base_uri": "https://localhost:8080/"
        },
        "id": "1f2d2467",
        "outputId": "39df32cb-6b6c-4390-dfce-3bece0b102db"
      },
      "outputs": [
        {
          "output_type": "execute_result",
          "data": {
            "text/plain": [
              "(2000, 21)"
            ]
          },
          "metadata": {},
          "execution_count": 8
        }
      ],
      "source": [
        "df.shape"
      ]
    },
    {
      "cell_type": "code",
      "execution_count": 9,
      "id": "d3608b30",
      "metadata": {
        "colab": {
          "base_uri": "https://localhost:8080/"
        },
        "id": "d3608b30",
        "outputId": "7e88f5ff-b0d5-4b30-8820-152d13951a87"
      },
      "outputs": [
        {
          "output_type": "stream",
          "name": "stdout",
          "text": [
            "<class 'pandas.core.frame.DataFrame'>\n",
            "RangeIndex: 2000 entries, 0 to 1999\n",
            "Data columns (total 21 columns):\n",
            " #   Column         Non-Null Count  Dtype  \n",
            "---  ------         --------------  -----  \n",
            " 0   battery_power  2000 non-null   int64  \n",
            " 1   blue           2000 non-null   int64  \n",
            " 2   clock_speed    2000 non-null   float64\n",
            " 3   dual_sim       2000 non-null   int64  \n",
            " 4   fc             2000 non-null   int64  \n",
            " 5   four_g         2000 non-null   int64  \n",
            " 6   int_memory     2000 non-null   int64  \n",
            " 7   m_dep          2000 non-null   float64\n",
            " 8   mobile_wt      2000 non-null   int64  \n",
            " 9   n_cores        2000 non-null   int64  \n",
            " 10  pc             2000 non-null   int64  \n",
            " 11  px_height      2000 non-null   int64  \n",
            " 12  px_width       2000 non-null   int64  \n",
            " 13  ram            2000 non-null   int64  \n",
            " 14  sc_h           2000 non-null   int64  \n",
            " 15  sc_w           2000 non-null   int64  \n",
            " 16  talk_time      2000 non-null   int64  \n",
            " 17  three_g        2000 non-null   int64  \n",
            " 18  touch_screen   2000 non-null   int64  \n",
            " 19  wifi           2000 non-null   int64  \n",
            " 20  price_range    2000 non-null   int64  \n",
            "dtypes: float64(2), int64(19)\n",
            "memory usage: 328.2 KB\n"
          ]
        }
      ],
      "source": [
        "df.info()       ## To see dtypes of diff. variables"
      ]
    },
    {
      "cell_type": "markdown",
      "id": "c2f28ae2",
      "metadata": {
        "id": "c2f28ae2"
      },
      "source": [
        "# Data Cleaning"
      ]
    },
    {
      "cell_type": "code",
      "execution_count": 10,
      "id": "17fe5987",
      "metadata": {
        "colab": {
          "base_uri": "https://localhost:8080/"
        },
        "id": "17fe5987",
        "outputId": "5d02d85c-b409-42d6-aa46-2b9379e9b037"
      },
      "outputs": [
        {
          "output_type": "execute_result",
          "data": {
            "text/plain": [
              "battery_power    0\n",
              "blue             0\n",
              "clock_speed      0\n",
              "dual_sim         0\n",
              "fc               0\n",
              "four_g           0\n",
              "int_memory       0\n",
              "m_dep            0\n",
              "mobile_wt        0\n",
              "n_cores          0\n",
              "pc               0\n",
              "px_height        0\n",
              "px_width         0\n",
              "ram              0\n",
              "sc_h             0\n",
              "sc_w             0\n",
              "talk_time        0\n",
              "three_g          0\n",
              "touch_screen     0\n",
              "wifi             0\n",
              "price_range      0\n",
              "dtype: int64"
            ]
          },
          "metadata": {},
          "execution_count": 10
        }
      ],
      "source": [
        "df.isnull().sum()           ## Checking for null values"
      ]
    },
    {
      "cell_type": "code",
      "execution_count": 11,
      "id": "4073b0c1",
      "metadata": {
        "id": "4073b0c1"
      },
      "outputs": [],
      "source": [
        "df.drop_duplicates(keep='first',inplace=True)    ## Dropping duplicate values if any:"
      ]
    },
    {
      "cell_type": "code",
      "execution_count": 12,
      "id": "9591cc69",
      "metadata": {
        "colab": {
          "base_uri": "https://localhost:8080/"
        },
        "id": "9591cc69",
        "outputId": "29588e58-9983-42d6-cf79-34c7f3035c62"
      },
      "outputs": [
        {
          "output_type": "execute_result",
          "data": {
            "text/plain": [
              "(2000, 21)"
            ]
          },
          "metadata": {},
          "execution_count": 12
        }
      ],
      "source": [
        "df.shape"
      ]
    },
    {
      "cell_type": "markdown",
      "id": "0e5010a1",
      "metadata": {
        "id": "0e5010a1"
      },
      "source": [
        "# *Insight 1*: Neither any duplicates nor any null values present in the dataset"
      ]
    },
    {
      "cell_type": "code",
      "execution_count": 13,
      "id": "2e9eebd4",
      "metadata": {
        "colab": {
          "base_uri": "https://localhost:8080/",
          "height": 708
        },
        "id": "2e9eebd4",
        "outputId": "2d5ac946-5fd8-45f7-9f58-4486aae7d61d"
      },
      "outputs": [
        {
          "output_type": "execute_result",
          "data": {
            "text/plain": [
              "                count        mean          std    min      25%     50%  \\\n",
              "battery_power  2000.0  1238.51850   439.418206  501.0   851.75  1226.0   \n",
              "blue           2000.0     0.49500     0.500100    0.0     0.00     0.0   \n",
              "clock_speed    2000.0     1.52225     0.816004    0.5     0.70     1.5   \n",
              "dual_sim       2000.0     0.50950     0.500035    0.0     0.00     1.0   \n",
              "fc             2000.0     4.30950     4.341444    0.0     1.00     3.0   \n",
              "four_g         2000.0     0.52150     0.499662    0.0     0.00     1.0   \n",
              "int_memory     2000.0    32.04650    18.145715    2.0    16.00    32.0   \n",
              "m_dep          2000.0     0.50175     0.288416    0.1     0.20     0.5   \n",
              "mobile_wt      2000.0   140.24900    35.399655   80.0   109.00   141.0   \n",
              "n_cores        2000.0     4.52050     2.287837    1.0     3.00     4.0   \n",
              "pc             2000.0     9.91650     6.064315    0.0     5.00    10.0   \n",
              "px_height      2000.0   645.10800   443.780811    0.0   282.75   564.0   \n",
              "px_width       2000.0  1251.51550   432.199447  500.0   874.75  1247.0   \n",
              "ram            2000.0  2124.21300  1084.732044  256.0  1207.50  2146.5   \n",
              "sc_h           2000.0    12.30650     4.213245    5.0     9.00    12.0   \n",
              "sc_w           2000.0     5.76700     4.356398    0.0     2.00     5.0   \n",
              "talk_time      2000.0    11.01100     5.463955    2.0     6.00    11.0   \n",
              "three_g        2000.0     0.76150     0.426273    0.0     1.00     1.0   \n",
              "touch_screen   2000.0     0.50300     0.500116    0.0     0.00     1.0   \n",
              "wifi           2000.0     0.50700     0.500076    0.0     0.00     1.0   \n",
              "price_range    2000.0     1.50000     1.118314    0.0     0.75     1.5   \n",
              "\n",
              "                   75%     max  \n",
              "battery_power  1615.25  1998.0  \n",
              "blue              1.00     1.0  \n",
              "clock_speed       2.20     3.0  \n",
              "dual_sim          1.00     1.0  \n",
              "fc                7.00    19.0  \n",
              "four_g            1.00     1.0  \n",
              "int_memory       48.00    64.0  \n",
              "m_dep             0.80     1.0  \n",
              "mobile_wt       170.00   200.0  \n",
              "n_cores           7.00     8.0  \n",
              "pc               15.00    20.0  \n",
              "px_height       947.25  1960.0  \n",
              "px_width       1633.00  1998.0  \n",
              "ram            3064.50  3998.0  \n",
              "sc_h             16.00    19.0  \n",
              "sc_w              9.00    18.0  \n",
              "talk_time        16.00    20.0  \n",
              "three_g           1.00     1.0  \n",
              "touch_screen      1.00     1.0  \n",
              "wifi              1.00     1.0  \n",
              "price_range       2.25     3.0  "
            ],
            "text/html": [
              "\n",
              "  <div id=\"df-6b2e418a-a10c-4635-928f-c978d57cd371\">\n",
              "    <div class=\"colab-df-container\">\n",
              "      <div>\n",
              "<style scoped>\n",
              "    .dataframe tbody tr th:only-of-type {\n",
              "        vertical-align: middle;\n",
              "    }\n",
              "\n",
              "    .dataframe tbody tr th {\n",
              "        vertical-align: top;\n",
              "    }\n",
              "\n",
              "    .dataframe thead th {\n",
              "        text-align: right;\n",
              "    }\n",
              "</style>\n",
              "<table border=\"1\" class=\"dataframe\">\n",
              "  <thead>\n",
              "    <tr style=\"text-align: right;\">\n",
              "      <th></th>\n",
              "      <th>count</th>\n",
              "      <th>mean</th>\n",
              "      <th>std</th>\n",
              "      <th>min</th>\n",
              "      <th>25%</th>\n",
              "      <th>50%</th>\n",
              "      <th>75%</th>\n",
              "      <th>max</th>\n",
              "    </tr>\n",
              "  </thead>\n",
              "  <tbody>\n",
              "    <tr>\n",
              "      <th>battery_power</th>\n",
              "      <td>2000.0</td>\n",
              "      <td>1238.51850</td>\n",
              "      <td>439.418206</td>\n",
              "      <td>501.0</td>\n",
              "      <td>851.75</td>\n",
              "      <td>1226.0</td>\n",
              "      <td>1615.25</td>\n",
              "      <td>1998.0</td>\n",
              "    </tr>\n",
              "    <tr>\n",
              "      <th>blue</th>\n",
              "      <td>2000.0</td>\n",
              "      <td>0.49500</td>\n",
              "      <td>0.500100</td>\n",
              "      <td>0.0</td>\n",
              "      <td>0.00</td>\n",
              "      <td>0.0</td>\n",
              "      <td>1.00</td>\n",
              "      <td>1.0</td>\n",
              "    </tr>\n",
              "    <tr>\n",
              "      <th>clock_speed</th>\n",
              "      <td>2000.0</td>\n",
              "      <td>1.52225</td>\n",
              "      <td>0.816004</td>\n",
              "      <td>0.5</td>\n",
              "      <td>0.70</td>\n",
              "      <td>1.5</td>\n",
              "      <td>2.20</td>\n",
              "      <td>3.0</td>\n",
              "    </tr>\n",
              "    <tr>\n",
              "      <th>dual_sim</th>\n",
              "      <td>2000.0</td>\n",
              "      <td>0.50950</td>\n",
              "      <td>0.500035</td>\n",
              "      <td>0.0</td>\n",
              "      <td>0.00</td>\n",
              "      <td>1.0</td>\n",
              "      <td>1.00</td>\n",
              "      <td>1.0</td>\n",
              "    </tr>\n",
              "    <tr>\n",
              "      <th>fc</th>\n",
              "      <td>2000.0</td>\n",
              "      <td>4.30950</td>\n",
              "      <td>4.341444</td>\n",
              "      <td>0.0</td>\n",
              "      <td>1.00</td>\n",
              "      <td>3.0</td>\n",
              "      <td>7.00</td>\n",
              "      <td>19.0</td>\n",
              "    </tr>\n",
              "    <tr>\n",
              "      <th>four_g</th>\n",
              "      <td>2000.0</td>\n",
              "      <td>0.52150</td>\n",
              "      <td>0.499662</td>\n",
              "      <td>0.0</td>\n",
              "      <td>0.00</td>\n",
              "      <td>1.0</td>\n",
              "      <td>1.00</td>\n",
              "      <td>1.0</td>\n",
              "    </tr>\n",
              "    <tr>\n",
              "      <th>int_memory</th>\n",
              "      <td>2000.0</td>\n",
              "      <td>32.04650</td>\n",
              "      <td>18.145715</td>\n",
              "      <td>2.0</td>\n",
              "      <td>16.00</td>\n",
              "      <td>32.0</td>\n",
              "      <td>48.00</td>\n",
              "      <td>64.0</td>\n",
              "    </tr>\n",
              "    <tr>\n",
              "      <th>m_dep</th>\n",
              "      <td>2000.0</td>\n",
              "      <td>0.50175</td>\n",
              "      <td>0.288416</td>\n",
              "      <td>0.1</td>\n",
              "      <td>0.20</td>\n",
              "      <td>0.5</td>\n",
              "      <td>0.80</td>\n",
              "      <td>1.0</td>\n",
              "    </tr>\n",
              "    <tr>\n",
              "      <th>mobile_wt</th>\n",
              "      <td>2000.0</td>\n",
              "      <td>140.24900</td>\n",
              "      <td>35.399655</td>\n",
              "      <td>80.0</td>\n",
              "      <td>109.00</td>\n",
              "      <td>141.0</td>\n",
              "      <td>170.00</td>\n",
              "      <td>200.0</td>\n",
              "    </tr>\n",
              "    <tr>\n",
              "      <th>n_cores</th>\n",
              "      <td>2000.0</td>\n",
              "      <td>4.52050</td>\n",
              "      <td>2.287837</td>\n",
              "      <td>1.0</td>\n",
              "      <td>3.00</td>\n",
              "      <td>4.0</td>\n",
              "      <td>7.00</td>\n",
              "      <td>8.0</td>\n",
              "    </tr>\n",
              "    <tr>\n",
              "      <th>pc</th>\n",
              "      <td>2000.0</td>\n",
              "      <td>9.91650</td>\n",
              "      <td>6.064315</td>\n",
              "      <td>0.0</td>\n",
              "      <td>5.00</td>\n",
              "      <td>10.0</td>\n",
              "      <td>15.00</td>\n",
              "      <td>20.0</td>\n",
              "    </tr>\n",
              "    <tr>\n",
              "      <th>px_height</th>\n",
              "      <td>2000.0</td>\n",
              "      <td>645.10800</td>\n",
              "      <td>443.780811</td>\n",
              "      <td>0.0</td>\n",
              "      <td>282.75</td>\n",
              "      <td>564.0</td>\n",
              "      <td>947.25</td>\n",
              "      <td>1960.0</td>\n",
              "    </tr>\n",
              "    <tr>\n",
              "      <th>px_width</th>\n",
              "      <td>2000.0</td>\n",
              "      <td>1251.51550</td>\n",
              "      <td>432.199447</td>\n",
              "      <td>500.0</td>\n",
              "      <td>874.75</td>\n",
              "      <td>1247.0</td>\n",
              "      <td>1633.00</td>\n",
              "      <td>1998.0</td>\n",
              "    </tr>\n",
              "    <tr>\n",
              "      <th>ram</th>\n",
              "      <td>2000.0</td>\n",
              "      <td>2124.21300</td>\n",
              "      <td>1084.732044</td>\n",
              "      <td>256.0</td>\n",
              "      <td>1207.50</td>\n",
              "      <td>2146.5</td>\n",
              "      <td>3064.50</td>\n",
              "      <td>3998.0</td>\n",
              "    </tr>\n",
              "    <tr>\n",
              "      <th>sc_h</th>\n",
              "      <td>2000.0</td>\n",
              "      <td>12.30650</td>\n",
              "      <td>4.213245</td>\n",
              "      <td>5.0</td>\n",
              "      <td>9.00</td>\n",
              "      <td>12.0</td>\n",
              "      <td>16.00</td>\n",
              "      <td>19.0</td>\n",
              "    </tr>\n",
              "    <tr>\n",
              "      <th>sc_w</th>\n",
              "      <td>2000.0</td>\n",
              "      <td>5.76700</td>\n",
              "      <td>4.356398</td>\n",
              "      <td>0.0</td>\n",
              "      <td>2.00</td>\n",
              "      <td>5.0</td>\n",
              "      <td>9.00</td>\n",
              "      <td>18.0</td>\n",
              "    </tr>\n",
              "    <tr>\n",
              "      <th>talk_time</th>\n",
              "      <td>2000.0</td>\n",
              "      <td>11.01100</td>\n",
              "      <td>5.463955</td>\n",
              "      <td>2.0</td>\n",
              "      <td>6.00</td>\n",
              "      <td>11.0</td>\n",
              "      <td>16.00</td>\n",
              "      <td>20.0</td>\n",
              "    </tr>\n",
              "    <tr>\n",
              "      <th>three_g</th>\n",
              "      <td>2000.0</td>\n",
              "      <td>0.76150</td>\n",
              "      <td>0.426273</td>\n",
              "      <td>0.0</td>\n",
              "      <td>1.00</td>\n",
              "      <td>1.0</td>\n",
              "      <td>1.00</td>\n",
              "      <td>1.0</td>\n",
              "    </tr>\n",
              "    <tr>\n",
              "      <th>touch_screen</th>\n",
              "      <td>2000.0</td>\n",
              "      <td>0.50300</td>\n",
              "      <td>0.500116</td>\n",
              "      <td>0.0</td>\n",
              "      <td>0.00</td>\n",
              "      <td>1.0</td>\n",
              "      <td>1.00</td>\n",
              "      <td>1.0</td>\n",
              "    </tr>\n",
              "    <tr>\n",
              "      <th>wifi</th>\n",
              "      <td>2000.0</td>\n",
              "      <td>0.50700</td>\n",
              "      <td>0.500076</td>\n",
              "      <td>0.0</td>\n",
              "      <td>0.00</td>\n",
              "      <td>1.0</td>\n",
              "      <td>1.00</td>\n",
              "      <td>1.0</td>\n",
              "    </tr>\n",
              "    <tr>\n",
              "      <th>price_range</th>\n",
              "      <td>2000.0</td>\n",
              "      <td>1.50000</td>\n",
              "      <td>1.118314</td>\n",
              "      <td>0.0</td>\n",
              "      <td>0.75</td>\n",
              "      <td>1.5</td>\n",
              "      <td>2.25</td>\n",
              "      <td>3.0</td>\n",
              "    </tr>\n",
              "  </tbody>\n",
              "</table>\n",
              "</div>\n",
              "      <button class=\"colab-df-convert\" onclick=\"convertToInteractive('df-6b2e418a-a10c-4635-928f-c978d57cd371')\"\n",
              "              title=\"Convert this dataframe to an interactive table.\"\n",
              "              style=\"display:none;\">\n",
              "        \n",
              "  <svg xmlns=\"http://www.w3.org/2000/svg\" height=\"24px\"viewBox=\"0 0 24 24\"\n",
              "       width=\"24px\">\n",
              "    <path d=\"M0 0h24v24H0V0z\" fill=\"none\"/>\n",
              "    <path d=\"M18.56 5.44l.94 2.06.94-2.06 2.06-.94-2.06-.94-.94-2.06-.94 2.06-2.06.94zm-11 1L8.5 8.5l.94-2.06 2.06-.94-2.06-.94L8.5 2.5l-.94 2.06-2.06.94zm10 10l.94 2.06.94-2.06 2.06-.94-2.06-.94-.94-2.06-.94 2.06-2.06.94z\"/><path d=\"M17.41 7.96l-1.37-1.37c-.4-.4-.92-.59-1.43-.59-.52 0-1.04.2-1.43.59L10.3 9.45l-7.72 7.72c-.78.78-.78 2.05 0 2.83L4 21.41c.39.39.9.59 1.41.59.51 0 1.02-.2 1.41-.59l7.78-7.78 2.81-2.81c.8-.78.8-2.07 0-2.86zM5.41 20L4 18.59l7.72-7.72 1.47 1.35L5.41 20z\"/>\n",
              "  </svg>\n",
              "      </button>\n",
              "      \n",
              "  <style>\n",
              "    .colab-df-container {\n",
              "      display:flex;\n",
              "      flex-wrap:wrap;\n",
              "      gap: 12px;\n",
              "    }\n",
              "\n",
              "    .colab-df-convert {\n",
              "      background-color: #E8F0FE;\n",
              "      border: none;\n",
              "      border-radius: 50%;\n",
              "      cursor: pointer;\n",
              "      display: none;\n",
              "      fill: #1967D2;\n",
              "      height: 32px;\n",
              "      padding: 0 0 0 0;\n",
              "      width: 32px;\n",
              "    }\n",
              "\n",
              "    .colab-df-convert:hover {\n",
              "      background-color: #E2EBFA;\n",
              "      box-shadow: 0px 1px 2px rgba(60, 64, 67, 0.3), 0px 1px 3px 1px rgba(60, 64, 67, 0.15);\n",
              "      fill: #174EA6;\n",
              "    }\n",
              "\n",
              "    [theme=dark] .colab-df-convert {\n",
              "      background-color: #3B4455;\n",
              "      fill: #D2E3FC;\n",
              "    }\n",
              "\n",
              "    [theme=dark] .colab-df-convert:hover {\n",
              "      background-color: #434B5C;\n",
              "      box-shadow: 0px 1px 3px 1px rgba(0, 0, 0, 0.15);\n",
              "      filter: drop-shadow(0px 1px 2px rgba(0, 0, 0, 0.3));\n",
              "      fill: #FFFFFF;\n",
              "    }\n",
              "  </style>\n",
              "\n",
              "      <script>\n",
              "        const buttonEl =\n",
              "          document.querySelector('#df-6b2e418a-a10c-4635-928f-c978d57cd371 button.colab-df-convert');\n",
              "        buttonEl.style.display =\n",
              "          google.colab.kernel.accessAllowed ? 'block' : 'none';\n",
              "\n",
              "        async function convertToInteractive(key) {\n",
              "          const element = document.querySelector('#df-6b2e418a-a10c-4635-928f-c978d57cd371');\n",
              "          const dataTable =\n",
              "            await google.colab.kernel.invokeFunction('convertToInteractive',\n",
              "                                                     [key], {});\n",
              "          if (!dataTable) return;\n",
              "\n",
              "          const docLinkHtml = 'Like what you see? Visit the ' +\n",
              "            '<a target=\"_blank\" href=https://colab.research.google.com/notebooks/data_table.ipynb>data table notebook</a>'\n",
              "            + ' to learn more about interactive tables.';\n",
              "          element.innerHTML = '';\n",
              "          dataTable['output_type'] = 'display_data';\n",
              "          await google.colab.output.renderOutput(dataTable, element);\n",
              "          const docLink = document.createElement('div');\n",
              "          docLink.innerHTML = docLinkHtml;\n",
              "          element.appendChild(docLink);\n",
              "        }\n",
              "      </script>\n",
              "    </div>\n",
              "  </div>\n",
              "  "
            ]
          },
          "metadata": {},
          "execution_count": 13
        }
      ],
      "source": [
        "df.describe().T                                    ## Describing Numerical Attributes"
      ]
    },
    {
      "cell_type": "code",
      "execution_count": 14,
      "id": "3452cd2a",
      "metadata": {
        "colab": {
          "base_uri": "https://localhost:8080/",
          "height": 708
        },
        "id": "3452cd2a",
        "outputId": "dee3db8b-0eae-4fc2-95db-6d65024786c2"
      },
      "outputs": [
        {
          "output_type": "execute_result",
          "data": {
            "text/plain": [
              "      column_name\n",
              "0   battery_power\n",
              "1            blue\n",
              "2     clock_speed\n",
              "3        dual_sim\n",
              "4              fc\n",
              "5          four_g\n",
              "6      int_memory\n",
              "7           m_dep\n",
              "8       mobile_wt\n",
              "9         n_cores\n",
              "10             pc\n",
              "11      px_height\n",
              "12       px_width\n",
              "13            ram\n",
              "14           sc_h\n",
              "15           sc_w\n",
              "16      talk_time\n",
              "17        three_g\n",
              "18   touch_screen\n",
              "19           wifi\n",
              "20    price_range"
            ],
            "text/html": [
              "\n",
              "  <div id=\"df-6d3cbb96-8dea-4dc6-9414-bb29fca22b13\">\n",
              "    <div class=\"colab-df-container\">\n",
              "      <div>\n",
              "<style scoped>\n",
              "    .dataframe tbody tr th:only-of-type {\n",
              "        vertical-align: middle;\n",
              "    }\n",
              "\n",
              "    .dataframe tbody tr th {\n",
              "        vertical-align: top;\n",
              "    }\n",
              "\n",
              "    .dataframe thead th {\n",
              "        text-align: right;\n",
              "    }\n",
              "</style>\n",
              "<table border=\"1\" class=\"dataframe\">\n",
              "  <thead>\n",
              "    <tr style=\"text-align: right;\">\n",
              "      <th></th>\n",
              "      <th>column_name</th>\n",
              "    </tr>\n",
              "  </thead>\n",
              "  <tbody>\n",
              "    <tr>\n",
              "      <th>0</th>\n",
              "      <td>battery_power</td>\n",
              "    </tr>\n",
              "    <tr>\n",
              "      <th>1</th>\n",
              "      <td>blue</td>\n",
              "    </tr>\n",
              "    <tr>\n",
              "      <th>2</th>\n",
              "      <td>clock_speed</td>\n",
              "    </tr>\n",
              "    <tr>\n",
              "      <th>3</th>\n",
              "      <td>dual_sim</td>\n",
              "    </tr>\n",
              "    <tr>\n",
              "      <th>4</th>\n",
              "      <td>fc</td>\n",
              "    </tr>\n",
              "    <tr>\n",
              "      <th>5</th>\n",
              "      <td>four_g</td>\n",
              "    </tr>\n",
              "    <tr>\n",
              "      <th>6</th>\n",
              "      <td>int_memory</td>\n",
              "    </tr>\n",
              "    <tr>\n",
              "      <th>7</th>\n",
              "      <td>m_dep</td>\n",
              "    </tr>\n",
              "    <tr>\n",
              "      <th>8</th>\n",
              "      <td>mobile_wt</td>\n",
              "    </tr>\n",
              "    <tr>\n",
              "      <th>9</th>\n",
              "      <td>n_cores</td>\n",
              "    </tr>\n",
              "    <tr>\n",
              "      <th>10</th>\n",
              "      <td>pc</td>\n",
              "    </tr>\n",
              "    <tr>\n",
              "      <th>11</th>\n",
              "      <td>px_height</td>\n",
              "    </tr>\n",
              "    <tr>\n",
              "      <th>12</th>\n",
              "      <td>px_width</td>\n",
              "    </tr>\n",
              "    <tr>\n",
              "      <th>13</th>\n",
              "      <td>ram</td>\n",
              "    </tr>\n",
              "    <tr>\n",
              "      <th>14</th>\n",
              "      <td>sc_h</td>\n",
              "    </tr>\n",
              "    <tr>\n",
              "      <th>15</th>\n",
              "      <td>sc_w</td>\n",
              "    </tr>\n",
              "    <tr>\n",
              "      <th>16</th>\n",
              "      <td>talk_time</td>\n",
              "    </tr>\n",
              "    <tr>\n",
              "      <th>17</th>\n",
              "      <td>three_g</td>\n",
              "    </tr>\n",
              "    <tr>\n",
              "      <th>18</th>\n",
              "      <td>touch_screen</td>\n",
              "    </tr>\n",
              "    <tr>\n",
              "      <th>19</th>\n",
              "      <td>wifi</td>\n",
              "    </tr>\n",
              "    <tr>\n",
              "      <th>20</th>\n",
              "      <td>price_range</td>\n",
              "    </tr>\n",
              "  </tbody>\n",
              "</table>\n",
              "</div>\n",
              "      <button class=\"colab-df-convert\" onclick=\"convertToInteractive('df-6d3cbb96-8dea-4dc6-9414-bb29fca22b13')\"\n",
              "              title=\"Convert this dataframe to an interactive table.\"\n",
              "              style=\"display:none;\">\n",
              "        \n",
              "  <svg xmlns=\"http://www.w3.org/2000/svg\" height=\"24px\"viewBox=\"0 0 24 24\"\n",
              "       width=\"24px\">\n",
              "    <path d=\"M0 0h24v24H0V0z\" fill=\"none\"/>\n",
              "    <path d=\"M18.56 5.44l.94 2.06.94-2.06 2.06-.94-2.06-.94-.94-2.06-.94 2.06-2.06.94zm-11 1L8.5 8.5l.94-2.06 2.06-.94-2.06-.94L8.5 2.5l-.94 2.06-2.06.94zm10 10l.94 2.06.94-2.06 2.06-.94-2.06-.94-.94-2.06-.94 2.06-2.06.94z\"/><path d=\"M17.41 7.96l-1.37-1.37c-.4-.4-.92-.59-1.43-.59-.52 0-1.04.2-1.43.59L10.3 9.45l-7.72 7.72c-.78.78-.78 2.05 0 2.83L4 21.41c.39.39.9.59 1.41.59.51 0 1.02-.2 1.41-.59l7.78-7.78 2.81-2.81c.8-.78.8-2.07 0-2.86zM5.41 20L4 18.59l7.72-7.72 1.47 1.35L5.41 20z\"/>\n",
              "  </svg>\n",
              "      </button>\n",
              "      \n",
              "  <style>\n",
              "    .colab-df-container {\n",
              "      display:flex;\n",
              "      flex-wrap:wrap;\n",
              "      gap: 12px;\n",
              "    }\n",
              "\n",
              "    .colab-df-convert {\n",
              "      background-color: #E8F0FE;\n",
              "      border: none;\n",
              "      border-radius: 50%;\n",
              "      cursor: pointer;\n",
              "      display: none;\n",
              "      fill: #1967D2;\n",
              "      height: 32px;\n",
              "      padding: 0 0 0 0;\n",
              "      width: 32px;\n",
              "    }\n",
              "\n",
              "    .colab-df-convert:hover {\n",
              "      background-color: #E2EBFA;\n",
              "      box-shadow: 0px 1px 2px rgba(60, 64, 67, 0.3), 0px 1px 3px 1px rgba(60, 64, 67, 0.15);\n",
              "      fill: #174EA6;\n",
              "    }\n",
              "\n",
              "    [theme=dark] .colab-df-convert {\n",
              "      background-color: #3B4455;\n",
              "      fill: #D2E3FC;\n",
              "    }\n",
              "\n",
              "    [theme=dark] .colab-df-convert:hover {\n",
              "      background-color: #434B5C;\n",
              "      box-shadow: 0px 1px 3px 1px rgba(0, 0, 0, 0.15);\n",
              "      filter: drop-shadow(0px 1px 2px rgba(0, 0, 0, 0.3));\n",
              "      fill: #FFFFFF;\n",
              "    }\n",
              "  </style>\n",
              "\n",
              "      <script>\n",
              "        const buttonEl =\n",
              "          document.querySelector('#df-6d3cbb96-8dea-4dc6-9414-bb29fca22b13 button.colab-df-convert');\n",
              "        buttonEl.style.display =\n",
              "          google.colab.kernel.accessAllowed ? 'block' : 'none';\n",
              "\n",
              "        async function convertToInteractive(key) {\n",
              "          const element = document.querySelector('#df-6d3cbb96-8dea-4dc6-9414-bb29fca22b13');\n",
              "          const dataTable =\n",
              "            await google.colab.kernel.invokeFunction('convertToInteractive',\n",
              "                                                     [key], {});\n",
              "          if (!dataTable) return;\n",
              "\n",
              "          const docLinkHtml = 'Like what you see? Visit the ' +\n",
              "            '<a target=\"_blank\" href=https://colab.research.google.com/notebooks/data_table.ipynb>data table notebook</a>'\n",
              "            + ' to learn more about interactive tables.';\n",
              "          element.innerHTML = '';\n",
              "          dataTable['output_type'] = 'display_data';\n",
              "          await google.colab.output.renderOutput(dataTable, element);\n",
              "          const docLink = document.createElement('div');\n",
              "          docLink.innerHTML = docLinkHtml;\n",
              "          element.appendChild(docLink);\n",
              "        }\n",
              "      </script>\n",
              "    </div>\n",
              "  </div>\n",
              "  "
            ]
          },
          "metadata": {},
          "execution_count": 14
        }
      ],
      "source": [
        "pd.DataFrame(df.columns).rename({0:'column_name'},axis=1)      ## Column Names"
      ]
    },
    {
      "cell_type": "code",
      "execution_count": 15,
      "id": "90369915",
      "metadata": {
        "colab": {
          "base_uri": "https://localhost:8080/"
        },
        "id": "90369915",
        "outputId": "a990ceee-880d-4821-8200-337cee6b9dfe"
      },
      "outputs": [
        {
          "output_type": "execute_result",
          "data": {
            "text/plain": [
              "21"
            ]
          },
          "metadata": {},
          "execution_count": 15
        }
      ],
      "source": [
        "len(df.columns)           ## Total no. of columns"
      ]
    },
    {
      "cell_type": "markdown",
      "id": "cb031dd9",
      "metadata": {
        "id": "cb031dd9"
      },
      "source": []
    },
    {
      "cell_type": "code",
      "execution_count": 16,
      "id": "5ffac647",
      "metadata": {
        "colab": {
          "base_uri": "https://localhost:8080/"
        },
        "id": "5ffac647",
        "outputId": "f34cd801-1bf8-4aeb-c390-42028662f6d9"
      },
      "outputs": [
        {
          "output_type": "execute_result",
          "data": {
            "text/plain": [
              "battery_power    1094\n",
              "blue                2\n",
              "clock_speed        26\n",
              "dual_sim            2\n",
              "fc                 20\n",
              "four_g              2\n",
              "int_memory         63\n",
              "m_dep              10\n",
              "mobile_wt         121\n",
              "n_cores             8\n",
              "pc                 21\n",
              "px_height        1137\n",
              "px_width         1109\n",
              "ram              1562\n",
              "sc_h               15\n",
              "sc_w               19\n",
              "talk_time          19\n",
              "three_g             2\n",
              "touch_screen        2\n",
              "wifi                2\n",
              "price_range         4\n",
              "dtype: int64"
            ]
          },
          "metadata": {},
          "execution_count": 16
        }
      ],
      "source": [
        "df.nunique()             ## unique values in each column"
      ]
    },
    {
      "cell_type": "markdown",
      "id": "6a671782",
      "metadata": {
        "id": "6a671782"
      },
      "source": [
        "# *Insight*: As from above output- features like-  blue,dual_sim,four_g,n_cores,three_g,touch_screen,wifi,price_range(target var.) are categorical in nature"
      ]
    },
    {
      "cell_type": "code",
      "execution_count": 16,
      "id": "7f3d0795",
      "metadata": {
        "id": "7f3d0795"
      },
      "outputs": [],
      "source": []
    },
    {
      "cell_type": "code",
      "execution_count": 16,
      "id": "649a4a7f",
      "metadata": {
        "id": "649a4a7f"
      },
      "outputs": [],
      "source": []
    },
    {
      "cell_type": "markdown",
      "id": "f4db3544",
      "metadata": {
        "id": "f4db3544"
      },
      "source": [
        "# *Exploratory Data Analysis* \n",
        "## Univariate Analysis :"
      ]
    },
    {
      "cell_type": "markdown",
      "id": "955717e3",
      "metadata": {
        "id": "955717e3"
      },
      "source": [
        "## Bluetooth"
      ]
    },
    {
      "cell_type": "code",
      "execution_count": 17,
      "id": "69728826",
      "metadata": {
        "colab": {
          "base_uri": "https://localhost:8080/"
        },
        "id": "69728826",
        "outputId": "6b8d8fa8-152b-4541-8f3d-e40ba0bb874b"
      },
      "outputs": [
        {
          "output_type": "execute_result",
          "data": {
            "text/plain": [
              "0    1010\n",
              "1     990\n",
              "Name: blue, dtype: int64"
            ]
          },
          "metadata": {},
          "execution_count": 17
        }
      ],
      "source": [
        "df['blue'].value_counts()"
      ]
    },
    {
      "cell_type": "code",
      "execution_count": 18,
      "id": "c944dd1e",
      "metadata": {
        "colab": {
          "base_uri": "https://localhost:8080/",
          "height": 248
        },
        "id": "c944dd1e",
        "outputId": "98691b63-77b2-4c23-9f1b-e7a7f1ee09eb"
      },
      "outputs": [
        {
          "output_type": "display_data",
          "data": {
            "text/plain": [
              "<Figure size 432x288 with 1 Axes>"
            ],
            "image/png": "[encoded data removed]"
          },
          "metadata": {}
        }
      ],
      "source": [
        "plt.pie(df['blue'].value_counts(),labels = ['Do not support Bluetooth','Support Bluetooth'] ,autopct = '%0.1f%%')\n",
        "plt.show()"
      ]
    },
    {
      "cell_type": "markdown",
      "id": "f972b8fe",
      "metadata": {
        "id": "f972b8fe"
      },
      "source": [
        "## Dual Sim"
      ]
    },
    {
      "cell_type": "code",
      "execution_count": 19,
      "id": "904122e0",
      "metadata": {
        "colab": {
          "base_uri": "https://localhost:8080/"
        },
        "id": "904122e0",
        "outputId": "0bc6e5b3-678e-4906-be86-c8d0a51d77e6"
      },
      "outputs": [
        {
          "output_type": "execute_result",
          "data": {
            "text/plain": [
              "1    1019\n",
              "0     981\n",
              "Name: dual_sim, dtype: int64"
            ]
          },
          "metadata": {},
          "execution_count": 19
        }
      ],
      "source": [
        "df['dual_sim'].value_counts()"
      ]
    },
    {
      "cell_type": "code",
      "execution_count": 20,
      "id": "1f665eeb",
      "metadata": {
        "colab": {
          "base_uri": "https://localhost:8080/",
          "height": 248
        },
        "id": "1f665eeb",
        "outputId": "3942cea0-07da-4659-bad4-4f1afdeed973"
      },
      "outputs": [
        {
          "output_type": "display_data",
          "data": {
            "text/plain": [
              "<Figure size 432x288 with 1 Axes>"
            ],
            "image/png": "[encoded data removed]"
          },
          "metadata": {}
        }
      ],
      "source": [
        "plt.pie(df['dual_sim'].value_counts(), labels = ['With Dual Sim','Without Dual Sim'], autopct = '%0.2f%%')\n",
        "plt.show()"
      ]
    },
    {
      "cell_type": "raw",
      "id": "8fdd9bc8",
      "metadata": {
        "id": "8fdd9bc8"
      },
      "source": []
    },
    {
      "cell_type": "raw",
      "id": "6e4d66e1",
      "metadata": {
        "id": "6e4d66e1"
      },
      "source": []
    },
    {
      "cell_type": "markdown",
      "id": "93b97eca",
      "metadata": {
        "id": "93b97eca"
      },
      "source": [
        "## 4G"
      ]
    },
    {
      "cell_type": "code",
      "execution_count": 21,
      "id": "4f383d6e",
      "metadata": {
        "colab": {
          "base_uri": "https://localhost:8080/"
        },
        "id": "4f383d6e",
        "outputId": "33702e01-cb23-4522-f16e-94a23567d372"
      },
      "outputs": [
        {
          "output_type": "execute_result",
          "data": {
            "text/plain": [
              "1    1043\n",
              "0     957\n",
              "Name: four_g, dtype: int64"
            ]
          },
          "metadata": {},
          "execution_count": 21
        }
      ],
      "source": [
        "df['four_g'].value_counts()"
      ]
    },
    {
      "cell_type": "code",
      "execution_count": 22,
      "id": "0a8fef10",
      "metadata": {
        "colab": {
          "base_uri": "https://localhost:8080/",
          "height": 248
        },
        "id": "0a8fef10",
        "outputId": "fd51c036-9ac4-419e-d865-c2acd0e2a672"
      },
      "outputs": [
        {
          "output_type": "display_data",
          "data": {
            "text/plain": [
              "<Figure size 432x288 with 1 Axes>"
            ],
            "image/png": "[encoded data removed]"
          },
          "metadata": {}
        }
      ],
      "source": [
        "plt.pie(df['four_g'].value_counts(),labels = ['Support 4G network','Do not support 4G network'], autopct = '%0.1f%%')\n",
        "plt.show()"
      ]
    },
    {
      "cell_type": "code",
      "source": [],
      "metadata": {
        "id": "qU386vwtkSCd"
      },
      "id": "qU386vwtkSCd",
      "execution_count": 22,
      "outputs": []
    },
    {
      "cell_type": "markdown",
      "id": "e3c1098b",
      "metadata": {
        "id": "e3c1098b"
      },
      "source": [
        "## No. of Cores"
      ]
    },
    {
      "cell_type": "code",
      "execution_count": 23,
      "id": "232967fe",
      "metadata": {
        "colab": {
          "base_uri": "https://localhost:8080/",
          "height": 300
        },
        "id": "232967fe",
        "outputId": "9d87cb50-dff3-45c4-f863-dfb5bc5b4001"
      },
      "outputs": [
        {
          "output_type": "execute_result",
          "data": {
            "text/plain": [
              "   n_cores\n",
              "4      274\n",
              "7      259\n",
              "8      256\n",
              "2      247\n",
              "3      246\n",
              "5      246\n",
              "1      242\n",
              "6      230"
            ],
            "text/html": [
              "\n",
              "  <div id=\"df-d2b83664-a16c-4982-8d73-539a70cf0c9f\">\n",
              "    <div class=\"colab-df-container\">\n",
              "      <div>\n",
              "<style scoped>\n",
              "    .dataframe tbody tr th:only-of-type {\n",
              "        vertical-align: middle;\n",
              "    }\n",
              "\n",
              "    .dataframe tbody tr th {\n",
              "        vertical-align: top;\n",
              "    }\n",
              "\n",
              "    .dataframe thead th {\n",
              "        text-align: right;\n",
              "    }\n",
              "</style>\n",
              "<table border=\"1\" class=\"dataframe\">\n",
              "  <thead>\n",
              "    <tr style=\"text-align: right;\">\n",
              "      <th></th>\n",
              "      <th>n_cores</th>\n",
              "    </tr>\n",
              "  </thead>\n",
              "  <tbody>\n",
              "    <tr>\n",
              "      <th>4</th>\n",
              "      <td>274</td>\n",
              "    </tr>\n",
              "    <tr>\n",
              "      <th>7</th>\n",
              "      <td>259</td>\n",
              "    </tr>\n",
              "    <tr>\n",
              "      <th>8</th>\n",
              "      <td>256</td>\n",
              "    </tr>\n",
              "    <tr>\n",
              "      <th>2</th>\n",
              "      <td>247</td>\n",
              "    </tr>\n",
              "    <tr>\n",
              "      <th>3</th>\n",
              "      <td>246</td>\n",
              "    </tr>\n",
              "    <tr>\n",
              "      <th>5</th>\n",
              "      <td>246</td>\n",
              "    </tr>\n",
              "    <tr>\n",
              "      <th>1</th>\n",
              "      <td>242</td>\n",
              "    </tr>\n",
              "    <tr>\n",
              "      <th>6</th>\n",
              "      <td>230</td>\n",
              "    </tr>\n",
              "  </tbody>\n",
              "</table>\n",
              "</div>\n",
              "      <button class=\"colab-df-convert\" onclick=\"convertToInteractive('df-d2b83664-a16c-4982-8d73-539a70cf0c9f')\"\n",
              "              title=\"Convert this dataframe to an interactive table.\"\n",
              "              style=\"display:none;\">\n",
              "        \n",
              "  <svg xmlns=\"http://www.w3.org/2000/svg\" height=\"24px\"viewBox=\"0 0 24 24\"\n",
              "       width=\"24px\">\n",
              "    <path d=\"M0 0h24v24H0V0z\" fill=\"none\"/>\n",
              "    <path d=\"M18.56 5.44l.94 2.06.94-2.06 2.06-.94-2.06-.94-.94-2.06-.94 2.06-2.06.94zm-11 1L8.5 8.5l.94-2.06 2.06-.94-2.06-.94L8.5 2.5l-.94 2.06-2.06.94zm10 10l.94 2.06.94-2.06 2.06-.94-2.06-.94-.94-2.06-.94 2.06-2.06.94z\"/><path d=\"M17.41 7.96l-1.37-1.37c-.4-.4-.92-.59-1.43-.59-.52 0-1.04.2-1.43.59L10.3 9.45l-7.72 7.72c-.78.78-.78 2.05 0 2.83L4 21.41c.39.39.9.59 1.41.59.51 0 1.02-.2 1.41-.59l7.78-7.78 2.81-2.81c.8-.78.8-2.07 0-2.86zM5.41 20L4 18.59l7.72-7.72 1.47 1.35L5.41 20z\"/>\n",
              "  </svg>\n",
              "      </button>\n",
              "      \n",
              "  <style>\n",
              "    .colab-df-container {\n",
              "      display:flex;\n",
              "      flex-wrap:wrap;\n",
              "      gap: 12px;\n",
              "    }\n",
              "\n",
              "    .colab-df-convert {\n",
              "      background-color: #E8F0FE;\n",
              "      border: none;\n",
              "      border-radius: 50%;\n",
              "      cursor: pointer;\n",
              "      display: none;\n",
              "      fill: #1967D2;\n",
              "      height: 32px;\n",
              "      padding: 0 0 0 0;\n",
              "      width: 32px;\n",
              "    }\n",
              "\n",
              "    .colab-df-convert:hover {\n",
              "      background-color: #E2EBFA;\n",
              "      box-shadow: 0px 1px 2px rgba(60, 64, 67, 0.3), 0px 1px 3px 1px rgba(60, 64, 67, 0.15);\n",
              "      fill: #174EA6;\n",
              "    }\n",
              "\n",
              "    [theme=dark] .colab-df-convert {\n",
              "      background-color: #3B4455;\n",
              "      fill: #D2E3FC;\n",
              "    }\n",
              "\n",
              "    [theme=dark] .colab-df-convert:hover {\n",
              "      background-color: #434B5C;\n",
              "      box-shadow: 0px 1px 3px 1px rgba(0, 0, 0, 0.15);\n",
              "      filter: drop-shadow(0px 1px 2px rgba(0, 0, 0, 0.3));\n",
              "      fill: #FFFFFF;\n",
              "    }\n",
              "  </style>\n",
              "\n",
              "      <script>\n",
              "        const buttonEl =\n",
              "          document.querySelector('#df-d2b83664-a16c-4982-8d73-539a70cf0c9f button.colab-df-convert');\n",
              "        buttonEl.style.display =\n",
              "          google.colab.kernel.accessAllowed ? 'block' : 'none';\n",
              "\n",
              "        async function convertToInteractive(key) {\n",
              "          const element = document.querySelector('#df-d2b83664-a16c-4982-8d73-539a70cf0c9f');\n",
              "          const dataTable =\n",
              "            await google.colab.kernel.invokeFunction('convertToInteractive',\n",
              "                                                     [key], {});\n",
              "          if (!dataTable) return;\n",
              "\n",
              "          const docLinkHtml = 'Like what you see? Visit the ' +\n",
              "            '<a target=\"_blank\" href=https://colab.research.google.com/notebooks/data_table.ipynb>data table notebook</a>'\n",
              "            + ' to learn more about interactive tables.';\n",
              "          element.innerHTML = '';\n",
              "          dataTable['output_type'] = 'display_data';\n",
              "          await google.colab.output.renderOutput(dataTable, element);\n",
              "          const docLink = document.createElement('div');\n",
              "          docLink.innerHTML = docLinkHtml;\n",
              "          element.appendChild(docLink);\n",
              "        }\n",
              "      </script>\n",
              "    </div>\n",
              "  </div>\n",
              "  "
            ]
          },
          "metadata": {},
          "execution_count": 23
        }
      ],
      "source": [
        "df['n_cores'].value_counts().to_frame()"
      ]
    },
    {
      "cell_type": "code",
      "execution_count": 24,
      "id": "b2477806",
      "metadata": {
        "colab": {
          "base_uri": "https://localhost:8080/",
          "height": 264
        },
        "id": "b2477806",
        "outputId": "b2d7b096-06ec-4781-89a2-2c40b04636e8"
      },
      "outputs": [
        {
          "output_type": "display_data",
          "data": {
            "text/plain": [
              "<Figure size 432x288 with 1 Axes>"
            ],
            "image/png": "[encoded data removed]"
          },
          "metadata": {}
        }
      ],
      "source": [
        "cores_present = ['Four_cores','Seven_cores','Eight_cores','Two_cores','Three_cores','Five_cores','One_core','Six_cores']\n",
        "plt.pie(df['n_cores'].value_counts(),autopct='%.2f%%',labels=cores_present)\n",
        "plt.title('Cores_Share')\n",
        "plt.show()"
      ]
    },
    {
      "cell_type": "code",
      "source": [],
      "metadata": {
        "id": "JS1Lk5qxkUfS"
      },
      "id": "JS1Lk5qxkUfS",
      "execution_count": 24,
      "outputs": []
    },
    {
      "cell_type": "markdown",
      "id": "73370987",
      "metadata": {
        "id": "73370987"
      },
      "source": [
        "## 3G"
      ]
    },
    {
      "cell_type": "code",
      "execution_count": 25,
      "id": "ccf9219c",
      "metadata": {
        "colab": {
          "base_uri": "https://localhost:8080/"
        },
        "id": "ccf9219c",
        "outputId": "07e9ccad-e44c-4e0a-d199-fc24925bd1d9"
      },
      "outputs": [
        {
          "output_type": "execute_result",
          "data": {
            "text/plain": [
              "1    1523\n",
              "0     477\n",
              "Name: three_g, dtype: int64"
            ]
          },
          "metadata": {},
          "execution_count": 25
        }
      ],
      "source": [
        "df['three_g'].value_counts()"
      ]
    },
    {
      "cell_type": "code",
      "execution_count": 26,
      "id": "37789d43",
      "metadata": {
        "colab": {
          "base_uri": "https://localhost:8080/",
          "height": 248
        },
        "id": "37789d43",
        "outputId": "b77a7aab-4dfd-4f48-d596-502e446d95a3"
      },
      "outputs": [
        {
          "output_type": "display_data",
          "data": {
            "text/plain": [
              "<Figure size 432x288 with 1 Axes>"
            ],
            "image/png": "[encoded data removed]"
          },
          "metadata": {}
        }
      ],
      "source": [
        "plt.pie(df['three_g'].value_counts(), labels = ['Support 3G network','Do Not support 3G network'], autopct = '%0.1f%%')\n",
        "plt.show()"
      ]
    },
    {
      "cell_type": "code",
      "source": [],
      "metadata": {
        "id": "-Yw_Mo47kWuO"
      },
      "id": "-Yw_Mo47kWuO",
      "execution_count": 26,
      "outputs": []
    },
    {
      "cell_type": "markdown",
      "id": "2dac2299",
      "metadata": {
        "id": "2dac2299"
      },
      "source": [
        "## Touch Screen"
      ]
    },
    {
      "cell_type": "code",
      "execution_count": 27,
      "id": "32fd291c",
      "metadata": {
        "colab": {
          "base_uri": "https://localhost:8080/"
        },
        "id": "32fd291c",
        "outputId": "95603c0c-7f60-4635-9692-18c263c3a6ff"
      },
      "outputs": [
        {
          "output_type": "execute_result",
          "data": {
            "text/plain": [
              "1    1006\n",
              "0     994\n",
              "Name: touch_screen, dtype: int64"
            ]
          },
          "metadata": {},
          "execution_count": 27
        }
      ],
      "source": [
        "df['touch_screen'].value_counts()"
      ]
    },
    {
      "cell_type": "code",
      "execution_count": 28,
      "id": "13c570cf",
      "metadata": {
        "colab": {
          "base_uri": "https://localhost:8080/",
          "height": 248
        },
        "id": "13c570cf",
        "outputId": "75bf00f9-da68-4b6d-e887-ef2742aa38be"
      },
      "outputs": [
        {
          "output_type": "display_data",
          "data": {
            "text/plain": [
              "<Figure size 432x288 with 1 Axes>"
            ],
            "image/png": "[encoded data removed]"
          },
          "metadata": {}
        }
      ],
      "source": [
        "plt.pie(df['touch_screen'].value_counts(), labels = ['Support Touchscreen','Do not Touchscreen'], autopct= '%0.1f%%')\n",
        "plt.show()"
      ]
    },
    {
      "cell_type": "code",
      "source": [],
      "metadata": {
        "id": "AjX5p46ikZz4"
      },
      "id": "AjX5p46ikZz4",
      "execution_count": 28,
      "outputs": []
    },
    {
      "cell_type": "markdown",
      "id": "e0ce381e",
      "metadata": {
        "id": "e0ce381e"
      },
      "source": [
        "## Price Range (*Target Variable*)"
      ]
    },
    {
      "cell_type": "code",
      "execution_count": 29,
      "id": "f40eca8e",
      "metadata": {
        "colab": {
          "base_uri": "https://localhost:8080/"
        },
        "id": "f40eca8e",
        "outputId": "77123831-7842-4a86-b1a8-8810d18958d1"
      },
      "outputs": [
        {
          "output_type": "execute_result",
          "data": {
            "text/plain": [
              "1    500\n",
              "2    500\n",
              "3    500\n",
              "0    500\n",
              "Name: price_range, dtype: int64"
            ]
          },
          "metadata": {},
          "execution_count": 29
        }
      ],
      "source": [
        "df['price_range'].value_counts()"
      ]
    },
    {
      "cell_type": "code",
      "execution_count": 30,
      "id": "e7ef9aaa",
      "metadata": {
        "colab": {
          "base_uri": "https://localhost:8080/",
          "height": 248
        },
        "id": "e7ef9aaa",
        "outputId": "964adc1e-ce36-4435-8ab1-121edbb0a43a"
      },
      "outputs": [
        {
          "output_type": "display_data",
          "data": {
            "text/plain": [
              "<Figure size 432x288 with 1 Axes>"
            ],
            "image/png": "[encoded data removed]"
          },
          "metadata": {}
        }
      ],
      "source": [
        "plt.pie(df['price_range'].value_counts(), labels = ['Moderate cost','High cost','Expensive','Low cost'] , autopct = '%0.1f%%')\n",
        "plt.show()"
      ]
    },
    {
      "cell_type": "code",
      "source": [],
      "metadata": {
        "id": "ea2ycYKckb5b"
      },
      "id": "ea2ycYKckb5b",
      "execution_count": 30,
      "outputs": []
    },
    {
      "cell_type": "markdown",
      "id": "a2a7eb66",
      "metadata": {
        "id": "a2a7eb66"
      },
      "source": [
        "# Multi-variate/Bi-variate Analysis - "
      ]
    },
    {
      "cell_type": "code",
      "execution_count": 31,
      "id": "5ce39525",
      "metadata": {
        "scrolled": false,
        "colab": {
          "base_uri": "https://localhost:8080/",
          "height": 674
        },
        "id": "5ce39525",
        "outputId": "ec69b3e5-1d42-4d6a-f734-396a1c67d73d"
      },
      "outputs": [
        {
          "output_type": "execute_result",
          "data": {
            "text/plain": [
              "<matplotlib.axes._subplots.AxesSubplot at 0x7f20aaf7d370>"
            ]
          },
          "metadata": {},
          "execution_count": 31
        },
        {
          "output_type": "display_data",
          "data": {
            "text/plain": [
              "<Figure size 1296x720 with 2 Axes>"
            ],
            "image/png": "[encoded data removed]"
          },
          "metadata": {
            "needs_background": "light"
          }
        }
      ],
      "source": [
        "plt.figure(figsize=(18,10))\n",
        "sns.heatmap(df.corr(), annot = True, linewidth = 2, linecolor = 'blue')"
      ]
    },
    {
      "cell_type": "markdown",
      "id": "428dd095",
      "metadata": {
        "id": "428dd095"
      },
      "source": [
        "# *Insight* : From the heatmap, there is high correlation between 'ram' & 'price_range'"
      ]
    },
    {
      "cell_type": "code",
      "source": [],
      "metadata": {
        "id": "0HBU9DRvkehJ"
      },
      "id": "0HBU9DRvkehJ",
      "execution_count": 31,
      "outputs": []
    },
    {
      "cell_type": "markdown",
      "id": "bf7a03bc",
      "metadata": {
        "id": "bf7a03bc"
      },
      "source": [
        "## RAM vs Price"
      ]
    },
    {
      "cell_type": "code",
      "execution_count": 32,
      "id": "592b8ad1",
      "metadata": {
        "colab": {
          "base_uri": "https://localhost:8080/"
        },
        "id": "592b8ad1",
        "outputId": "1ee2445d-f9a1-415e-b626-7dd093f01cdc"
      },
      "outputs": [
        {
          "output_type": "execute_result",
          "data": {
            "text/plain": [
              "3998"
            ]
          },
          "metadata": {},
          "execution_count": 32
        }
      ],
      "source": [
        "max(df['ram'])"
      ]
    },
    {
      "cell_type": "code",
      "execution_count": 33,
      "id": "560b0ba0",
      "metadata": {
        "colab": {
          "base_uri": "https://localhost:8080/",
          "height": 410
        },
        "id": "560b0ba0",
        "outputId": "a794a447-2dfa-41b5-f9b4-746dac687d3a"
      },
      "outputs": [
        {
          "output_type": "display_data",
          "data": {
            "text/plain": [
              "<Figure size 576x432 with 1 Axes>"
            ],
            "image/png": "[encoded data removed]"
          },
          "metadata": {
            "needs_background": "light"
          }
        }
      ],
      "source": [
        "plt.figure(figsize=(8,6))\n",
        "sns.boxplot(x= df['price_range'], y =df['ram'], palette = 'rocket_r')\n",
        "plt.xticks(ticks=[0,1,2,3], labels = ['Low_cost','Moderate_cost','High_cost','Expensive'])\n",
        "plt.xlabel('Price Category',fontsize=13)\n",
        "plt.ylabel('RAM(in MB)',fontsize=13)\n",
        "plt.title('Price of mobiles according to RAM size', fontsize = 15)\n",
        "plt.show()"
      ]
    },
    {
      "cell_type": "markdown",
      "id": "f9f055c8",
      "metadata": {
        "id": "f9f055c8"
      },
      "source": [
        "# *Insight*: Mobiles having higher RAM are costlier"
      ]
    },
    {
      "cell_type": "code",
      "source": [],
      "metadata": {
        "id": "kedAYt6Okijt"
      },
      "id": "kedAYt6Okijt",
      "execution_count": 33,
      "outputs": []
    },
    {
      "cell_type": "markdown",
      "id": "3ad17bcc",
      "metadata": {
        "id": "3ad17bcc"
      },
      "source": [
        "## Camera(rear) vs Price"
      ]
    },
    {
      "cell_type": "code",
      "execution_count": 34,
      "id": "20890be4",
      "metadata": {
        "colab": {
          "base_uri": "https://localhost:8080/",
          "height": 410
        },
        "id": "20890be4",
        "outputId": "201a8a8b-5e68-48b7-b83a-7e3f681c4e04"
      },
      "outputs": [
        {
          "output_type": "display_data",
          "data": {
            "text/plain": [
              "<Figure size 576x432 with 1 Axes>"
            ],
            "image/png": "[encoded data removed]"
          },
          "metadata": {
            "needs_background": "light"
          }
        }
      ],
      "source": [
        "plt.figure(figsize=(8,6))\n",
        "sns.boxplot(x= df['price_range'], y =df['pc'], palette = 'rocket_r')\n",
        "plt.xticks(ticks=[0,1,2,3], labels = ['Low_cost','Moderate_cost','High_cost','Expensive'])\n",
        "plt.xlabel('Price Category',fontsize=13)\n",
        "plt.ylabel('Primary Camera(in MegaPixels)',fontsize=13)\n",
        "plt.title('Price according to camera(rear)', fontsize=15)\n",
        "plt.show()"
      ]
    },
    {
      "cell_type": "markdown",
      "id": "23a80c26",
      "metadata": {
        "id": "23a80c26"
      },
      "source": [
        "### No conclusion"
      ]
    },
    {
      "cell_type": "code",
      "source": [],
      "metadata": {
        "id": "6TGTZnpYkkYL"
      },
      "id": "6TGTZnpYkkYL",
      "execution_count": 34,
      "outputs": []
    },
    {
      "cell_type": "markdown",
      "id": "43ec0461",
      "metadata": {
        "id": "43ec0461"
      },
      "source": [
        "## Camera(front) vs Price"
      ]
    },
    {
      "cell_type": "code",
      "execution_count": 35,
      "id": "e4710741",
      "metadata": {
        "colab": {
          "base_uri": "https://localhost:8080/",
          "height": 300
        },
        "id": "e4710741",
        "outputId": "bf6f73f7-999d-42ef-e5ba-1fca25c7e2bc"
      },
      "outputs": [
        {
          "output_type": "execute_result",
          "data": {
            "text/plain": [
              "Text(0.5, 0, 'Price Category')"
            ]
          },
          "metadata": {},
          "execution_count": 35
        },
        {
          "output_type": "display_data",
          "data": {
            "text/plain": [
              "<Figure size 432x288 with 1 Axes>"
            ],
            "image/png": "[encoded data removed]"
          },
          "metadata": {
            "needs_background": "light"
          }
        }
      ],
      "source": [
        "sns.boxplot(x= df['price_range'], y =df['fc'], palette = 'rocket_r')\n",
        "plt.xticks(ticks=[0,1,2,3], labels = ['Low_cost','Moderate_cost','High_cost','Expensive'])\n",
        "plt.xlabel('Price Category',fontsize=13)"
      ]
    },
    {
      "cell_type": "markdown",
      "id": "fe96c6d6",
      "metadata": {
        "id": "fe96c6d6"
      },
      "source": [
        "### No conclusion"
      ]
    },
    {
      "cell_type": "code",
      "source": [],
      "metadata": {
        "id": "fKvCyAu5kmYf"
      },
      "id": "fKvCyAu5kmYf",
      "execution_count": 35,
      "outputs": []
    },
    {
      "cell_type": "markdown",
      "id": "b4afdfee",
      "metadata": {
        "id": "b4afdfee"
      },
      "source": [
        "## Mobile weight vs Price"
      ]
    },
    {
      "cell_type": "code",
      "execution_count": 36,
      "id": "cd183c53",
      "metadata": {
        "scrolled": false,
        "colab": {
          "base_uri": "https://localhost:8080/",
          "height": 300
        },
        "id": "cd183c53",
        "outputId": "eb061617-b02f-4bb7-a772-eef216bb332d"
      },
      "outputs": [
        {
          "output_type": "execute_result",
          "data": {
            "text/plain": [
              "Text(0.5, 0, 'Price Category')"
            ]
          },
          "metadata": {},
          "execution_count": 36
        },
        {
          "output_type": "display_data",
          "data": {
            "text/plain": [
              "<Figure size 432x288 with 1 Axes>"
            ],
            "image/png": "[encoded data removed]"
          },
          "metadata": {
            "needs_background": "light"
          }
        }
      ],
      "source": [
        "sns.boxplot(x= df['price_range'], y =df['mobile_wt'], palette = 'rocket_r')\n",
        "plt.xticks(ticks=[0,1,2,3], labels = ['Low_cost','Moderate_cost','High_cost','Expensive'])\n",
        "plt.xlabel('Price Category',fontsize=13)"
      ]
    },
    {
      "cell_type": "markdown",
      "id": "dab58afb",
      "metadata": {
        "id": "dab58afb"
      },
      "source": [
        "# *Insight*: Lighter Mobiles are expensive"
      ]
    },
    {
      "cell_type": "code",
      "source": [],
      "metadata": {
        "id": "0lJSdffkkn51"
      },
      "id": "0lJSdffkkn51",
      "execution_count": 36,
      "outputs": []
    },
    {
      "cell_type": "markdown",
      "id": "247f2ab5",
      "metadata": {
        "id": "247f2ab5"
      },
      "source": [
        "## No. of cores vs Price"
      ]
    },
    {
      "cell_type": "code",
      "execution_count": 37,
      "id": "12e21585",
      "metadata": {
        "scrolled": false,
        "colab": {
          "base_uri": "https://localhost:8080/",
          "height": 300
        },
        "id": "12e21585",
        "outputId": "66aa9a48-3cbd-428b-ccc3-ff47edb62b96"
      },
      "outputs": [
        {
          "output_type": "execute_result",
          "data": {
            "text/plain": [
              "Text(0.5, 0, 'Price Category')"
            ]
          },
          "metadata": {},
          "execution_count": 37
        },
        {
          "output_type": "display_data",
          "data": {
            "text/plain": [
              "<Figure size 432x288 with 1 Axes>"
            ],
            "image/png": "[encoded data removed]"
          },
          "metadata": {
            "needs_background": "light"
          }
        }
      ],
      "source": [
        "sns.boxplot(x= df['price_range'], y =df['n_cores'], palette = 'rocket_r')\n",
        "plt.xticks(ticks=[0,1,2,3], labels = ['Low_cost','Moderate_cost','High_cost','Expensive'])\n",
        "plt.xlabel('Price Category',fontsize=13)"
      ]
    },
    {
      "cell_type": "markdown",
      "id": "58d3f698",
      "metadata": {
        "id": "58d3f698"
      },
      "source": [
        "# *Insight*: Moderate cost mobiles have less no. of cores "
      ]
    },
    {
      "cell_type": "code",
      "execution_count": 37,
      "id": "b354b34b",
      "metadata": {
        "id": "b354b34b"
      },
      "outputs": [],
      "source": []
    },
    {
      "cell_type": "markdown",
      "id": "32098978",
      "metadata": {
        "id": "32098978"
      },
      "source": [
        "## Talk time vs Price"
      ]
    },
    {
      "cell_type": "code",
      "execution_count": 38,
      "id": "99b91576",
      "metadata": {
        "colab": {
          "base_uri": "https://localhost:8080/",
          "height": 300
        },
        "id": "99b91576",
        "outputId": "76c27145-821f-48b9-e1b6-c7b34ddce3aa"
      },
      "outputs": [
        {
          "output_type": "execute_result",
          "data": {
            "text/plain": [
              "Text(0.5, 0, 'Price Category')"
            ]
          },
          "metadata": {},
          "execution_count": 38
        },
        {
          "output_type": "display_data",
          "data": {
            "text/plain": [
              "<Figure size 432x288 with 1 Axes>"
            ],
            "image/png": "[encoded data removed]"
          },
          "metadata": {
            "needs_background": "light"
          }
        }
      ],
      "source": [
        "sns.boxplot(x= df['price_range'], y =df['talk_time'], palette = 'rocket_r')\n",
        "plt.xticks(ticks=[0,1,2,3], labels = ['Low_cost','Moderate_cost','High_cost','Expensive'])\n",
        "plt.xlabel('Price Category',fontsize=13)"
      ]
    },
    {
      "cell_type": "markdown",
      "id": "f7721540",
      "metadata": {
        "id": "f7721540"
      },
      "source": [
        "### No conclusion"
      ]
    },
    {
      "cell_type": "code",
      "execution_count": 38,
      "id": "7f8999f7",
      "metadata": {
        "id": "7f8999f7"
      },
      "outputs": [],
      "source": []
    },
    {
      "cell_type": "markdown",
      "id": "5915be52",
      "metadata": {
        "id": "5915be52"
      },
      "source": [
        "## Thickness of mobile vs Price"
      ]
    },
    {
      "cell_type": "code",
      "execution_count": 39,
      "id": "0e30f57e",
      "metadata": {
        "colab": {
          "base_uri": "https://localhost:8080/",
          "height": 300
        },
        "id": "0e30f57e",
        "outputId": "7577ca7e-66c5-4dd6-f36f-ca8938976cf0"
      },
      "outputs": [
        {
          "output_type": "execute_result",
          "data": {
            "text/plain": [
              "Text(0.5, 0, 'Price Category')"
            ]
          },
          "metadata": {},
          "execution_count": 39
        },
        {
          "output_type": "display_data",
          "data": {
            "text/plain": [
              "<Figure size 432x288 with 1 Axes>"
            ],
            "image/png": "[encoded data removed]"
          },
          "metadata": {
            "needs_background": "light"
          }
        }
      ],
      "source": [
        "sns.boxplot(x= df['price_range'], y =df['m_dep'], palette = 'rocket_r')\n",
        "plt.xticks(ticks=[0,1,2,3], labels = ['Low_cost','Moderate_cost','High_cost','Expensive'])\n",
        "plt.xlabel('Price Category',fontsize=13)"
      ]
    },
    {
      "cell_type": "markdown",
      "id": "21ef2c2e",
      "metadata": {
        "id": "21ef2c2e"
      },
      "source": [
        "### No conclusion"
      ]
    },
    {
      "cell_type": "code",
      "execution_count": 39,
      "id": "8289c2f7",
      "metadata": {
        "id": "8289c2f7"
      },
      "outputs": [],
      "source": []
    },
    {
      "cell_type": "code",
      "execution_count": 39,
      "id": "ea365470",
      "metadata": {
        "id": "ea365470"
      },
      "outputs": [],
      "source": []
    },
    {
      "cell_type": "markdown",
      "id": "f4498a50",
      "metadata": {
        "id": "f4498a50"
      },
      "source": [
        "## Battery cap. vs Price"
      ]
    },
    {
      "cell_type": "code",
      "execution_count": 40,
      "id": "d040f494",
      "metadata": {
        "colab": {
          "base_uri": "https://localhost:8080/",
          "height": 300
        },
        "id": "d040f494",
        "outputId": "d301faf4-18e0-427d-e0b0-519b0732449d"
      },
      "outputs": [
        {
          "output_type": "execute_result",
          "data": {
            "text/plain": [
              "Text(0.5, 0, 'Price Category')"
            ]
          },
          "metadata": {},
          "execution_count": 40
        },
        {
          "output_type": "display_data",
          "data": {
            "text/plain": [
              "<Figure size 432x288 with 1 Axes>"
            ],
            "image/png": "[encoded data removed]"
          },
          "metadata": {
            "needs_background": "light"
          }
        }
      ],
      "source": [
        "sns.boxplot(x= df['price_range'], y =df['battery_power'], palette = 'rocket_r')\n",
        "plt.xticks(ticks=[0,1,2,3], labels = ['Low_cost','Moderate_cost','High_cost','Expensive'])\n",
        "plt.xlabel('Price Category',fontsize=13)"
      ]
    },
    {
      "cell_type": "markdown",
      "id": "32fb07e7",
      "metadata": {
        "id": "32fb07e7"
      },
      "source": [
        "# *Insight*: Mobiles having higher battery capacity are expensive."
      ]
    },
    {
      "cell_type": "code",
      "execution_count": 40,
      "id": "ee9d97e7",
      "metadata": {
        "id": "ee9d97e7"
      },
      "outputs": [],
      "source": []
    },
    {
      "cell_type": "code",
      "execution_count": 40,
      "id": "de4c48c5",
      "metadata": {
        "id": "de4c48c5"
      },
      "outputs": [],
      "source": []
    },
    {
      "cell_type": "markdown",
      "id": "45ddd3f0",
      "metadata": {
        "id": "45ddd3f0"
      },
      "source": [
        "## Storage cap. vs Price"
      ]
    },
    {
      "cell_type": "code",
      "execution_count": 41,
      "id": "6cd516da",
      "metadata": {
        "scrolled": false,
        "colab": {
          "base_uri": "https://localhost:8080/",
          "height": 300
        },
        "id": "6cd516da",
        "outputId": "783e93b0-4838-4001-a62d-01976cb74124"
      },
      "outputs": [
        {
          "output_type": "execute_result",
          "data": {
            "text/plain": [
              "Text(0.5, 0, 'Price Category')"
            ]
          },
          "metadata": {},
          "execution_count": 41
        },
        {
          "output_type": "display_data",
          "data": {
            "text/plain": [
              "<Figure size 432x288 with 1 Axes>"
            ],
            "image/png": "[encoded data removed]"
          },
          "metadata": {
            "needs_background": "light"
          }
        }
      ],
      "source": [
        "sns.boxplot(x= df['price_range'], y =df['int_memory'], palette = 'rocket_r')\n",
        "plt.xticks(ticks=[0,1,2,3], labels = ['Low_cost','Moderate_cost','High_cost','Expensive'])\n",
        "plt.xlabel('Price Category',fontsize=13)"
      ]
    },
    {
      "cell_type": "markdown",
      "id": "e060cee9",
      "metadata": {
        "id": "e060cee9"
      },
      "source": [
        "# *Insight*: Mobiles having higher storage are slightly expensive"
      ]
    },
    {
      "cell_type": "code",
      "source": [],
      "metadata": {
        "id": "thXRvyR5ktF4"
      },
      "id": "thXRvyR5ktF4",
      "execution_count": 41,
      "outputs": []
    },
    {
      "cell_type": "markdown",
      "id": "6054964f",
      "metadata": {
        "id": "6054964f"
      },
      "source": [
        "### Creating new columns 'pixel_area' and 'screen_area'"
      ]
    },
    {
      "cell_type": "code",
      "execution_count": 42,
      "id": "f1905ae6",
      "metadata": {
        "colab": {
          "base_uri": "https://localhost:8080/",
          "height": 311
        },
        "id": "f1905ae6",
        "outputId": "42e95bc8-9c6d-4b97-d2f8-559722e6ae52"
      },
      "outputs": [
        {
          "output_type": "execute_result",
          "data": {
            "text/plain": [
              "Text(0.5, 0, 'Price Category')"
            ]
          },
          "metadata": {},
          "execution_count": 42
        },
        {
          "output_type": "display_data",
          "data": {
            "text/plain": [
              "<Figure size 432x288 with 1 Axes>"
            ],
            "image/png": "[encoded data removed]"
          },
          "metadata": {
            "needs_background": "light"
          }
        }
      ],
      "source": [
        "df['pixel_area'] = df['px_height']*df['px_width']\n",
        "sns.boxplot(x= df['price_range'], y =df['pixel_area'], palette = 'rocket_r')\n",
        "plt.xticks(ticks=[0,1,2,3], labels = ['Low_cost','Moderate_cost','High_cost','Expensive'])\n",
        "plt.xlabel('Price Category',fontsize=13)"
      ]
    },
    {
      "cell_type": "markdown",
      "id": "c1f440b9",
      "metadata": {
        "id": "c1f440b9"
      },
      "source": [
        "# *Insight*: Mobiles having larger pixel area(Actual display) are expensive"
      ]
    },
    {
      "cell_type": "code",
      "execution_count": 43,
      "id": "1d533edf",
      "metadata": {
        "colab": {
          "base_uri": "https://localhost:8080/",
          "height": 300
        },
        "id": "1d533edf",
        "outputId": "9ad43344-413c-4d00-ff7f-15d354de6007"
      },
      "outputs": [
        {
          "output_type": "execute_result",
          "data": {
            "text/plain": [
              "Text(0.5, 0, 'Price Category')"
            ]
          },
          "metadata": {},
          "execution_count": 43
        },
        {
          "output_type": "display_data",
          "data": {
            "text/plain": [
              "<Figure size 432x288 with 1 Axes>"
            ],
            "image/png": "[encoded data removed]"
          },
          "metadata": {
            "needs_background": "light"
          }
        }
      ],
      "source": [
        "df['screen_area'] = df['sc_h'] * df['sc_w']\n",
        "sns.boxplot(x= df['price_range'], y =df['screen_area'], palette = 'rocket_r')\n",
        "plt.xticks(ticks=[0,1,2,3], labels = ['Low_cost','Moderate_cost','High_cost','Expensive'])\n",
        "plt.xlabel('Price Category',fontsize=13)"
      ]
    },
    {
      "cell_type": "markdown",
      "id": "1b9ca8b0",
      "metadata": {
        "id": "1b9ca8b0"
      },
      "source": [
        "# *Insight:* Mobiles having bigger screen(Total display) are expensive"
      ]
    },
    {
      "cell_type": "code",
      "source": [],
      "metadata": {
        "id": "qjQQDMg-kvDp"
      },
      "id": "qjQQDMg-kvDp",
      "execution_count": 43,
      "outputs": []
    },
    {
      "cell_type": "markdown",
      "id": "80a196bc",
      "metadata": {
        "id": "80a196bc"
      },
      "source": [
        "# Data Preparation"
      ]
    },
    {
      "cell_type": "markdown",
      "id": "9b1f656e",
      "metadata": {
        "id": "9b1f656e"
      },
      "source": [
        "### Defining feature and label"
      ]
    },
    {
      "cell_type": "code",
      "execution_count": 44,
      "id": "331ccc0b",
      "metadata": {
        "id": "331ccc0b"
      },
      "outputs": [],
      "source": [
        "X = df.drop(['price_range'],axis=1)              ## creating feature set"
      ]
    },
    {
      "cell_type": "code",
      "execution_count": 45,
      "id": "b2469ed3",
      "metadata": {
        "id": "b2469ed3"
      },
      "outputs": [],
      "source": [
        "y = df['price_range']                            ## creating label set"
      ]
    },
    {
      "cell_type": "markdown",
      "id": "4e5c1dd3",
      "metadata": {
        "id": "4e5c1dd3"
      },
      "source": [
        "### Dividing feature set into categorical and numerical"
      ]
    },
    {
      "cell_type": "code",
      "execution_count": 46,
      "id": "8a895adb",
      "metadata": {
        "id": "8a895adb"
      },
      "outputs": [],
      "source": [
        "num = X.drop(['blue','dual_sim','four_g','n_cores','three_g','touch_screen','wifi'], axis = 1)\n",
        "cat = X.filter(['blue','dual_sim','four_g','n_cores','three_g','touch_screen','wifi'])"
      ]
    },
    {
      "cell_type": "code",
      "execution_count": 47,
      "id": "bf58d715",
      "metadata": {
        "colab": {
          "base_uri": "https://localhost:8080/",
          "height": 206
        },
        "id": "bf58d715",
        "outputId": "73c3cec8-95b0-45a9-9ff9-cf23fc524f87"
      },
      "outputs": [
        {
          "output_type": "execute_result",
          "data": {
            "text/plain": [
              "   battery_power  clock_speed  fc  int_memory  m_dep  mobile_wt  pc  \\\n",
              "0            842          2.2   1           7    0.6        188   2   \n",
              "1           1021          0.5   0          53    0.7        136   6   \n",
              "2            563          0.5   2          41    0.9        145   6   \n",
              "3            615          2.5   0          10    0.8        131   9   \n",
              "4           1821          1.2  13          44    0.6        141  14   \n",
              "\n",
              "   px_height  px_width   ram  sc_h  sc_w  talk_time  pixel_area  screen_area  \n",
              "0         20       756  2549     9     7         19       15120           63  \n",
              "1        905      1988  2631    17     3          7     1799140           51  \n",
              "2       1263      1716  2603    11     2          9     2167308           22  \n",
              "3       1216      1786  2769    16     8         11     2171776          128  \n",
              "4       1208      1212  1411     8     2         15     1464096           16  "
            ],
            "text/html": [
              "\n",
              "  <div id=\"df-304bdc87-fa7e-4fde-bf6c-8f1d252035ca\">\n",
              "    <div class=\"colab-df-container\">\n",
              "      <div>\n",
              "<style scoped>\n",
              "    .dataframe tbody tr th:only-of-type {\n",
              "        vertical-align: middle;\n",
              "    }\n",
              "\n",
              "    .dataframe tbody tr th {\n",
              "        vertical-align: top;\n",
              "    }\n",
              "\n",
              "    .dataframe thead th {\n",
              "        text-align: right;\n",
              "    }\n",
              "</style>\n",
              "<table border=\"1\" class=\"dataframe\">\n",
              "  <thead>\n",
              "    <tr style=\"text-align: right;\">\n",
              "      <th></th>\n",
              "      <th>battery_power</th>\n",
              "      <th>clock_speed</th>\n",
              "      <th>fc</th>\n",
              "      <th>int_memory</th>\n",
              "      <th>m_dep</th>\n",
              "      <th>mobile_wt</th>\n",
              "      <th>pc</th>\n",
              "      <th>px_height</th>\n",
              "      <th>px_width</th>\n",
              "      <th>ram</th>\n",
              "      <th>sc_h</th>\n",
              "      <th>sc_w</th>\n",
              "      <th>talk_time</th>\n",
              "      <th>pixel_area</th>\n",
              "      <th>screen_area</th>\n",
              "    </tr>\n",
              "  </thead>\n",
              "  <tbody>\n",
              "    <tr>\n",
              "      <th>0</th>\n",
              "      <td>842</td>\n",
              "      <td>2.2</td>\n",
              "      <td>1</td>\n",
              "      <td>7</td>\n",
              "      <td>0.6</td>\n",
              "      <td>188</td>\n",
              "      <td>2</td>\n",
              "      <td>20</td>\n",
              "      <td>756</td>\n",
              "      <td>2549</td>\n",
              "      <td>9</td>\n",
              "      <td>7</td>\n",
              "      <td>19</td>\n",
              "      <td>15120</td>\n",
              "      <td>63</td>\n",
              "    </tr>\n",
              "    <tr>\n",
              "      <th>1</th>\n",
              "      <td>1021</td>\n",
              "      <td>0.5</td>\n",
              "      <td>0</td>\n",
              "      <td>53</td>\n",
              "      <td>0.7</td>\n",
              "      <td>136</td>\n",
              "      <td>6</td>\n",
              "      <td>905</td>\n",
              "      <td>1988</td>\n",
              "      <td>2631</td>\n",
              "      <td>17</td>\n",
              "      <td>3</td>\n",
              "      <td>7</td>\n",
              "      <td>1799140</td>\n",
              "      <td>51</td>\n",
              "    </tr>\n",
              "    <tr>\n",
              "      <th>2</th>\n",
              "      <td>563</td>\n",
              "      <td>0.5</td>\n",
              "      <td>2</td>\n",
              "      <td>41</td>\n",
              "      <td>0.9</td>\n",
              "      <td>145</td>\n",
              "      <td>6</td>\n",
              "      <td>1263</td>\n",
              "      <td>1716</td>\n",
              "      <td>2603</td>\n",
              "      <td>11</td>\n",
              "      <td>2</td>\n",
              "      <td>9</td>\n",
              "      <td>2167308</td>\n",
              "      <td>22</td>\n",
              "    </tr>\n",
              "    <tr>\n",
              "      <th>3</th>\n",
              "      <td>615</td>\n",
              "      <td>2.5</td>\n",
              "      <td>0</td>\n",
              "      <td>10</td>\n",
              "      <td>0.8</td>\n",
              "      <td>131</td>\n",
              "      <td>9</td>\n",
              "      <td>1216</td>\n",
              "      <td>1786</td>\n",
              "      <td>2769</td>\n",
              "      <td>16</td>\n",
              "      <td>8</td>\n",
              "      <td>11</td>\n",
              "      <td>2171776</td>\n",
              "      <td>128</td>\n",
              "    </tr>\n",
              "    <tr>\n",
              "      <th>4</th>\n",
              "      <td>1821</td>\n",
              "      <td>1.2</td>\n",
              "      <td>13</td>\n",
              "      <td>44</td>\n",
              "      <td>0.6</td>\n",
              "      <td>141</td>\n",
              "      <td>14</td>\n",
              "      <td>1208</td>\n",
              "      <td>1212</td>\n",
              "      <td>1411</td>\n",
              "      <td>8</td>\n",
              "      <td>2</td>\n",
              "      <td>15</td>\n",
              "      <td>1464096</td>\n",
              "      <td>16</td>\n",
              "    </tr>\n",
              "  </tbody>\n",
              "</table>\n",
              "</div>\n",
              "      <button class=\"colab-df-convert\" onclick=\"convertToInteractive('df-304bdc87-fa7e-4fde-bf6c-8f1d252035ca')\"\n",
              "              title=\"Convert this dataframe to an interactive table.\"\n",
              "              style=\"display:none;\">\n",
              "        \n",
              "  <svg xmlns=\"http://www.w3.org/2000/svg\" height=\"24px\"viewBox=\"0 0 24 24\"\n",
              "       width=\"24px\">\n",
              "    <path d=\"M0 0h24v24H0V0z\" fill=\"none\"/>\n",
              "    <path d=\"M18.56 5.44l.94 2.06.94-2.06 2.06-.94-2.06-.94-.94-2.06-.94 2.06-2.06.94zm-11 1L8.5 8.5l.94-2.06 2.06-.94-2.06-.94L8.5 2.5l-.94 2.06-2.06.94zm10 10l.94 2.06.94-2.06 2.06-.94-2.06-.94-.94-2.06-.94 2.06-2.06.94z\"/><path d=\"M17.41 7.96l-1.37-1.37c-.4-.4-.92-.59-1.43-.59-.52 0-1.04.2-1.43.59L10.3 9.45l-7.72 7.72c-.78.78-.78 2.05 0 2.83L4 21.41c.39.39.9.59 1.41.59.51 0 1.02-.2 1.41-.59l7.78-7.78 2.81-2.81c.8-.78.8-2.07 0-2.86zM5.41 20L4 18.59l7.72-7.72 1.47 1.35L5.41 20z\"/>\n",
              "  </svg>\n",
              "      </button>\n",
              "      \n",
              "  <style>\n",
              "    .colab-df-container {\n",
              "      display:flex;\n",
              "      flex-wrap:wrap;\n",
              "      gap: 12px;\n",
              "    }\n",
              "\n",
              "    .colab-df-convert {\n",
              "      background-color: #E8F0FE;\n",
              "      border: none;\n",
              "      border-radius: 50%;\n",
              "      cursor: pointer;\n",
              "      display: none;\n",
              "      fill: #1967D2;\n",
              "      height: 32px;\n",
              "      padding: 0 0 0 0;\n",
              "      width: 32px;\n",
              "    }\n",
              "\n",
              "    .colab-df-convert:hover {\n",
              "      background-color: #E2EBFA;\n",
              "      box-shadow: 0px 1px 2px rgba(60, 64, 67, 0.3), 0px 1px 3px 1px rgba(60, 64, 67, 0.15);\n",
              "      fill: #174EA6;\n",
              "    }\n",
              "\n",
              "    [theme=dark] .colab-df-convert {\n",
              "      background-color: #3B4455;\n",
              "      fill: #D2E3FC;\n",
              "    }\n",
              "\n",
              "    [theme=dark] .colab-df-convert:hover {\n",
              "      background-color: #434B5C;\n",
              "      box-shadow: 0px 1px 3px 1px rgba(0, 0, 0, 0.15);\n",
              "      filter: drop-shadow(0px 1px 2px rgba(0, 0, 0, 0.3));\n",
              "      fill: #FFFFFF;\n",
              "    }\n",
              "  </style>\n",
              "\n",
              "      <script>\n",
              "        const buttonEl =\n",
              "          document.querySelector('#df-304bdc87-fa7e-4fde-bf6c-8f1d252035ca button.colab-df-convert');\n",
              "        buttonEl.style.display =\n",
              "          google.colab.kernel.accessAllowed ? 'block' : 'none';\n",
              "\n",
              "        async function convertToInteractive(key) {\n",
              "          const element = document.querySelector('#df-304bdc87-fa7e-4fde-bf6c-8f1d252035ca');\n",
              "          const dataTable =\n",
              "            await google.colab.kernel.invokeFunction('convertToInteractive',\n",
              "                                                     [key], {});\n",
              "          if (!dataTable) return;\n",
              "\n",
              "          const docLinkHtml = 'Like what you see? Visit the ' +\n",
              "            '<a target=\"_blank\" href=https://colab.research.google.com/notebooks/data_table.ipynb>data table notebook</a>'\n",
              "            + ' to learn more about interactive tables.';\n",
              "          element.innerHTML = '';\n",
              "          dataTable['output_type'] = 'display_data';\n",
              "          await google.colab.output.renderOutput(dataTable, element);\n",
              "          const docLink = document.createElement('div');\n",
              "          docLink.innerHTML = docLinkHtml;\n",
              "          element.appendChild(docLink);\n",
              "        }\n",
              "      </script>\n",
              "    </div>\n",
              "  </div>\n",
              "  "
            ]
          },
          "metadata": {},
          "execution_count": 47
        }
      ],
      "source": [
        "num.head()"
      ]
    },
    {
      "cell_type": "code",
      "execution_count": 48,
      "id": "2dfdf80a",
      "metadata": {
        "colab": {
          "base_uri": "https://localhost:8080/",
          "height": 206
        },
        "id": "2dfdf80a",
        "outputId": "2c214dd3-02f9-404c-a9eb-6347cbb51788"
      },
      "outputs": [
        {
          "output_type": "execute_result",
          "data": {
            "text/plain": [
              "   blue  dual_sim  four_g  n_cores  three_g  touch_screen  wifi\n",
              "0     0         0       0        2        0             0     1\n",
              "1     1         1       1        3        1             1     0\n",
              "2     1         1       1        5        1             1     0\n",
              "3     1         0       0        6        1             0     0\n",
              "4     1         0       1        2        1             1     0"
            ],
            "text/html": [
              "\n",
              "  <div id=\"df-d980e115-48c8-4c7e-ade8-4db3221b8917\">\n",
              "    <div class=\"colab-df-container\">\n",
              "      <div>\n",
              "<style scoped>\n",
              "    .dataframe tbody tr th:only-of-type {\n",
              "        vertical-align: middle;\n",
              "    }\n",
              "\n",
              "    .dataframe tbody tr th {\n",
              "        vertical-align: top;\n",
              "    }\n",
              "\n",
              "    .dataframe thead th {\n",
              "        text-align: right;\n",
              "    }\n",
              "</style>\n",
              "<table border=\"1\" class=\"dataframe\">\n",
              "  <thead>\n",
              "    <tr style=\"text-align: right;\">\n",
              "      <th></th>\n",
              "      <th>blue</th>\n",
              "      <th>dual_sim</th>\n",
              "      <th>four_g</th>\n",
              "      <th>n_cores</th>\n",
              "      <th>three_g</th>\n",
              "      <th>touch_screen</th>\n",
              "      <th>wifi</th>\n",
              "    </tr>\n",
              "  </thead>\n",
              "  <tbody>\n",
              "    <tr>\n",
              "      <th>0</th>\n",
              "      <td>0</td>\n",
              "      <td>0</td>\n",
              "      <td>0</td>\n",
              "      <td>2</td>\n",
              "      <td>0</td>\n",
              "      <td>0</td>\n",
              "      <td>1</td>\n",
              "    </tr>\n",
              "    <tr>\n",
              "      <th>1</th>\n",
              "      <td>1</td>\n",
              "      <td>1</td>\n",
              "      <td>1</td>\n",
              "      <td>3</td>\n",
              "      <td>1</td>\n",
              "      <td>1</td>\n",
              "      <td>0</td>\n",
              "    </tr>\n",
              "    <tr>\n",
              "      <th>2</th>\n",
              "      <td>1</td>\n",
              "      <td>1</td>\n",
              "      <td>1</td>\n",
              "      <td>5</td>\n",
              "      <td>1</td>\n",
              "      <td>1</td>\n",
              "      <td>0</td>\n",
              "    </tr>\n",
              "    <tr>\n",
              "      <th>3</th>\n",
              "      <td>1</td>\n",
              "      <td>0</td>\n",
              "      <td>0</td>\n",
              "      <td>6</td>\n",
              "      <td>1</td>\n",
              "      <td>0</td>\n",
              "      <td>0</td>\n",
              "    </tr>\n",
              "    <tr>\n",
              "      <th>4</th>\n",
              "      <td>1</td>\n",
              "      <td>0</td>\n",
              "      <td>1</td>\n",
              "      <td>2</td>\n",
              "      <td>1</td>\n",
              "      <td>1</td>\n",
              "      <td>0</td>\n",
              "    </tr>\n",
              "  </tbody>\n",
              "</table>\n",
              "</div>\n",
              "      <button class=\"colab-df-convert\" onclick=\"convertToInteractive('df-d980e115-48c8-4c7e-ade8-4db3221b8917')\"\n",
              "              title=\"Convert this dataframe to an interactive table.\"\n",
              "              style=\"display:none;\">\n",
              "        \n",
              "  <svg xmlns=\"http://www.w3.org/2000/svg\" height=\"24px\"viewBox=\"0 0 24 24\"\n",
              "       width=\"24px\">\n",
              "    <path d=\"M0 0h24v24H0V0z\" fill=\"none\"/>\n",
              "    <path d=\"M18.56 5.44l.94 2.06.94-2.06 2.06-.94-2.06-.94-.94-2.06-.94 2.06-2.06.94zm-11 1L8.5 8.5l.94-2.06 2.06-.94-2.06-.94L8.5 2.5l-.94 2.06-2.06.94zm10 10l.94 2.06.94-2.06 2.06-.94-2.06-.94-.94-2.06-.94 2.06-2.06.94z\"/><path d=\"M17.41 7.96l-1.37-1.37c-.4-.4-.92-.59-1.43-.59-.52 0-1.04.2-1.43.59L10.3 9.45l-7.72 7.72c-.78.78-.78 2.05 0 2.83L4 21.41c.39.39.9.59 1.41.59.51 0 1.02-.2 1.41-.59l7.78-7.78 2.81-2.81c.8-.78.8-2.07 0-2.86zM5.41 20L4 18.59l7.72-7.72 1.47 1.35L5.41 20z\"/>\n",
              "  </svg>\n",
              "      </button>\n",
              "      \n",
              "  <style>\n",
              "    .colab-df-container {\n",
              "      display:flex;\n",
              "      flex-wrap:wrap;\n",
              "      gap: 12px;\n",
              "    }\n",
              "\n",
              "    .colab-df-convert {\n",
              "      background-color: #E8F0FE;\n",
              "      border: none;\n",
              "      border-radius: 50%;\n",
              "      cursor: pointer;\n",
              "      display: none;\n",
              "      fill: #1967D2;\n",
              "      height: 32px;\n",
              "      padding: 0 0 0 0;\n",
              "      width: 32px;\n",
              "    }\n",
              "\n",
              "    .colab-df-convert:hover {\n",
              "      background-color: #E2EBFA;\n",
              "      box-shadow: 0px 1px 2px rgba(60, 64, 67, 0.3), 0px 1px 3px 1px rgba(60, 64, 67, 0.15);\n",
              "      fill: #174EA6;\n",
              "    }\n",
              "\n",
              "    [theme=dark] .colab-df-convert {\n",
              "      background-color: #3B4455;\n",
              "      fill: #D2E3FC;\n",
              "    }\n",
              "\n",
              "    [theme=dark] .colab-df-convert:hover {\n",
              "      background-color: #434B5C;\n",
              "      box-shadow: 0px 1px 3px 1px rgba(0, 0, 0, 0.15);\n",
              "      filter: drop-shadow(0px 1px 2px rgba(0, 0, 0, 0.3));\n",
              "      fill: #FFFFFF;\n",
              "    }\n",
              "  </style>\n",
              "\n",
              "      <script>\n",
              "        const buttonEl =\n",
              "          document.querySelector('#df-d980e115-48c8-4c7e-ade8-4db3221b8917 button.colab-df-convert');\n",
              "        buttonEl.style.display =\n",
              "          google.colab.kernel.accessAllowed ? 'block' : 'none';\n",
              "\n",
              "        async function convertToInteractive(key) {\n",
              "          const element = document.querySelector('#df-d980e115-48c8-4c7e-ade8-4db3221b8917');\n",
              "          const dataTable =\n",
              "            await google.colab.kernel.invokeFunction('convertToInteractive',\n",
              "                                                     [key], {});\n",
              "          if (!dataTable) return;\n",
              "\n",
              "          const docLinkHtml = 'Like what you see? Visit the ' +\n",
              "            '<a target=\"_blank\" href=https://colab.research.google.com/notebooks/data_table.ipynb>data table notebook</a>'\n",
              "            + ' to learn more about interactive tables.';\n",
              "          element.innerHTML = '';\n",
              "          dataTable['output_type'] = 'display_data';\n",
              "          await google.colab.output.renderOutput(dataTable, element);\n",
              "          const docLink = document.createElement('div');\n",
              "          docLink.innerHTML = docLinkHtml;\n",
              "          element.appendChild(docLink);\n",
              "        }\n",
              "      </script>\n",
              "    </div>\n",
              "  </div>\n",
              "  "
            ]
          },
          "metadata": {},
          "execution_count": 48
        }
      ],
      "source": [
        "cat.head()"
      ]
    },
    {
      "cell_type": "markdown",
      "id": "6f223a5a",
      "metadata": {
        "id": "6f223a5a"
      },
      "source": [
        "### Converting categorical data to numbers and concating it"
      ]
    },
    {
      "cell_type": "code",
      "execution_count": 49,
      "id": "149cd4e4",
      "metadata": {
        "id": "149cd4e4"
      },
      "outputs": [],
      "source": [
        "## using pandas get_dummies method to convert categorical to numerical\n",
        "cat_num = pd.concat([pd.get_dummies(cat['blue'],prefix='blue'), pd.get_dummies(cat['dual_sim'],prefix='dual_sim'),pd.get_dummies(cat['four_g'],'four_g'), pd.get_dummies(cat['n_cores'],prefix='core'), pd.get_dummies(cat['three_g'],prefix='three_g'),pd.get_dummies(cat['touch_screen'],prefix='touch_screen'),pd.get_dummies(cat['wifi'],prefix='wifi')], axis=1)"
      ]
    },
    {
      "cell_type": "code",
      "execution_count": 50,
      "id": "b433732a",
      "metadata": {
        "colab": {
          "base_uri": "https://localhost:8080/",
          "height": 270
        },
        "id": "b433732a",
        "outputId": "94c6a07b-7e3c-4835-e12d-105ce16f99fb"
      },
      "outputs": [
        {
          "output_type": "execute_result",
          "data": {
            "text/plain": [
              "   blue_0  blue_1  dual_sim_0  dual_sim_1  four_g_0  four_g_1  core_1  core_2  \\\n",
              "0       1       0           1           0         1         0       0       1   \n",
              "1       0       1           0           1         0         1       0       0   \n",
              "2       0       1           0           1         0         1       0       0   \n",
              "3       0       1           1           0         1         0       0       0   \n",
              "4       0       1           1           0         0         1       0       1   \n",
              "\n",
              "   core_3  core_4  core_5  core_6  core_7  core_8  three_g_0  three_g_1  \\\n",
              "0       0       0       0       0       0       0          1          0   \n",
              "1       1       0       0       0       0       0          0          1   \n",
              "2       0       0       1       0       0       0          0          1   \n",
              "3       0       0       0       1       0       0          0          1   \n",
              "4       0       0       0       0       0       0          0          1   \n",
              "\n",
              "   touch_screen_0  touch_screen_1  wifi_0  wifi_1  \n",
              "0               1               0       0       1  \n",
              "1               0               1       1       0  \n",
              "2               0               1       1       0  \n",
              "3               1               0       1       0  \n",
              "4               0               1       1       0  "
            ],
            "text/html": [
              "\n",
              "  <div id=\"df-54867503-4998-4986-8651-9d52f2da696f\">\n",
              "    <div class=\"colab-df-container\">\n",
              "      <div>\n",
              "<style scoped>\n",
              "    .dataframe tbody tr th:only-of-type {\n",
              "        vertical-align: middle;\n",
              "    }\n",
              "\n",
              "    .dataframe tbody tr th {\n",
              "        vertical-align: top;\n",
              "    }\n",
              "\n",
              "    .dataframe thead th {\n",
              "        text-align: right;\n",
              "    }\n",
              "</style>\n",
              "<table border=\"1\" class=\"dataframe\">\n",
              "  <thead>\n",
              "    <tr style=\"text-align: right;\">\n",
              "      <th></th>\n",
              "      <th>blue_0</th>\n",
              "      <th>blue_1</th>\n",
              "      <th>dual_sim_0</th>\n",
              "      <th>dual_sim_1</th>\n",
              "      <th>four_g_0</th>\n",
              "      <th>four_g_1</th>\n",
              "      <th>core_1</th>\n",
              "      <th>core_2</th>\n",
              "      <th>core_3</th>\n",
              "      <th>core_4</th>\n",
              "      <th>core_5</th>\n",
              "      <th>core_6</th>\n",
              "      <th>core_7</th>\n",
              "      <th>core_8</th>\n",
              "      <th>three_g_0</th>\n",
              "      <th>three_g_1</th>\n",
              "      <th>touch_screen_0</th>\n",
              "      <th>touch_screen_1</th>\n",
              "      <th>wifi_0</th>\n",
              "      <th>wifi_1</th>\n",
              "    </tr>\n",
              "  </thead>\n",
              "  <tbody>\n",
              "    <tr>\n",
              "      <th>0</th>\n",
              "      <td>1</td>\n",
              "      <td>0</td>\n",
              "      <td>1</td>\n",
              "      <td>0</td>\n",
              "      <td>1</td>\n",
              "      <td>0</td>\n",
              "      <td>0</td>\n",
              "      <td>1</td>\n",
              "      <td>0</td>\n",
              "      <td>0</td>\n",
              "      <td>0</td>\n",
              "      <td>0</td>\n",
              "      <td>0</td>\n",
              "      <td>0</td>\n",
              "      <td>1</td>\n",
              "      <td>0</td>\n",
              "      <td>1</td>\n",
              "      <td>0</td>\n",
              "      <td>0</td>\n",
              "      <td>1</td>\n",
              "    </tr>\n",
              "    <tr>\n",
              "      <th>1</th>\n",
              "      <td>0</td>\n",
              "      <td>1</td>\n",
              "      <td>0</td>\n",
              "      <td>1</td>\n",
              "      <td>0</td>\n",
              "      <td>1</td>\n",
              "      <td>0</td>\n",
              "      <td>0</td>\n",
              "      <td>1</td>\n",
              "      <td>0</td>\n",
              "      <td>0</td>\n",
              "      <td>0</td>\n",
              "      <td>0</td>\n",
              "      <td>0</td>\n",
              "      <td>0</td>\n",
              "      <td>1</td>\n",
              "      <td>0</td>\n",
              "      <td>1</td>\n",
              "      <td>1</td>\n",
              "      <td>0</td>\n",
              "    </tr>\n",
              "    <tr>\n",
              "      <th>2</th>\n",
              "      <td>0</td>\n",
              "      <td>1</td>\n",
              "      <td>0</td>\n",
              "      <td>1</td>\n",
              "      <td>0</td>\n",
              "      <td>1</td>\n",
              "      <td>0</td>\n",
              "      <td>0</td>\n",
              "      <td>0</td>\n",
              "      <td>0</td>\n",
              "      <td>1</td>\n",
              "      <td>0</td>\n",
              "      <td>0</td>\n",
              "      <td>0</td>\n",
              "      <td>0</td>\n",
              "      <td>1</td>\n",
              "      <td>0</td>\n",
              "      <td>1</td>\n",
              "      <td>1</td>\n",
              "      <td>0</td>\n",
              "    </tr>\n",
              "    <tr>\n",
              "      <th>3</th>\n",
              "      <td>0</td>\n",
              "      <td>1</td>\n",
              "      <td>1</td>\n",
              "      <td>0</td>\n",
              "      <td>1</td>\n",
              "      <td>0</td>\n",
              "      <td>0</td>\n",
              "      <td>0</td>\n",
              "      <td>0</td>\n",
              "      <td>0</td>\n",
              "      <td>0</td>\n",
              "      <td>1</td>\n",
              "      <td>0</td>\n",
              "      <td>0</td>\n",
              "      <td>0</td>\n",
              "      <td>1</td>\n",
              "      <td>1</td>\n",
              "      <td>0</td>\n",
              "      <td>1</td>\n",
              "      <td>0</td>\n",
              "    </tr>\n",
              "    <tr>\n",
              "      <th>4</th>\n",
              "      <td>0</td>\n",
              "      <td>1</td>\n",
              "      <td>1</td>\n",
              "      <td>0</td>\n",
              "      <td>0</td>\n",
              "      <td>1</td>\n",
              "      <td>0</td>\n",
              "      <td>1</td>\n",
              "      <td>0</td>\n",
              "      <td>0</td>\n",
              "      <td>0</td>\n",
              "      <td>0</td>\n",
              "      <td>0</td>\n",
              "      <td>0</td>\n",
              "      <td>0</td>\n",
              "      <td>1</td>\n",
              "      <td>0</td>\n",
              "      <td>1</td>\n",
              "      <td>1</td>\n",
              "      <td>0</td>\n",
              "    </tr>\n",
              "  </tbody>\n",
              "</table>\n",
              "</div>\n",
              "      <button class=\"colab-df-convert\" onclick=\"convertToInteractive('df-54867503-4998-4986-8651-9d52f2da696f')\"\n",
              "              title=\"Convert this dataframe to an interactive table.\"\n",
              "              style=\"display:none;\">\n",
              "        \n",
              "  <svg xmlns=\"http://www.w3.org/2000/svg\" height=\"24px\"viewBox=\"0 0 24 24\"\n",
              "       width=\"24px\">\n",
              "    <path d=\"M0 0h24v24H0V0z\" fill=\"none\"/>\n",
              "    <path d=\"M18.56 5.44l.94 2.06.94-2.06 2.06-.94-2.06-.94-.94-2.06-.94 2.06-2.06.94zm-11 1L8.5 8.5l.94-2.06 2.06-.94-2.06-.94L8.5 2.5l-.94 2.06-2.06.94zm10 10l.94 2.06.94-2.06 2.06-.94-2.06-.94-.94-2.06-.94 2.06-2.06.94z\"/><path d=\"M17.41 7.96l-1.37-1.37c-.4-.4-.92-.59-1.43-.59-.52 0-1.04.2-1.43.59L10.3 9.45l-7.72 7.72c-.78.78-.78 2.05 0 2.83L4 21.41c.39.39.9.59 1.41.59.51 0 1.02-.2 1.41-.59l7.78-7.78 2.81-2.81c.8-.78.8-2.07 0-2.86zM5.41 20L4 18.59l7.72-7.72 1.47 1.35L5.41 20z\"/>\n",
              "  </svg>\n",
              "      </button>\n",
              "      \n",
              "  <style>\n",
              "    .colab-df-container {\n",
              "      display:flex;\n",
              "      flex-wrap:wrap;\n",
              "      gap: 12px;\n",
              "    }\n",
              "\n",
              "    .colab-df-convert {\n",
              "      background-color: #E8F0FE;\n",
              "      border: none;\n",
              "      border-radius: 50%;\n",
              "      cursor: pointer;\n",
              "      display: none;\n",
              "      fill: #1967D2;\n",
              "      height: 32px;\n",
              "      padding: 0 0 0 0;\n",
              "      width: 32px;\n",
              "    }\n",
              "\n",
              "    .colab-df-convert:hover {\n",
              "      background-color: #E2EBFA;\n",
              "      box-shadow: 0px 1px 2px rgba(60, 64, 67, 0.3), 0px 1px 3px 1px rgba(60, 64, 67, 0.15);\n",
              "      fill: #174EA6;\n",
              "    }\n",
              "\n",
              "    [theme=dark] .colab-df-convert {\n",
              "      background-color: #3B4455;\n",
              "      fill: #D2E3FC;\n",
              "    }\n",
              "\n",
              "    [theme=dark] .colab-df-convert:hover {\n",
              "      background-color: #434B5C;\n",
              "      box-shadow: 0px 1px 3px 1px rgba(0, 0, 0, 0.15);\n",
              "      filter: drop-shadow(0px 1px 2px rgba(0, 0, 0, 0.3));\n",
              "      fill: #FFFFFF;\n",
              "    }\n",
              "  </style>\n",
              "\n",
              "      <script>\n",
              "        const buttonEl =\n",
              "          document.querySelector('#df-54867503-4998-4986-8651-9d52f2da696f button.colab-df-convert');\n",
              "        buttonEl.style.display =\n",
              "          google.colab.kernel.accessAllowed ? 'block' : 'none';\n",
              "\n",
              "        async function convertToInteractive(key) {\n",
              "          const element = document.querySelector('#df-54867503-4998-4986-8651-9d52f2da696f');\n",
              "          const dataTable =\n",
              "            await google.colab.kernel.invokeFunction('convertToInteractive',\n",
              "                                                     [key], {});\n",
              "          if (!dataTable) return;\n",
              "\n",
              "          const docLinkHtml = 'Like what you see? Visit the ' +\n",
              "            '<a target=\"_blank\" href=https://colab.research.google.com/notebooks/data_table.ipynb>data table notebook</a>'\n",
              "            + ' to learn more about interactive tables.';\n",
              "          element.innerHTML = '';\n",
              "          dataTable['output_type'] = 'display_data';\n",
              "          await google.colab.output.renderOutput(dataTable, element);\n",
              "          const docLink = document.createElement('div');\n",
              "          docLink.innerHTML = docLinkHtml;\n",
              "          element.appendChild(docLink);\n",
              "        }\n",
              "      </script>\n",
              "    </div>\n",
              "  </div>\n",
              "  "
            ]
          },
          "metadata": {},
          "execution_count": 50
        }
      ],
      "source": [
        "cat_num.head()"
      ]
    },
    {
      "cell_type": "code",
      "execution_count": 51,
      "id": "6a871abf",
      "metadata": {
        "id": "6a871abf"
      },
      "outputs": [],
      "source": [
        "X = pd.concat([num,cat_num],axis = 1)"
      ]
    },
    {
      "cell_type": "code",
      "execution_count": 52,
      "id": "789a4020",
      "metadata": {
        "colab": {
          "base_uri": "https://localhost:8080/",
          "height": 270
        },
        "id": "789a4020",
        "outputId": "c6607abd-1fad-4a63-e6dd-d940fc9ba3db"
      },
      "outputs": [
        {
          "output_type": "execute_result",
          "data": {
            "text/plain": [
              "   battery_power  clock_speed  fc  int_memory  m_dep  mobile_wt  pc  \\\n",
              "0            842          2.2   1           7    0.6        188   2   \n",
              "1           1021          0.5   0          53    0.7        136   6   \n",
              "2            563          0.5   2          41    0.9        145   6   \n",
              "3            615          2.5   0          10    0.8        131   9   \n",
              "4           1821          1.2  13          44    0.6        141  14   \n",
              "\n",
              "   px_height  px_width   ram  sc_h  sc_w  talk_time  pixel_area  screen_area  \\\n",
              "0         20       756  2549     9     7         19       15120           63   \n",
              "1        905      1988  2631    17     3          7     1799140           51   \n",
              "2       1263      1716  2603    11     2          9     2167308           22   \n",
              "3       1216      1786  2769    16     8         11     2171776          128   \n",
              "4       1208      1212  1411     8     2         15     1464096           16   \n",
              "\n",
              "   blue_0  blue_1  dual_sim_0  dual_sim_1  four_g_0  four_g_1  core_1  core_2  \\\n",
              "0       1       0           1           0         1         0       0       1   \n",
              "1       0       1           0           1         0         1       0       0   \n",
              "2       0       1           0           1         0         1       0       0   \n",
              "3       0       1           1           0         1         0       0       0   \n",
              "4       0       1           1           0         0         1       0       1   \n",
              "\n",
              "   core_3  core_4  core_5  core_6  core_7  core_8  three_g_0  three_g_1  \\\n",
              "0       0       0       0       0       0       0          1          0   \n",
              "1       1       0       0       0       0       0          0          1   \n",
              "2       0       0       1       0       0       0          0          1   \n",
              "3       0       0       0       1       0       0          0          1   \n",
              "4       0       0       0       0       0       0          0          1   \n",
              "\n",
              "   touch_screen_0  touch_screen_1  wifi_0  wifi_1  \n",
              "0               1               0       0       1  \n",
              "1               0               1       1       0  \n",
              "2               0               1       1       0  \n",
              "3               1               0       1       0  \n",
              "4               0               1       1       0  "
            ],
            "text/html": [
              "\n",
              "  <div id=\"df-698fd980-5d96-4699-a27b-a1632361182c\">\n",
              "    <div class=\"colab-df-container\">\n",
              "      <div>\n",
              "<style scoped>\n",
              "    .dataframe tbody tr th:only-of-type {\n",
              "        vertical-align: middle;\n",
              "    }\n",
              "\n",
              "    .dataframe tbody tr th {\n",
              "        vertical-align: top;\n",
              "    }\n",
              "\n",
              "    .dataframe thead th {\n",
              "        text-align: right;\n",
              "    }\n",
              "</style>\n",
              "<table border=\"1\" class=\"dataframe\">\n",
              "  <thead>\n",
              "    <tr style=\"text-align: right;\">\n",
              "      <th></th>\n",
              "      <th>battery_power</th>\n",
              "      <th>clock_speed</th>\n",
              "      <th>fc</th>\n",
              "      <th>int_memory</th>\n",
              "      <th>m_dep</th>\n",
              "      <th>mobile_wt</th>\n",
              "      <th>pc</th>\n",
              "      <th>px_height</th>\n",
              "      <th>px_width</th>\n",
              "      <th>ram</th>\n",
              "      <th>sc_h</th>\n",
              "      <th>sc_w</th>\n",
              "      <th>talk_time</th>\n",
              "      <th>pixel_area</th>\n",
              "      <th>screen_area</th>\n",
              "      <th>blue_0</th>\n",
              "      <th>blue_1</th>\n",
              "      <th>dual_sim_0</th>\n",
              "      <th>dual_sim_1</th>\n",
              "      <th>four_g_0</th>\n",
              "      <th>four_g_1</th>\n",
              "      <th>core_1</th>\n",
              "      <th>core_2</th>\n",
              "      <th>core_3</th>\n",
              "      <th>core_4</th>\n",
              "      <th>core_5</th>\n",
              "      <th>core_6</th>\n",
              "      <th>core_7</th>\n",
              "      <th>core_8</th>\n",
              "      <th>three_g_0</th>\n",
              "      <th>three_g_1</th>\n",
              "      <th>touch_screen_0</th>\n",
              "      <th>touch_screen_1</th>\n",
              "      <th>wifi_0</th>\n",
              "      <th>wifi_1</th>\n",
              "    </tr>\n",
              "  </thead>\n",
              "  <tbody>\n",
              "    <tr>\n",
              "      <th>0</th>\n",
              "      <td>842</td>\n",
              "      <td>2.2</td>\n",
              "      <td>1</td>\n",
              "      <td>7</td>\n",
              "      <td>0.6</td>\n",
              "      <td>188</td>\n",
              "      <td>2</td>\n",
              "      <td>20</td>\n",
              "      <td>756</td>\n",
              "      <td>2549</td>\n",
              "      <td>9</td>\n",
              "      <td>7</td>\n",
              "      <td>19</td>\n",
              "      <td>15120</td>\n",
              "      <td>63</td>\n",
              "      <td>1</td>\n",
              "      <td>0</td>\n",
              "      <td>1</td>\n",
              "      <td>0</td>\n",
              "      <td>1</td>\n",
              "      <td>0</td>\n",
              "      <td>0</td>\n",
              "      <td>1</td>\n",
              "      <td>0</td>\n",
              "      <td>0</td>\n",
              "      <td>0</td>\n",
              "      <td>0</td>\n",
              "      <td>0</td>\n",
              "      <td>0</td>\n",
              "      <td>1</td>\n",
              "      <td>0</td>\n",
              "      <td>1</td>\n",
              "      <td>0</td>\n",
              "      <td>0</td>\n",
              "      <td>1</td>\n",
              "    </tr>\n",
              "    <tr>\n",
              "      <th>1</th>\n",
              "      <td>1021</td>\n",
              "      <td>0.5</td>\n",
              "      <td>0</td>\n",
              "      <td>53</td>\n",
              "      <td>0.7</td>\n",
              "      <td>136</td>\n",
              "      <td>6</td>\n",
              "      <td>905</td>\n",
              "      <td>1988</td>\n",
              "      <td>2631</td>\n",
              "      <td>17</td>\n",
              "      <td>3</td>\n",
              "      <td>7</td>\n",
              "      <td>1799140</td>\n",
              "      <td>51</td>\n",
              "      <td>0</td>\n",
              "      <td>1</td>\n",
              "      <td>0</td>\n",
              "      <td>1</td>\n",
              "      <td>0</td>\n",
              "      <td>1</td>\n",
              "      <td>0</td>\n",
              "      <td>0</td>\n",
              "      <td>1</td>\n",
              "      <td>0</td>\n",
              "      <td>0</td>\n",
              "      <td>0</td>\n",
              "      <td>0</td>\n",
              "      <td>0</td>\n",
              "      <td>0</td>\n",
              "      <td>1</td>\n",
              "      <td>0</td>\n",
              "      <td>1</td>\n",
              "      <td>1</td>\n",
              "      <td>0</td>\n",
              "    </tr>\n",
              "    <tr>\n",
              "      <th>2</th>\n",
              "      <td>563</td>\n",
              "      <td>0.5</td>\n",
              "      <td>2</td>\n",
              "      <td>41</td>\n",
              "      <td>0.9</td>\n",
              "      <td>145</td>\n",
              "      <td>6</td>\n",
              "      <td>1263</td>\n",
              "      <td>1716</td>\n",
              "      <td>2603</td>\n",
              "      <td>11</td>\n",
              "      <td>2</td>\n",
              "      <td>9</td>\n",
              "      <td>2167308</td>\n",
              "      <td>22</td>\n",
              "      <td>0</td>\n",
              "      <td>1</td>\n",
              "      <td>0</td>\n",
              "      <td>1</td>\n",
              "      <td>0</td>\n",
              "      <td>1</td>\n",
              "      <td>0</td>\n",
              "      <td>0</td>\n",
              "      <td>0</td>\n",
              "      <td>0</td>\n",
              "      <td>1</td>\n",
              "      <td>0</td>\n",
              "      <td>0</td>\n",
              "      <td>0</td>\n",
              "      <td>0</td>\n",
              "      <td>1</td>\n",
              "      <td>0</td>\n",
              "      <td>1</td>\n",
              "      <td>1</td>\n",
              "      <td>0</td>\n",
              "    </tr>\n",
              "    <tr>\n",
              "      <th>3</th>\n",
              "      <td>615</td>\n",
              "      <td>2.5</td>\n",
              "      <td>0</td>\n",
              "      <td>10</td>\n",
              "      <td>0.8</td>\n",
              "      <td>131</td>\n",
              "      <td>9</td>\n",
              "      <td>1216</td>\n",
              "      <td>1786</td>\n",
              "      <td>2769</td>\n",
              "      <td>16</td>\n",
              "      <td>8</td>\n",
              "      <td>11</td>\n",
              "      <td>2171776</td>\n",
              "      <td>128</td>\n",
              "      <td>0</td>\n",
              "      <td>1</td>\n",
              "      <td>1</td>\n",
              "      <td>0</td>\n",
              "      <td>1</td>\n",
              "      <td>0</td>\n",
              "      <td>0</td>\n",
              "      <td>0</td>\n",
              "      <td>0</td>\n",
              "      <td>0</td>\n",
              "      <td>0</td>\n",
              "      <td>1</td>\n",
              "      <td>0</td>\n",
              "      <td>0</td>\n",
              "      <td>0</td>\n",
              "      <td>1</td>\n",
              "      <td>1</td>\n",
              "      <td>0</td>\n",
              "      <td>1</td>\n",
              "      <td>0</td>\n",
              "    </tr>\n",
              "    <tr>\n",
              "      <th>4</th>\n",
              "      <td>1821</td>\n",
              "      <td>1.2</td>\n",
              "      <td>13</td>\n",
              "      <td>44</td>\n",
              "      <td>0.6</td>\n",
              "      <td>141</td>\n",
              "      <td>14</td>\n",
              "      <td>1208</td>\n",
              "      <td>1212</td>\n",
              "      <td>1411</td>\n",
              "      <td>8</td>\n",
              "      <td>2</td>\n",
              "      <td>15</td>\n",
              "      <td>1464096</td>\n",
              "      <td>16</td>\n",
              "      <td>0</td>\n",
              "      <td>1</td>\n",
              "      <td>1</td>\n",
              "      <td>0</td>\n",
              "      <td>0</td>\n",
              "      <td>1</td>\n",
              "      <td>0</td>\n",
              "      <td>1</td>\n",
              "      <td>0</td>\n",
              "      <td>0</td>\n",
              "      <td>0</td>\n",
              "      <td>0</td>\n",
              "      <td>0</td>\n",
              "      <td>0</td>\n",
              "      <td>0</td>\n",
              "      <td>1</td>\n",
              "      <td>0</td>\n",
              "      <td>1</td>\n",
              "      <td>1</td>\n",
              "      <td>0</td>\n",
              "    </tr>\n",
              "  </tbody>\n",
              "</table>\n",
              "</div>\n",
              "      <button class=\"colab-df-convert\" onclick=\"convertToInteractive('df-698fd980-5d96-4699-a27b-a1632361182c')\"\n",
              "              title=\"Convert this dataframe to an interactive table.\"\n",
              "              style=\"display:none;\">\n",
              "        \n",
              "  <svg xmlns=\"http://www.w3.org/2000/svg\" height=\"24px\"viewBox=\"0 0 24 24\"\n",
              "       width=\"24px\">\n",
              "    <path d=\"M0 0h24v24H0V0z\" fill=\"none\"/>\n",
              "    <path d=\"M18.56 5.44l.94 2.06.94-2.06 2.06-.94-2.06-.94-.94-2.06-.94 2.06-2.06.94zm-11 1L8.5 8.5l.94-2.06 2.06-.94-2.06-.94L8.5 2.5l-.94 2.06-2.06.94zm10 10l.94 2.06.94-2.06 2.06-.94-2.06-.94-.94-2.06-.94 2.06-2.06.94z\"/><path d=\"M17.41 7.96l-1.37-1.37c-.4-.4-.92-.59-1.43-.59-.52 0-1.04.2-1.43.59L10.3 9.45l-7.72 7.72c-.78.78-.78 2.05 0 2.83L4 21.41c.39.39.9.59 1.41.59.51 0 1.02-.2 1.41-.59l7.78-7.78 2.81-2.81c.8-.78.8-2.07 0-2.86zM5.41 20L4 18.59l7.72-7.72 1.47 1.35L5.41 20z\"/>\n",
              "  </svg>\n",
              "      </button>\n",
              "      \n",
              "  <style>\n",
              "    .colab-df-container {\n",
              "      display:flex;\n",
              "      flex-wrap:wrap;\n",
              "      gap: 12px;\n",
              "    }\n",
              "\n",
              "    .colab-df-convert {\n",
              "      background-color: #E8F0FE;\n",
              "      border: none;\n",
              "      border-radius: 50%;\n",
              "      cursor: pointer;\n",
              "      display: none;\n",
              "      fill: #1967D2;\n",
              "      height: 32px;\n",
              "      padding: 0 0 0 0;\n",
              "      width: 32px;\n",
              "    }\n",
              "\n",
              "    .colab-df-convert:hover {\n",
              "      background-color: #E2EBFA;\n",
              "      box-shadow: 0px 1px 2px rgba(60, 64, 67, 0.3), 0px 1px 3px 1px rgba(60, 64, 67, 0.15);\n",
              "      fill: #174EA6;\n",
              "    }\n",
              "\n",
              "    [theme=dark] .colab-df-convert {\n",
              "      background-color: #3B4455;\n",
              "      fill: #D2E3FC;\n",
              "    }\n",
              "\n",
              "    [theme=dark] .colab-df-convert:hover {\n",
              "      background-color: #434B5C;\n",
              "      box-shadow: 0px 1px 3px 1px rgba(0, 0, 0, 0.15);\n",
              "      filter: drop-shadow(0px 1px 2px rgba(0, 0, 0, 0.3));\n",
              "      fill: #FFFFFF;\n",
              "    }\n",
              "  </style>\n",
              "\n",
              "      <script>\n",
              "        const buttonEl =\n",
              "          document.querySelector('#df-698fd980-5d96-4699-a27b-a1632361182c button.colab-df-convert');\n",
              "        buttonEl.style.display =\n",
              "          google.colab.kernel.accessAllowed ? 'block' : 'none';\n",
              "\n",
              "        async function convertToInteractive(key) {\n",
              "          const element = document.querySelector('#df-698fd980-5d96-4699-a27b-a1632361182c');\n",
              "          const dataTable =\n",
              "            await google.colab.kernel.invokeFunction('convertToInteractive',\n",
              "                                                     [key], {});\n",
              "          if (!dataTable) return;\n",
              "\n",
              "          const docLinkHtml = 'Like what you see? Visit the ' +\n",
              "            '<a target=\"_blank\" href=https://colab.research.google.com/notebooks/data_table.ipynb>data table notebook</a>'\n",
              "            + ' to learn more about interactive tables.';\n",
              "          element.innerHTML = '';\n",
              "          dataTable['output_type'] = 'display_data';\n",
              "          await google.colab.output.renderOutput(dataTable, element);\n",
              "          const docLink = document.createElement('div');\n",
              "          docLink.innerHTML = docLinkHtml;\n",
              "          element.appendChild(docLink);\n",
              "        }\n",
              "      </script>\n",
              "    </div>\n",
              "  </div>\n",
              "  "
            ]
          },
          "metadata": {},
          "execution_count": 52
        }
      ],
      "source": [
        "X.head()"
      ]
    },
    {
      "cell_type": "markdown",
      "id": "e5aecf07",
      "metadata": {
        "id": "e5aecf07"
      },
      "source": [
        "### Dropping Unwanted Features :"
      ]
    },
    {
      "cell_type": "code",
      "execution_count": 53,
      "id": "8b637502",
      "metadata": {
        "id": "8b637502"
      },
      "outputs": [],
      "source": [
        "## Now since we have features-pixel_area and screen_area which are extracted from pc_h,pc_w & sc_h,sc_w we don't need them\n",
        "X.drop(['px_height', 'px_width','sc_h','sc_w'], axis = 1, inplace = True)     "
      ]
    },
    {
      "cell_type": "code",
      "execution_count": 54,
      "id": "ffa432d3",
      "metadata": {
        "colab": {
          "base_uri": "https://localhost:8080/",
          "height": 270
        },
        "id": "ffa432d3",
        "outputId": "92de086e-159c-4576-df31-065915d7703c"
      },
      "outputs": [
        {
          "output_type": "execute_result",
          "data": {
            "text/plain": [
              "   battery_power  clock_speed  fc  int_memory  m_dep  mobile_wt  pc   ram  \\\n",
              "0            842          2.2   1           7    0.6        188   2  2549   \n",
              "1           1021          0.5   0          53    0.7        136   6  2631   \n",
              "2            563          0.5   2          41    0.9        145   6  2603   \n",
              "3            615          2.5   0          10    0.8        131   9  2769   \n",
              "4           1821          1.2  13          44    0.6        141  14  1411   \n",
              "\n",
              "   talk_time  pixel_area  screen_area  blue_0  blue_1  dual_sim_0  dual_sim_1  \\\n",
              "0         19       15120           63       1       0           1           0   \n",
              "1          7     1799140           51       0       1           0           1   \n",
              "2          9     2167308           22       0       1           0           1   \n",
              "3         11     2171776          128       0       1           1           0   \n",
              "4         15     1464096           16       0       1           1           0   \n",
              "\n",
              "   four_g_0  four_g_1  core_1  core_2  core_3  core_4  core_5  core_6  core_7  \\\n",
              "0         1         0       0       1       0       0       0       0       0   \n",
              "1         0         1       0       0       1       0       0       0       0   \n",
              "2         0         1       0       0       0       0       1       0       0   \n",
              "3         1         0       0       0       0       0       0       1       0   \n",
              "4         0         1       0       1       0       0       0       0       0   \n",
              "\n",
              "   core_8  three_g_0  three_g_1  touch_screen_0  touch_screen_1  wifi_0  \\\n",
              "0       0          1          0               1               0       0   \n",
              "1       0          0          1               0               1       1   \n",
              "2       0          0          1               0               1       1   \n",
              "3       0          0          1               1               0       1   \n",
              "4       0          0          1               0               1       1   \n",
              "\n",
              "   wifi_1  \n",
              "0       1  \n",
              "1       0  \n",
              "2       0  \n",
              "3       0  \n",
              "4       0  "
            ],
            "text/html": [
              "\n",
              "  <div id=\"df-8a7c96c0-35a7-4ab8-b327-94893013d356\">\n",
              "    <div class=\"colab-df-container\">\n",
              "      <div>\n",
              "<style scoped>\n",
              "    .dataframe tbody tr th:only-of-type {\n",
              "        vertical-align: middle;\n",
              "    }\n",
              "\n",
              "    .dataframe tbody tr th {\n",
              "        vertical-align: top;\n",
              "    }\n",
              "\n",
              "    .dataframe thead th {\n",
              "        text-align: right;\n",
              "    }\n",
              "</style>\n",
              "<table border=\"1\" class=\"dataframe\">\n",
              "  <thead>\n",
              "    <tr style=\"text-align: right;\">\n",
              "      <th></th>\n",
              "      <th>battery_power</th>\n",
              "      <th>clock_speed</th>\n",
              "      <th>fc</th>\n",
              "      <th>int_memory</th>\n",
              "      <th>m_dep</th>\n",
              "      <th>mobile_wt</th>\n",
              "      <th>pc</th>\n",
              "      <th>ram</th>\n",
              "      <th>talk_time</th>\n",
              "      <th>pixel_area</th>\n",
              "      <th>screen_area</th>\n",
              "      <th>blue_0</th>\n",
              "      <th>blue_1</th>\n",
              "      <th>dual_sim_0</th>\n",
              "      <th>dual_sim_1</th>\n",
              "      <th>four_g_0</th>\n",
              "      <th>four_g_1</th>\n",
              "      <th>core_1</th>\n",
              "      <th>core_2</th>\n",
              "      <th>core_3</th>\n",
              "      <th>core_4</th>\n",
              "      <th>core_5</th>\n",
              "      <th>core_6</th>\n",
              "      <th>core_7</th>\n",
              "      <th>core_8</th>\n",
              "      <th>three_g_0</th>\n",
              "      <th>three_g_1</th>\n",
              "      <th>touch_screen_0</th>\n",
              "      <th>touch_screen_1</th>\n",
              "      <th>wifi_0</th>\n",
              "      <th>wifi_1</th>\n",
              "    </tr>\n",
              "  </thead>\n",
              "  <tbody>\n",
              "    <tr>\n",
              "      <th>0</th>\n",
              "      <td>842</td>\n",
              "      <td>2.2</td>\n",
              "      <td>1</td>\n",
              "      <td>7</td>\n",
              "      <td>0.6</td>\n",
              "      <td>188</td>\n",
              "      <td>2</td>\n",
              "      <td>2549</td>\n",
              "      <td>19</td>\n",
              "      <td>15120</td>\n",
              "      <td>63</td>\n",
              "      <td>1</td>\n",
              "      <td>0</td>\n",
              "      <td>1</td>\n",
              "      <td>0</td>\n",
              "      <td>1</td>\n",
              "      <td>0</td>\n",
              "      <td>0</td>\n",
              "      <td>1</td>\n",
              "      <td>0</td>\n",
              "      <td>0</td>\n",
              "      <td>0</td>\n",
              "      <td>0</td>\n",
              "      <td>0</td>\n",
              "      <td>0</td>\n",
              "      <td>1</td>\n",
              "      <td>0</td>\n",
              "      <td>1</td>\n",
              "      <td>0</td>\n",
              "      <td>0</td>\n",
              "      <td>1</td>\n",
              "    </tr>\n",
              "    <tr>\n",
              "      <th>1</th>\n",
              "      <td>1021</td>\n",
              "      <td>0.5</td>\n",
              "      <td>0</td>\n",
              "      <td>53</td>\n",
              "      <td>0.7</td>\n",
              "      <td>136</td>\n",
              "      <td>6</td>\n",
              "      <td>2631</td>\n",
              "      <td>7</td>\n",
              "      <td>1799140</td>\n",
              "      <td>51</td>\n",
              "      <td>0</td>\n",
              "      <td>1</td>\n",
              "      <td>0</td>\n",
              "      <td>1</td>\n",
              "      <td>0</td>\n",
              "      <td>1</td>\n",
              "      <td>0</td>\n",
              "      <td>0</td>\n",
              "      <td>1</td>\n",
              "      <td>0</td>\n",
              "      <td>0</td>\n",
              "      <td>0</td>\n",
              "      <td>0</td>\n",
              "      <td>0</td>\n",
              "      <td>0</td>\n",
              "      <td>1</td>\n",
              "      <td>0</td>\n",
              "      <td>1</td>\n",
              "      <td>1</td>\n",
              "      <td>0</td>\n",
              "    </tr>\n",
              "    <tr>\n",
              "      <th>2</th>\n",
              "      <td>563</td>\n",
              "      <td>0.5</td>\n",
              "      <td>2</td>\n",
              "      <td>41</td>\n",
              "      <td>0.9</td>\n",
              "      <td>145</td>\n",
              "      <td>6</td>\n",
              "      <td>2603</td>\n",
              "      <td>9</td>\n",
              "      <td>2167308</td>\n",
              "      <td>22</td>\n",
              "      <td>0</td>\n",
              "      <td>1</td>\n",
              "      <td>0</td>\n",
              "      <td>1</td>\n",
              "      <td>0</td>\n",
              "      <td>1</td>\n",
              "      <td>0</td>\n",
              "      <td>0</td>\n",
              "      <td>0</td>\n",
              "      <td>0</td>\n",
              "      <td>1</td>\n",
              "      <td>0</td>\n",
              "      <td>0</td>\n",
              "      <td>0</td>\n",
              "      <td>0</td>\n",
              "      <td>1</td>\n",
              "      <td>0</td>\n",
              "      <td>1</td>\n",
              "      <td>1</td>\n",
              "      <td>0</td>\n",
              "    </tr>\n",
              "    <tr>\n",
              "      <th>3</th>\n",
              "      <td>615</td>\n",
              "      <td>2.5</td>\n",
              "      <td>0</td>\n",
              "      <td>10</td>\n",
              "      <td>0.8</td>\n",
              "      <td>131</td>\n",
              "      <td>9</td>\n",
              "      <td>2769</td>\n",
              "      <td>11</td>\n",
              "      <td>2171776</td>\n",
              "      <td>128</td>\n",
              "      <td>0</td>\n",
              "      <td>1</td>\n",
              "      <td>1</td>\n",
              "      <td>0</td>\n",
              "      <td>1</td>\n",
              "      <td>0</td>\n",
              "      <td>0</td>\n",
              "      <td>0</td>\n",
              "      <td>0</td>\n",
              "      <td>0</td>\n",
              "      <td>0</td>\n",
              "      <td>1</td>\n",
              "      <td>0</td>\n",
              "      <td>0</td>\n",
              "      <td>0</td>\n",
              "      <td>1</td>\n",
              "      <td>1</td>\n",
              "      <td>0</td>\n",
              "      <td>1</td>\n",
              "      <td>0</td>\n",
              "    </tr>\n",
              "    <tr>\n",
              "      <th>4</th>\n",
              "      <td>1821</td>\n",
              "      <td>1.2</td>\n",
              "      <td>13</td>\n",
              "      <td>44</td>\n",
              "      <td>0.6</td>\n",
              "      <td>141</td>\n",
              "      <td>14</td>\n",
              "      <td>1411</td>\n",
              "      <td>15</td>\n",
              "      <td>1464096</td>\n",
              "      <td>16</td>\n",
              "      <td>0</td>\n",
              "      <td>1</td>\n",
              "      <td>1</td>\n",
              "      <td>0</td>\n",
              "      <td>0</td>\n",
              "      <td>1</td>\n",
              "      <td>0</td>\n",
              "      <td>1</td>\n",
              "      <td>0</td>\n",
              "      <td>0</td>\n",
              "      <td>0</td>\n",
              "      <td>0</td>\n",
              "      <td>0</td>\n",
              "      <td>0</td>\n",
              "      <td>0</td>\n",
              "      <td>1</td>\n",
              "      <td>0</td>\n",
              "      <td>1</td>\n",
              "      <td>1</td>\n",
              "      <td>0</td>\n",
              "    </tr>\n",
              "  </tbody>\n",
              "</table>\n",
              "</div>\n",
              "      <button class=\"colab-df-convert\" onclick=\"convertToInteractive('df-8a7c96c0-35a7-4ab8-b327-94893013d356')\"\n",
              "              title=\"Convert this dataframe to an interactive table.\"\n",
              "              style=\"display:none;\">\n",
              "        \n",
              "  <svg xmlns=\"http://www.w3.org/2000/svg\" height=\"24px\"viewBox=\"0 0 24 24\"\n",
              "       width=\"24px\">\n",
              "    <path d=\"M0 0h24v24H0V0z\" fill=\"none\"/>\n",
              "    <path d=\"M18.56 5.44l.94 2.06.94-2.06 2.06-.94-2.06-.94-.94-2.06-.94 2.06-2.06.94zm-11 1L8.5 8.5l.94-2.06 2.06-.94-2.06-.94L8.5 2.5l-.94 2.06-2.06.94zm10 10l.94 2.06.94-2.06 2.06-.94-2.06-.94-.94-2.06-.94 2.06-2.06.94z\"/><path d=\"M17.41 7.96l-1.37-1.37c-.4-.4-.92-.59-1.43-.59-.52 0-1.04.2-1.43.59L10.3 9.45l-7.72 7.72c-.78.78-.78 2.05 0 2.83L4 21.41c.39.39.9.59 1.41.59.51 0 1.02-.2 1.41-.59l7.78-7.78 2.81-2.81c.8-.78.8-2.07 0-2.86zM5.41 20L4 18.59l7.72-7.72 1.47 1.35L5.41 20z\"/>\n",
              "  </svg>\n",
              "      </button>\n",
              "      \n",
              "  <style>\n",
              "    .colab-df-container {\n",
              "      display:flex;\n",
              "      flex-wrap:wrap;\n",
              "      gap: 12px;\n",
              "    }\n",
              "\n",
              "    .colab-df-convert {\n",
              "      background-color: #E8F0FE;\n",
              "      border: none;\n",
              "      border-radius: 50%;\n",
              "      cursor: pointer;\n",
              "      display: none;\n",
              "      fill: #1967D2;\n",
              "      height: 32px;\n",
              "      padding: 0 0 0 0;\n",
              "      width: 32px;\n",
              "    }\n",
              "\n",
              "    .colab-df-convert:hover {\n",
              "      background-color: #E2EBFA;\n",
              "      box-shadow: 0px 1px 2px rgba(60, 64, 67, 0.3), 0px 1px 3px 1px rgba(60, 64, 67, 0.15);\n",
              "      fill: #174EA6;\n",
              "    }\n",
              "\n",
              "    [theme=dark] .colab-df-convert {\n",
              "      background-color: #3B4455;\n",
              "      fill: #D2E3FC;\n",
              "    }\n",
              "\n",
              "    [theme=dark] .colab-df-convert:hover {\n",
              "      background-color: #434B5C;\n",
              "      box-shadow: 0px 1px 3px 1px rgba(0, 0, 0, 0.15);\n",
              "      filter: drop-shadow(0px 1px 2px rgba(0, 0, 0, 0.3));\n",
              "      fill: #FFFFFF;\n",
              "    }\n",
              "  </style>\n",
              "\n",
              "      <script>\n",
              "        const buttonEl =\n",
              "          document.querySelector('#df-8a7c96c0-35a7-4ab8-b327-94893013d356 button.colab-df-convert');\n",
              "        buttonEl.style.display =\n",
              "          google.colab.kernel.accessAllowed ? 'block' : 'none';\n",
              "\n",
              "        async function convertToInteractive(key) {\n",
              "          const element = document.querySelector('#df-8a7c96c0-35a7-4ab8-b327-94893013d356');\n",
              "          const dataTable =\n",
              "            await google.colab.kernel.invokeFunction('convertToInteractive',\n",
              "                                                     [key], {});\n",
              "          if (!dataTable) return;\n",
              "\n",
              "          const docLinkHtml = 'Like what you see? Visit the ' +\n",
              "            '<a target=\"_blank\" href=https://colab.research.google.com/notebooks/data_table.ipynb>data table notebook</a>'\n",
              "            + ' to learn more about interactive tables.';\n",
              "          element.innerHTML = '';\n",
              "          dataTable['output_type'] = 'display_data';\n",
              "          await google.colab.output.renderOutput(dataTable, element);\n",
              "          const docLink = document.createElement('div');\n",
              "          docLink.innerHTML = docLinkHtml;\n",
              "          element.appendChild(docLink);\n",
              "        }\n",
              "      </script>\n",
              "    </div>\n",
              "  </div>\n",
              "  "
            ]
          },
          "metadata": {},
          "execution_count": 54
        }
      ],
      "source": [
        "X.head()"
      ]
    },
    {
      "cell_type": "markdown",
      "id": "2b1102c1",
      "metadata": {
        "id": "2b1102c1"
      },
      "source": [
        "## Our data is now fully prepared for model implementation since every variable present is in true numerical format & not in categorical format"
      ]
    },
    {
      "cell_type": "code",
      "execution_count": 54,
      "id": "3e411c9a",
      "metadata": {
        "id": "3e411c9a"
      },
      "outputs": [],
      "source": []
    },
    {
      "cell_type": "markdown",
      "id": "d1b980db",
      "metadata": {
        "id": "d1b980db"
      },
      "source": [
        "## Now we have data in complete numerical type and category is present"
      ]
    },
    {
      "cell_type": "markdown",
      "id": "405212f1",
      "metadata": {
        "id": "405212f1"
      },
      "source": [
        "## Different Model Implementations"
      ]
    },
    {
      "cell_type": "markdown",
      "id": "d19813c1",
      "metadata": {
        "id": "d19813c1"
      },
      "source": [
        "### At this very point, two approches can be implemented on different models:\n",
        "#### Approach 1 - Going with usual Train-Test Split [Without cross-validation]\n",
        "#### Approach 2 - Going with k-fold cross validation [Stable]"
      ]
    },
    {
      "cell_type": "markdown",
      "id": "df32eb46",
      "metadata": {
        "id": "df32eb46"
      },
      "source": [
        "## Logistic Regression"
      ]
    },
    {
      "cell_type": "markdown",
      "id": "16ea2657",
      "metadata": {
        "id": "16ea2657"
      },
      "source": [
        "### Approach 1: Train-Test Split"
      ]
    },
    {
      "cell_type": "code",
      "execution_count": 55,
      "id": "a792a766",
      "metadata": {
        "id": "a792a766"
      },
      "outputs": [],
      "source": [
        "from sklearn.model_selection import train_test_split\n",
        "\n",
        "X_train, X_test, y_train, y_test = train_test_split(X,y,test_size = 0.3, random_state = 1)"
      ]
    },
    {
      "cell_type": "markdown",
      "id": "15cb27a9",
      "metadata": {
        "id": "15cb27a9"
      },
      "source": [
        "### Feature Scaling :"
      ]
    },
    {
      "cell_type": "markdown",
      "id": "b70e9cd1",
      "metadata": {
        "id": "b70e9cd1"
      },
      "source": [
        "### We have to scale the data to uniform scale for that Standard scalar is used"
      ]
    },
    {
      "cell_type": "code",
      "execution_count": 56,
      "id": "2cacf44d",
      "metadata": {
        "id": "2cacf44d"
      },
      "outputs": [],
      "source": [
        "from sklearn.preprocessing import StandardScaler\n",
        "\n",
        "scaler = StandardScaler()                                     ## defining scaler object"
      ]
    },
    {
      "cell_type": "code",
      "execution_count": 57,
      "id": "eb4a9d32",
      "metadata": {
        "id": "eb4a9d32"
      },
      "outputs": [],
      "source": [
        "X_train_scaled = scaler.fit_transform(X_train)                ## Scaling feature set\n",
        "X_test_scaled = scaler.transform(X_test)"
      ]
    },
    {
      "cell_type": "code",
      "execution_count": 58,
      "id": "47f87011",
      "metadata": {
        "id": "47f87011"
      },
      "outputs": [],
      "source": [
        "lg1 = LogisticRegression()                                    ## defining object"
      ]
    },
    {
      "cell_type": "code",
      "execution_count": 59,
      "id": "b8820c7c",
      "metadata": {
        "id": "b8820c7c"
      },
      "outputs": [],
      "source": [
        "classifier = lg1.fit(X_train_scaled,y_train)                  ## fitting scaled data to classifier\n",
        "\n"
      ]
    },
    {
      "cell_type": "code",
      "execution_count": 60,
      "id": "f5b6d0f6",
      "metadata": {
        "id": "f5b6d0f6"
      },
      "outputs": [],
      "source": [
        "y_pred_train = lg1.predict(X_train_scaled)                     ## Training score of logistic regression\n",
        "y_pred = lg1.predict(X_test_scaled)"
      ]
    },
    {
      "cell_type": "code",
      "execution_count": 61,
      "id": "56b22f10",
      "metadata": {
        "colab": {
          "base_uri": "https://localhost:8080/"
        },
        "id": "56b22f10",
        "outputId": "1cfa0ebf-cdd4-41b7-a910-a46270069619"
      },
      "outputs": [
        {
          "output_type": "execute_result",
          "data": {
            "text/plain": [
              "0.9478571428571428"
            ]
          },
          "metadata": {},
          "execution_count": 61
        }
      ],
      "source": [
        "accuracy_score(y_train , y_pred_train)                         ## Train Score"
      ]
    },
    {
      "cell_type": "code",
      "execution_count": 62,
      "id": "1b26eefb",
      "metadata": {
        "colab": {
          "base_uri": "https://localhost:8080/"
        },
        "id": "1b26eefb",
        "outputId": "dcbbd8c4-75f7-4eef-eb00-938e667be35c"
      },
      "outputs": [
        {
          "output_type": "execute_result",
          "data": {
            "text/plain": [
              "0.905"
            ]
          },
          "metadata": {},
          "execution_count": 62
        }
      ],
      "source": [
        "accuracy_score(y_test,y_pred)                                  ## Test score"
      ]
    },
    {
      "cell_type": "code",
      "execution_count": 63,
      "id": "b1aff9f5",
      "metadata": {
        "colab": {
          "base_uri": "https://localhost:8080/"
        },
        "id": "b1aff9f5",
        "outputId": "2035566b-c149-423d-900e-2f56f8ad83f1"
      },
      "outputs": [
        {
          "output_type": "stream",
          "name": "stdout",
          "text": [
            "              precision    recall  f1-score   support\n",
            "\n",
            "           0       0.94      0.96      0.95       135\n",
            "           1       0.86      0.89      0.88       149\n",
            "           2       0.90      0.83      0.87       168\n",
            "           3       0.93      0.95      0.94       148\n",
            "\n",
            "    accuracy                           0.91       600\n",
            "   macro avg       0.91      0.91      0.91       600\n",
            "weighted avg       0.91      0.91      0.90       600\n",
            "\n"
          ]
        }
      ],
      "source": [
        "print(classification_report(y_test,y_pred))"
      ]
    },
    {
      "cell_type": "code",
      "execution_count": 64,
      "id": "dbc00dd5",
      "metadata": {
        "colab": {
          "base_uri": "https://localhost:8080/",
          "height": 283
        },
        "id": "dbc00dd5",
        "outputId": "d40f4bcd-f563-41a3-cab6-93d01c3a7f77"
      },
      "outputs": [
        {
          "output_type": "display_data",
          "data": {
            "text/plain": [
              "<Figure size 432x288 with 2 Axes>"
            ],
            "image/png": "[encoded data removed]"
          },
          "metadata": {
            "needs_background": "light"
          }
        }
      ],
      "source": [
        "sns.heatmap(confusion_matrix(y_test,y_pred), annot = True ,fmt='d')\n",
        "plt.xlabel('Predicted')\n",
        "plt.ylabel('Actual')\n",
        "plt.show()"
      ]
    },
    {
      "cell_type": "markdown",
      "id": "a9b01f16",
      "metadata": {
        "id": "a9b01f16"
      },
      "source": [
        "### Approach 2: 10-fold cross validation."
      ]
    },
    {
      "cell_type": "code",
      "execution_count": 65,
      "id": "89c847eb",
      "metadata": {
        "id": "89c847eb"
      },
      "outputs": [],
      "source": [
        "from sklearn.preprocessing import StandardScaler\n",
        "\n",
        "scaler_1 = StandardScaler()"
      ]
    },
    {
      "cell_type": "code",
      "execution_count": 66,
      "id": "22fac016",
      "metadata": {
        "id": "22fac016"
      },
      "outputs": [],
      "source": [
        "## Scaling the entire feature set\n",
        "X_cross = scaler_1.fit_transform(X)        ## This will be common for all models (**Approach 2**)"
      ]
    },
    {
      "cell_type": "code",
      "execution_count": 67,
      "id": "9fd1e364",
      "metadata": {
        "id": "9fd1e364"
      },
      "outputs": [],
      "source": [
        "lg2 = LogisticRegression()    "
      ]
    },
    {
      "cell_type": "code",
      "execution_count": 68,
      "id": "77e7d32b",
      "metadata": {
        "scrolled": true,
        "id": "77e7d32b"
      },
      "outputs": [],
      "source": [
        "## 10-fold cross validation\n",
        "lg2_score = cross_validate(lg2 , X_cross, y , cv = 10, scoring=['r2','neg_root_mean_squared_error','neg_mean_absolute_error'],return_train_score=True)     "
      ]
    },
    {
      "cell_type": "code",
      "execution_count": 69,
      "id": "82e85552",
      "metadata": {
        "id": "82e85552"
      },
      "outputs": [],
      "source": [
        "lg2_df = pd.DataFrame(lg2_score)"
      ]
    },
    {
      "cell_type": "code",
      "execution_count": 70,
      "id": "8c78495f",
      "metadata": {
        "id": "8c78495f"
      },
      "outputs": [],
      "source": [
        "lg2_df = lg2_df.rename(columns={'test_neg_root_mean_squared_error':'Test_RMSE',\n",
        "                     'train_neg_root_mean_squared_error':'Train_RMSE',\n",
        "                     'test_neg_mean_absolute_error':'Test_MAE',\n",
        "                     'train_neg_mean_absolute_error':'Train_MAE',\n",
        "                            'test_r2':'Test_R2','train_r2':'Train_R2'})\n",
        "lg2_df.drop(columns=['fit_time','score_time'],inplace=True)"
      ]
    },
    {
      "cell_type": "code",
      "execution_count": 71,
      "id": "da17442c",
      "metadata": {
        "colab": {
          "base_uri": "https://localhost:8080/",
          "height": 363
        },
        "id": "da17442c",
        "outputId": "8e1d026e-fb86-4554-c85a-c130a84fde4c"
      },
      "outputs": [
        {
          "output_type": "execute_result",
          "data": {
            "text/plain": [
              "   Test_R2  Train_R2  Test_RMSE  Train_RMSE  Test_MAE  Train_MAE\n",
              "0    0.940  0.960889  -0.273861   -0.221108    -0.075  -0.048889\n",
              "1    0.952  0.958667  -0.244949   -0.227303    -0.060  -0.051667\n",
              "2    0.940  0.958222  -0.273861   -0.228522    -0.075  -0.052222\n",
              "3    0.924  0.961778  -0.308221   -0.218581    -0.095  -0.047778\n",
              "4    0.956  0.957778  -0.234521   -0.229734    -0.055  -0.052778\n",
              "5    0.944  0.964889  -0.264575   -0.209497    -0.070  -0.043889\n",
              "6    0.928  0.960889  -0.300000   -0.221108    -0.090  -0.048889\n",
              "7    0.952  0.958667  -0.244949   -0.227303    -0.060  -0.051667\n",
              "8    0.908  0.961778  -0.339116   -0.218581    -0.115  -0.047778\n",
              "9    0.964  0.958222  -0.212132   -0.228522    -0.045  -0.052222"
            ],
            "text/html": [
              "\n",
              "  <div id=\"df-bc8b9269-5fe2-4a70-9cb4-cc156afd3005\">\n",
              "    <div class=\"colab-df-container\">\n",
              "      <div>\n",
              "<style scoped>\n",
              "    .dataframe tbody tr th:only-of-type {\n",
              "        vertical-align: middle;\n",
              "    }\n",
              "\n",
              "    .dataframe tbody tr th {\n",
              "        vertical-align: top;\n",
              "    }\n",
              "\n",
              "    .dataframe thead th {\n",
              "        text-align: right;\n",
              "    }\n",
              "</style>\n",
              "<table border=\"1\" class=\"dataframe\">\n",
              "  <thead>\n",
              "    <tr style=\"text-align: right;\">\n",
              "      <th></th>\n",
              "      <th>Test_R2</th>\n",
              "      <th>Train_R2</th>\n",
              "      <th>Test_RMSE</th>\n",
              "      <th>Train_RMSE</th>\n",
              "      <th>Test_MAE</th>\n",
              "      <th>Train_MAE</th>\n",
              "    </tr>\n",
              "  </thead>\n",
              "  <tbody>\n",
              "    <tr>\n",
              "      <th>0</th>\n",
              "      <td>0.940</td>\n",
              "      <td>0.960889</td>\n",
              "      <td>-0.273861</td>\n",
              "      <td>-0.221108</td>\n",
              "      <td>-0.075</td>\n",
              "      <td>-0.048889</td>\n",
              "    </tr>\n",
              "    <tr>\n",
              "      <th>1</th>\n",
              "      <td>0.952</td>\n",
              "      <td>0.958667</td>\n",
              "      <td>-0.244949</td>\n",
              "      <td>-0.227303</td>\n",
              "      <td>-0.060</td>\n",
              "      <td>-0.051667</td>\n",
              "    </tr>\n",
              "    <tr>\n",
              "      <th>2</th>\n",
              "      <td>0.940</td>\n",
              "      <td>0.958222</td>\n",
              "      <td>-0.273861</td>\n",
              "      <td>-0.228522</td>\n",
              "      <td>-0.075</td>\n",
              "      <td>-0.052222</td>\n",
              "    </tr>\n",
              "    <tr>\n",
              "      <th>3</th>\n",
              "      <td>0.924</td>\n",
              "      <td>0.961778</td>\n",
              "      <td>-0.308221</td>\n",
              "      <td>-0.218581</td>\n",
              "      <td>-0.095</td>\n",
              "      <td>-0.047778</td>\n",
              "    </tr>\n",
              "    <tr>\n",
              "      <th>4</th>\n",
              "      <td>0.956</td>\n",
              "      <td>0.957778</td>\n",
              "      <td>-0.234521</td>\n",
              "      <td>-0.229734</td>\n",
              "      <td>-0.055</td>\n",
              "      <td>-0.052778</td>\n",
              "    </tr>\n",
              "    <tr>\n",
              "      <th>5</th>\n",
              "      <td>0.944</td>\n",
              "      <td>0.964889</td>\n",
              "      <td>-0.264575</td>\n",
              "      <td>-0.209497</td>\n",
              "      <td>-0.070</td>\n",
              "      <td>-0.043889</td>\n",
              "    </tr>\n",
              "    <tr>\n",
              "      <th>6</th>\n",
              "      <td>0.928</td>\n",
              "      <td>0.960889</td>\n",
              "      <td>-0.300000</td>\n",
              "      <td>-0.221108</td>\n",
              "      <td>-0.090</td>\n",
              "      <td>-0.048889</td>\n",
              "    </tr>\n",
              "    <tr>\n",
              "      <th>7</th>\n",
              "      <td>0.952</td>\n",
              "      <td>0.958667</td>\n",
              "      <td>-0.244949</td>\n",
              "      <td>-0.227303</td>\n",
              "      <td>-0.060</td>\n",
              "      <td>-0.051667</td>\n",
              "    </tr>\n",
              "    <tr>\n",
              "      <th>8</th>\n",
              "      <td>0.908</td>\n",
              "      <td>0.961778</td>\n",
              "      <td>-0.339116</td>\n",
              "      <td>-0.218581</td>\n",
              "      <td>-0.115</td>\n",
              "      <td>-0.047778</td>\n",
              "    </tr>\n",
              "    <tr>\n",
              "      <th>9</th>\n",
              "      <td>0.964</td>\n",
              "      <td>0.958222</td>\n",
              "      <td>-0.212132</td>\n",
              "      <td>-0.228522</td>\n",
              "      <td>-0.045</td>\n",
              "      <td>-0.052222</td>\n",
              "    </tr>\n",
              "  </tbody>\n",
              "</table>\n",
              "</div>\n",
              "      <button class=\"colab-df-convert\" onclick=\"convertToInteractive('df-bc8b9269-5fe2-4a70-9cb4-cc156afd3005')\"\n",
              "              title=\"Convert this dataframe to an interactive table.\"\n",
              "              style=\"display:none;\">\n",
              "        \n",
              "  <svg xmlns=\"http://www.w3.org/2000/svg\" height=\"24px\"viewBox=\"0 0 24 24\"\n",
              "       width=\"24px\">\n",
              "    <path d=\"M0 0h24v24H0V0z\" fill=\"none\"/>\n",
              "    <path d=\"M18.56 5.44l.94 2.06.94-2.06 2.06-.94-2.06-.94-.94-2.06-.94 2.06-2.06.94zm-11 1L8.5 8.5l.94-2.06 2.06-.94-2.06-.94L8.5 2.5l-.94 2.06-2.06.94zm10 10l.94 2.06.94-2.06 2.06-.94-2.06-.94-.94-2.06-.94 2.06-2.06.94z\"/><path d=\"M17.41 7.96l-1.37-1.37c-.4-.4-.92-.59-1.43-.59-.52 0-1.04.2-1.43.59L10.3 9.45l-7.72 7.72c-.78.78-.78 2.05 0 2.83L4 21.41c.39.39.9.59 1.41.59.51 0 1.02-.2 1.41-.59l7.78-7.78 2.81-2.81c.8-.78.8-2.07 0-2.86zM5.41 20L4 18.59l7.72-7.72 1.47 1.35L5.41 20z\"/>\n",
              "  </svg>\n",
              "      </button>\n",
              "      \n",
              "  <style>\n",
              "    .colab-df-container {\n",
              "      display:flex;\n",
              "      flex-wrap:wrap;\n",
              "      gap: 12px;\n",
              "    }\n",
              "\n",
              "    .colab-df-convert {\n",
              "      background-color: #E8F0FE;\n",
              "      border: none;\n",
              "      border-radius: 50%;\n",
              "      cursor: pointer;\n",
              "      display: none;\n",
              "      fill: #1967D2;\n",
              "      height: 32px;\n",
              "      padding: 0 0 0 0;\n",
              "      width: 32px;\n",
              "    }\n",
              "\n",
              "    .colab-df-convert:hover {\n",
              "      background-color: #E2EBFA;\n",
              "      box-shadow: 0px 1px 2px rgba(60, 64, 67, 0.3), 0px 1px 3px 1px rgba(60, 64, 67, 0.15);\n",
              "      fill: #174EA6;\n",
              "    }\n",
              "\n",
              "    [theme=dark] .colab-df-convert {\n",
              "      background-color: #3B4455;\n",
              "      fill: #D2E3FC;\n",
              "    }\n",
              "\n",
              "    [theme=dark] .colab-df-convert:hover {\n",
              "      background-color: #434B5C;\n",
              "      box-shadow: 0px 1px 3px 1px rgba(0, 0, 0, 0.15);\n",
              "      filter: drop-shadow(0px 1px 2px rgba(0, 0, 0, 0.3));\n",
              "      fill: #FFFFFF;\n",
              "    }\n",
              "  </style>\n",
              "\n",
              "      <script>\n",
              "        const buttonEl =\n",
              "          document.querySelector('#df-bc8b9269-5fe2-4a70-9cb4-cc156afd3005 button.colab-df-convert');\n",
              "        buttonEl.style.display =\n",
              "          google.colab.kernel.accessAllowed ? 'block' : 'none';\n",
              "\n",
              "        async function convertToInteractive(key) {\n",
              "          const element = document.querySelector('#df-bc8b9269-5fe2-4a70-9cb4-cc156afd3005');\n",
              "          const dataTable =\n",
              "            await google.colab.kernel.invokeFunction('convertToInteractive',\n",
              "                                                     [key], {});\n",
              "          if (!dataTable) return;\n",
              "\n",
              "          const docLinkHtml = 'Like what you see? Visit the ' +\n",
              "            '<a target=\"_blank\" href=https://colab.research.google.com/notebooks/data_table.ipynb>data table notebook</a>'\n",
              "            + ' to learn more about interactive tables.';\n",
              "          element.innerHTML = '';\n",
              "          dataTable['output_type'] = 'display_data';\n",
              "          await google.colab.output.renderOutput(dataTable, element);\n",
              "          const docLink = document.createElement('div');\n",
              "          docLink.innerHTML = docLinkHtml;\n",
              "          element.appendChild(docLink);\n",
              "        }\n",
              "      </script>\n",
              "    </div>\n",
              "  </div>\n",
              "  "
            ]
          },
          "metadata": {},
          "execution_count": 71
        }
      ],
      "source": [
        "lg2_df"
      ]
    },
    {
      "cell_type": "code",
      "execution_count": 72,
      "id": "d3f9f46a",
      "metadata": {
        "id": "d3f9f46a"
      },
      "outputs": [],
      "source": [
        "LG = lg2_df.drop(index={0,1,2,3,4,6,7,8,9})\n",
        "LG.rename(index = {5:'LogisticRegression'}, inplace= True)"
      ]
    },
    {
      "cell_type": "code",
      "execution_count": 73,
      "id": "ccd72d09",
      "metadata": {
        "colab": {
          "base_uri": "https://localhost:8080/",
          "height": 81
        },
        "id": "ccd72d09",
        "outputId": "0a2faa1b-2593-469c-c5ab-dd5038aa333a"
      },
      "outputs": [
        {
          "output_type": "execute_result",
          "data": {
            "text/plain": [
              "                    Test_R2  Train_R2  Test_RMSE  Train_RMSE  Test_MAE  \\\n",
              "LogisticRegression    0.944  0.964889  -0.264575   -0.209497     -0.07   \n",
              "\n",
              "                    Train_MAE  \n",
              "LogisticRegression  -0.043889  "
            ],
            "text/html": [
              "\n",
              "  <div id=\"df-fb0ad28c-2826-4a8e-9362-4cc6a3ed91fa\">\n",
              "    <div class=\"colab-df-container\">\n",
              "      <div>\n",
              "<style scoped>\n",
              "    .dataframe tbody tr th:only-of-type {\n",
              "        vertical-align: middle;\n",
              "    }\n",
              "\n",
              "    .dataframe tbody tr th {\n",
              "        vertical-align: top;\n",
              "    }\n",
              "\n",
              "    .dataframe thead th {\n",
              "        text-align: right;\n",
              "    }\n",
              "</style>\n",
              "<table border=\"1\" class=\"dataframe\">\n",
              "  <thead>\n",
              "    <tr style=\"text-align: right;\">\n",
              "      <th></th>\n",
              "      <th>Test_R2</th>\n",
              "      <th>Train_R2</th>\n",
              "      <th>Test_RMSE</th>\n",
              "      <th>Train_RMSE</th>\n",
              "      <th>Test_MAE</th>\n",
              "      <th>Train_MAE</th>\n",
              "    </tr>\n",
              "  </thead>\n",
              "  <tbody>\n",
              "    <tr>\n",
              "      <th>LogisticRegression</th>\n",
              "      <td>0.944</td>\n",
              "      <td>0.964889</td>\n",
              "      <td>-0.264575</td>\n",
              "      <td>-0.209497</td>\n",
              "      <td>-0.07</td>\n",
              "      <td>-0.043889</td>\n",
              "    </tr>\n",
              "  </tbody>\n",
              "</table>\n",
              "</div>\n",
              "      <button class=\"colab-df-convert\" onclick=\"convertToInteractive('df-fb0ad28c-2826-4a8e-9362-4cc6a3ed91fa')\"\n",
              "              title=\"Convert this dataframe to an interactive table.\"\n",
              "              style=\"display:none;\">\n",
              "        \n",
              "  <svg xmlns=\"http://www.w3.org/2000/svg\" height=\"24px\"viewBox=\"0 0 24 24\"\n",
              "       width=\"24px\">\n",
              "    <path d=\"M0 0h24v24H0V0z\" fill=\"none\"/>\n",
              "    <path d=\"M18.56 5.44l.94 2.06.94-2.06 2.06-.94-2.06-.94-.94-2.06-.94 2.06-2.06.94zm-11 1L8.5 8.5l.94-2.06 2.06-.94-2.06-.94L8.5 2.5l-.94 2.06-2.06.94zm10 10l.94 2.06.94-2.06 2.06-.94-2.06-.94-.94-2.06-.94 2.06-2.06.94z\"/><path d=\"M17.41 7.96l-1.37-1.37c-.4-.4-.92-.59-1.43-.59-.52 0-1.04.2-1.43.59L10.3 9.45l-7.72 7.72c-.78.78-.78 2.05 0 2.83L4 21.41c.39.39.9.59 1.41.59.51 0 1.02-.2 1.41-.59l7.78-7.78 2.81-2.81c.8-.78.8-2.07 0-2.86zM5.41 20L4 18.59l7.72-7.72 1.47 1.35L5.41 20z\"/>\n",
              "  </svg>\n",
              "      </button>\n",
              "      \n",
              "  <style>\n",
              "    .colab-df-container {\n",
              "      display:flex;\n",
              "      flex-wrap:wrap;\n",
              "      gap: 12px;\n",
              "    }\n",
              "\n",
              "    .colab-df-convert {\n",
              "      background-color: #E8F0FE;\n",
              "      border: none;\n",
              "      border-radius: 50%;\n",
              "      cursor: pointer;\n",
              "      display: none;\n",
              "      fill: #1967D2;\n",
              "      height: 32px;\n",
              "      padding: 0 0 0 0;\n",
              "      width: 32px;\n",
              "    }\n",
              "\n",
              "    .colab-df-convert:hover {\n",
              "      background-color: #E2EBFA;\n",
              "      box-shadow: 0px 1px 2px rgba(60, 64, 67, 0.3), 0px 1px 3px 1px rgba(60, 64, 67, 0.15);\n",
              "      fill: #174EA6;\n",
              "    }\n",
              "\n",
              "    [theme=dark] .colab-df-convert {\n",
              "      background-color: #3B4455;\n",
              "      fill: #D2E3FC;\n",
              "    }\n",
              "\n",
              "    [theme=dark] .colab-df-convert:hover {\n",
              "      background-color: #434B5C;\n",
              "      box-shadow: 0px 1px 3px 1px rgba(0, 0, 0, 0.15);\n",
              "      filter: drop-shadow(0px 1px 2px rgba(0, 0, 0, 0.3));\n",
              "      fill: #FFFFFF;\n",
              "    }\n",
              "  </style>\n",
              "\n",
              "      <script>\n",
              "        const buttonEl =\n",
              "          document.querySelector('#df-fb0ad28c-2826-4a8e-9362-4cc6a3ed91fa button.colab-df-convert');\n",
              "        buttonEl.style.display =\n",
              "          google.colab.kernel.accessAllowed ? 'block' : 'none';\n",
              "\n",
              "        async function convertToInteractive(key) {\n",
              "          const element = document.querySelector('#df-fb0ad28c-2826-4a8e-9362-4cc6a3ed91fa');\n",
              "          const dataTable =\n",
              "            await google.colab.kernel.invokeFunction('convertToInteractive',\n",
              "                                                     [key], {});\n",
              "          if (!dataTable) return;\n",
              "\n",
              "          const docLinkHtml = 'Like what you see? Visit the ' +\n",
              "            '<a target=\"_blank\" href=https://colab.research.google.com/notebooks/data_table.ipynb>data table notebook</a>'\n",
              "            + ' to learn more about interactive tables.';\n",
              "          element.innerHTML = '';\n",
              "          dataTable['output_type'] = 'display_data';\n",
              "          await google.colab.output.renderOutput(dataTable, element);\n",
              "          const docLink = document.createElement('div');\n",
              "          docLink.innerHTML = docLinkHtml;\n",
              "          element.appendChild(docLink);\n",
              "        }\n",
              "      </script>\n",
              "    </div>\n",
              "  </div>\n",
              "  "
            ]
          },
          "metadata": {},
          "execution_count": 73
        }
      ],
      "source": [
        "LG                                                                        ## Best score among 10-fold cross validation"
      ]
    },
    {
      "cell_type": "code",
      "execution_count": 73,
      "id": "b9cac647",
      "metadata": {
        "id": "b9cac647"
      },
      "outputs": [],
      "source": []
    },
    {
      "cell_type": "code",
      "execution_count": 73,
      "id": "14afc5b8",
      "metadata": {
        "id": "14afc5b8"
      },
      "outputs": [],
      "source": []
    },
    {
      "cell_type": "markdown",
      "id": "2d9b9e6c",
      "metadata": {
        "id": "2d9b9e6c"
      },
      "source": [
        "## Random-Forest Classifier"
      ]
    },
    {
      "cell_type": "markdown",
      "id": "87144d35",
      "metadata": {
        "id": "87144d35"
      },
      "source": [
        "### Approach 1: Train-Test Split"
      ]
    },
    {
      "cell_type": "code",
      "execution_count": 74,
      "id": "36deba2e",
      "metadata": {
        "id": "36deba2e"
      },
      "outputs": [],
      "source": [
        "from sklearn.ensemble import RandomForestClassifier          ## importing random forest classifier from sklearn"
      ]
    },
    {
      "cell_type": "code",
      "execution_count": 75,
      "id": "8e510d2a",
      "metadata": {
        "id": "8e510d2a"
      },
      "outputs": [],
      "source": [
        "rfc = RandomForestClassifier(random_state = 4651152)      ## defining classifier object"
      ]
    },
    {
      "cell_type": "code",
      "execution_count": 76,
      "id": "59fda463",
      "metadata": {
        "id": "59fda463"
      },
      "outputs": [],
      "source": [
        "classifier1 = rfc.fit(X_train_scaled,y_train)             ## fitting scaled data to classifier"
      ]
    },
    {
      "cell_type": "code",
      "execution_count": 77,
      "id": "c02cbedd",
      "metadata": {
        "id": "c02cbedd"
      },
      "outputs": [],
      "source": [
        "y_pred_rfc = rfc.predict(X_test_scaled)                       ## Test score prediction\n",
        "y_pred_train_rfc = rfc.predict(X_train_scaled)                 ## Training score prediction"
      ]
    },
    {
      "cell_type": "code",
      "execution_count": 78,
      "id": "4d0d81b4",
      "metadata": {
        "colab": {
          "base_uri": "https://localhost:8080/"
        },
        "id": "4d0d81b4",
        "outputId": "d8a15d46-223c-446a-b370-11182a860dd3"
      },
      "outputs": [
        {
          "output_type": "execute_result",
          "data": {
            "text/plain": [
              "1.0"
            ]
          },
          "metadata": {},
          "execution_count": 78
        }
      ],
      "source": [
        "train_score_rfc = accuracy_score(y_train , y_pred_train_rfc)   ## Train score\n",
        "train_score_rfc"
      ]
    },
    {
      "cell_type": "code",
      "execution_count": 79,
      "id": "5b4a18c3",
      "metadata": {
        "colab": {
          "base_uri": "https://localhost:8080/"
        },
        "id": "5b4a18c3",
        "outputId": "d65272d6-21ec-4b0c-f4cb-53a587c4d518"
      },
      "outputs": [
        {
          "output_type": "stream",
          "name": "stdout",
          "text": [
            "0.845\n"
          ]
        }
      ],
      "source": [
        "print(accuracy_score(y_test,y_pred_rfc))                       ## Test score"
      ]
    },
    {
      "cell_type": "code",
      "execution_count": 80,
      "id": "8f3ac29d",
      "metadata": {
        "colab": {
          "base_uri": "https://localhost:8080/"
        },
        "id": "8f3ac29d",
        "outputId": "e54fcd8f-689d-4a8b-81de-94cb1d68bd31"
      },
      "outputs": [
        {
          "output_type": "stream",
          "name": "stdout",
          "text": [
            "              precision    recall  f1-score   support\n",
            "\n",
            "           0       1.00      1.00      1.00       365\n",
            "           1       1.00      1.00      1.00       351\n",
            "           2       1.00      1.00      1.00       332\n",
            "           3       1.00      1.00      1.00       352\n",
            "\n",
            "    accuracy                           1.00      1400\n",
            "   macro avg       1.00      1.00      1.00      1400\n",
            "weighted avg       1.00      1.00      1.00      1400\n",
            "\n"
          ]
        }
      ],
      "source": [
        "print(classification_report(y_train, y_pred_train_rfc))"
      ]
    },
    {
      "cell_type": "code",
      "execution_count": 81,
      "id": "f9d8fa13",
      "metadata": {
        "scrolled": false,
        "colab": {
          "base_uri": "https://localhost:8080/"
        },
        "id": "f9d8fa13",
        "outputId": "ebe1cbf3-ee95-4e40-e11c-115631bf0ab2"
      },
      "outputs": [
        {
          "output_type": "stream",
          "name": "stdout",
          "text": [
            "              precision    recall  f1-score   support\n",
            "\n",
            "           0       0.94      0.96      0.95       135\n",
            "           1       0.86      0.89      0.88       149\n",
            "           2       0.90      0.83      0.87       168\n",
            "           3       0.93      0.95      0.94       148\n",
            "\n",
            "    accuracy                           0.91       600\n",
            "   macro avg       0.91      0.91      0.91       600\n",
            "weighted avg       0.91      0.91      0.90       600\n",
            "\n"
          ]
        }
      ],
      "source": [
        "print(classification_report(y_test,y_pred))"
      ]
    },
    {
      "cell_type": "code",
      "execution_count": 82,
      "id": "6d1334ea",
      "metadata": {
        "colab": {
          "base_uri": "https://localhost:8080/"
        },
        "id": "6d1334ea",
        "outputId": "27d4fe9d-0139-4774-cea1-cc35960b252c"
      },
      "outputs": [
        {
          "output_type": "execute_result",
          "data": {
            "text/plain": [
              "2    168\n",
              "1    149\n",
              "3    148\n",
              "0    135\n",
              "Name: price_range, dtype: int64"
            ]
          },
          "metadata": {},
          "execution_count": 82
        }
      ],
      "source": [
        "y_test.value_counts()"
      ]
    },
    {
      "cell_type": "code",
      "execution_count": 83,
      "id": "3d31af1b",
      "metadata": {
        "colab": {
          "base_uri": "https://localhost:8080/",
          "height": 279
        },
        "id": "3d31af1b",
        "outputId": "c3f3e759-57ec-45ea-b8ab-0f15c480b78e"
      },
      "outputs": [
        {
          "output_type": "display_data",
          "data": {
            "text/plain": [
              "<Figure size 432x288 with 2 Axes>"
            ],
            "image/png": "[encoded data removed]"
          },
          "metadata": {
            "needs_background": "light"
          }
        }
      ],
      "source": [
        "sns.heatmap(confusion_matrix(y_test,y_pred_rfc), annot = True ,fmt='d')\n",
        "plt.xlabel('Predicted')\n",
        "plt.ylabel('Actual')\n",
        "plt.show()"
      ]
    },
    {
      "cell_type": "markdown",
      "id": "2c7a06cf",
      "metadata": {
        "id": "2c7a06cf"
      },
      "source": [
        "### Approach 2: 10-fold cross validation"
      ]
    },
    {
      "cell_type": "code",
      "execution_count": 84,
      "id": "8c672b16",
      "metadata": {
        "id": "8c672b16"
      },
      "outputs": [],
      "source": [
        "rfc2 = RandomForestClassifier()      ## Preparing base model for cross validation"
      ]
    },
    {
      "cell_type": "code",
      "execution_count": 85,
      "id": "237a9060",
      "metadata": {
        "id": "237a9060"
      },
      "outputs": [],
      "source": [
        "## 10-fold cross validation\n",
        "rfc2_score = cross_validate(rfc2 , X_cross, y , cv = 10, scoring=['r2','neg_root_mean_squared_error','neg_mean_absolute_error'],return_train_score=True)     "
      ]
    },
    {
      "cell_type": "code",
      "execution_count": 86,
      "id": "c08959e2",
      "metadata": {
        "id": "c08959e2"
      },
      "outputs": [],
      "source": [
        "df_rfc2 = pd.DataFrame(rfc2_score)"
      ]
    },
    {
      "cell_type": "code",
      "execution_count": 87,
      "id": "af6f7d0e",
      "metadata": {
        "id": "af6f7d0e"
      },
      "outputs": [],
      "source": [
        "df_rfc2 = df_rfc2.rename(columns={'test_neg_root_mean_squared_error':'Test_RMSE',\n",
        "                     'train_neg_root_mean_squared_error':'Train_RMSE',\n",
        "                     'test_neg_mean_absolute_error':'Test_MAE',\n",
        "                     'train_neg_mean_absolute_error':'Train_MAE',\n",
        "                            'test_r2':'Test_R2','train_r2':'Train_R2'})\n",
        "df_rfc2.drop(columns=['fit_time','score_time'],inplace=True)"
      ]
    },
    {
      "cell_type": "code",
      "execution_count": 88,
      "id": "b8dcca42",
      "metadata": {
        "colab": {
          "base_uri": "https://localhost:8080/",
          "height": 363
        },
        "id": "b8dcca42",
        "outputId": "71b9768e-efc4-4d58-da11-38dd8dcc44e9"
      },
      "outputs": [
        {
          "output_type": "execute_result",
          "data": {
            "text/plain": [
              "   Test_R2  Train_R2  Test_RMSE  Train_RMSE  Test_MAE  Train_MAE\n",
              "0    0.872       1.0  -0.400000        -0.0    -0.160       -0.0\n",
              "1    0.880       1.0  -0.387298        -0.0    -0.150       -0.0\n",
              "2    0.880       1.0  -0.387298        -0.0    -0.150       -0.0\n",
              "3    0.888       1.0  -0.374166        -0.0    -0.140       -0.0\n",
              "4    0.888       1.0  -0.374166        -0.0    -0.140       -0.0\n",
              "5    0.896       1.0  -0.360555        -0.0    -0.130       -0.0\n",
              "6    0.876       1.0  -0.393700        -0.0    -0.155       -0.0\n",
              "7    0.880       1.0  -0.387298        -0.0    -0.150       -0.0\n",
              "8    0.872       1.0  -0.400000        -0.0    -0.160       -0.0\n",
              "9    0.900       1.0  -0.353553        -0.0    -0.125       -0.0"
            ],
            "text/html": [
              "\n",
              "  <div id=\"df-1e98f500-2650-4b82-8f13-be2823e91556\">\n",
              "    <div class=\"colab-df-container\">\n",
              "      <div>\n",
              "<style scoped>\n",
              "    .dataframe tbody tr th:only-of-type {\n",
              "        vertical-align: middle;\n",
              "    }\n",
              "\n",
              "    .dataframe tbody tr th {\n",
              "        vertical-align: top;\n",
              "    }\n",
              "\n",
              "    .dataframe thead th {\n",
              "        text-align: right;\n",
              "    }\n",
              "</style>\n",
              "<table border=\"1\" class=\"dataframe\">\n",
              "  <thead>\n",
              "    <tr style=\"text-align: right;\">\n",
              "      <th></th>\n",
              "      <th>Test_R2</th>\n",
              "      <th>Train_R2</th>\n",
              "      <th>Test_RMSE</th>\n",
              "      <th>Train_RMSE</th>\n",
              "      <th>Test_MAE</th>\n",
              "      <th>Train_MAE</th>\n",
              "    </tr>\n",
              "  </thead>\n",
              "  <tbody>\n",
              "    <tr>\n",
              "      <th>0</th>\n",
              "      <td>0.872</td>\n",
              "      <td>1.0</td>\n",
              "      <td>-0.400000</td>\n",
              "      <td>-0.0</td>\n",
              "      <td>-0.160</td>\n",
              "      <td>-0.0</td>\n",
              "    </tr>\n",
              "    <tr>\n",
              "      <th>1</th>\n",
              "      <td>0.880</td>\n",
              "      <td>1.0</td>\n",
              "      <td>-0.387298</td>\n",
              "      <td>-0.0</td>\n",
              "      <td>-0.150</td>\n",
              "      <td>-0.0</td>\n",
              "    </tr>\n",
              "    <tr>\n",
              "      <th>2</th>\n",
              "      <td>0.880</td>\n",
              "      <td>1.0</td>\n",
              "      <td>-0.387298</td>\n",
              "      <td>-0.0</td>\n",
              "      <td>-0.150</td>\n",
              "      <td>-0.0</td>\n",
              "    </tr>\n",
              "    <tr>\n",
              "      <th>3</th>\n",
              "      <td>0.888</td>\n",
              "      <td>1.0</td>\n",
              "      <td>-0.374166</td>\n",
              "      <td>-0.0</td>\n",
              "      <td>-0.140</td>\n",
              "      <td>-0.0</td>\n",
              "    </tr>\n",
              "    <tr>\n",
              "      <th>4</th>\n",
              "      <td>0.888</td>\n",
              "      <td>1.0</td>\n",
              "      <td>-0.374166</td>\n",
              "      <td>-0.0</td>\n",
              "      <td>-0.140</td>\n",
              "      <td>-0.0</td>\n",
              "    </tr>\n",
              "    <tr>\n",
              "      <th>5</th>\n",
              "      <td>0.896</td>\n",
              "      <td>1.0</td>\n",
              "      <td>-0.360555</td>\n",
              "      <td>-0.0</td>\n",
              "      <td>-0.130</td>\n",
              "      <td>-0.0</td>\n",
              "    </tr>\n",
              "    <tr>\n",
              "      <th>6</th>\n",
              "      <td>0.876</td>\n",
              "      <td>1.0</td>\n",
              "      <td>-0.393700</td>\n",
              "      <td>-0.0</td>\n",
              "      <td>-0.155</td>\n",
              "      <td>-0.0</td>\n",
              "    </tr>\n",
              "    <tr>\n",
              "      <th>7</th>\n",
              "      <td>0.880</td>\n",
              "      <td>1.0</td>\n",
              "      <td>-0.387298</td>\n",
              "      <td>-0.0</td>\n",
              "      <td>-0.150</td>\n",
              "      <td>-0.0</td>\n",
              "    </tr>\n",
              "    <tr>\n",
              "      <th>8</th>\n",
              "      <td>0.872</td>\n",
              "      <td>1.0</td>\n",
              "      <td>-0.400000</td>\n",
              "      <td>-0.0</td>\n",
              "      <td>-0.160</td>\n",
              "      <td>-0.0</td>\n",
              "    </tr>\n",
              "    <tr>\n",
              "      <th>9</th>\n",
              "      <td>0.900</td>\n",
              "      <td>1.0</td>\n",
              "      <td>-0.353553</td>\n",
              "      <td>-0.0</td>\n",
              "      <td>-0.125</td>\n",
              "      <td>-0.0</td>\n",
              "    </tr>\n",
              "  </tbody>\n",
              "</table>\n",
              "</div>\n",
              "      <button class=\"colab-df-convert\" onclick=\"convertToInteractive('df-1e98f500-2650-4b82-8f13-be2823e91556')\"\n",
              "              title=\"Convert this dataframe to an interactive table.\"\n",
              "              style=\"display:none;\">\n",
              "        \n",
              "  <svg xmlns=\"http://www.w3.org/2000/svg\" height=\"24px\"viewBox=\"0 0 24 24\"\n",
              "       width=\"24px\">\n",
              "    <path d=\"M0 0h24v24H0V0z\" fill=\"none\"/>\n",
              "    <path d=\"M18.56 5.44l.94 2.06.94-2.06 2.06-.94-2.06-.94-.94-2.06-.94 2.06-2.06.94zm-11 1L8.5 8.5l.94-2.06 2.06-.94-2.06-.94L8.5 2.5l-.94 2.06-2.06.94zm10 10l.94 2.06.94-2.06 2.06-.94-2.06-.94-.94-2.06-.94 2.06-2.06.94z\"/><path d=\"M17.41 7.96l-1.37-1.37c-.4-.4-.92-.59-1.43-.59-.52 0-1.04.2-1.43.59L10.3 9.45l-7.72 7.72c-.78.78-.78 2.05 0 2.83L4 21.41c.39.39.9.59 1.41.59.51 0 1.02-.2 1.41-.59l7.78-7.78 2.81-2.81c.8-.78.8-2.07 0-2.86zM5.41 20L4 18.59l7.72-7.72 1.47 1.35L5.41 20z\"/>\n",
              "  </svg>\n",
              "      </button>\n",
              "      \n",
              "  <style>\n",
              "    .colab-df-container {\n",
              "      display:flex;\n",
              "      flex-wrap:wrap;\n",
              "      gap: 12px;\n",
              "    }\n",
              "\n",
              "    .colab-df-convert {\n",
              "      background-color: #E8F0FE;\n",
              "      border: none;\n",
              "      border-radius: 50%;\n",
              "      cursor: pointer;\n",
              "      display: none;\n",
              "      fill: #1967D2;\n",
              "      height: 32px;\n",
              "      padding: 0 0 0 0;\n",
              "      width: 32px;\n",
              "    }\n",
              "\n",
              "    .colab-df-convert:hover {\n",
              "      background-color: #E2EBFA;\n",
              "      box-shadow: 0px 1px 2px rgba(60, 64, 67, 0.3), 0px 1px 3px 1px rgba(60, 64, 67, 0.15);\n",
              "      fill: #174EA6;\n",
              "    }\n",
              "\n",
              "    [theme=dark] .colab-df-convert {\n",
              "      background-color: #3B4455;\n",
              "      fill: #D2E3FC;\n",
              "    }\n",
              "\n",
              "    [theme=dark] .colab-df-convert:hover {\n",
              "      background-color: #434B5C;\n",
              "      box-shadow: 0px 1px 3px 1px rgba(0, 0, 0, 0.15);\n",
              "      filter: drop-shadow(0px 1px 2px rgba(0, 0, 0, 0.3));\n",
              "      fill: #FFFFFF;\n",
              "    }\n",
              "  </style>\n",
              "\n",
              "      <script>\n",
              "        const buttonEl =\n",
              "          document.querySelector('#df-1e98f500-2650-4b82-8f13-be2823e91556 button.colab-df-convert');\n",
              "        buttonEl.style.display =\n",
              "          google.colab.kernel.accessAllowed ? 'block' : 'none';\n",
              "\n",
              "        async function convertToInteractive(key) {\n",
              "          const element = document.querySelector('#df-1e98f500-2650-4b82-8f13-be2823e91556');\n",
              "          const dataTable =\n",
              "            await google.colab.kernel.invokeFunction('convertToInteractive',\n",
              "                                                     [key], {});\n",
              "          if (!dataTable) return;\n",
              "\n",
              "          const docLinkHtml = 'Like what you see? Visit the ' +\n",
              "            '<a target=\"_blank\" href=https://colab.research.google.com/notebooks/data_table.ipynb>data table notebook</a>'\n",
              "            + ' to learn more about interactive tables.';\n",
              "          element.innerHTML = '';\n",
              "          dataTable['output_type'] = 'display_data';\n",
              "          await google.colab.output.renderOutput(dataTable, element);\n",
              "          const docLink = document.createElement('div');\n",
              "          docLink.innerHTML = docLinkHtml;\n",
              "          element.appendChild(docLink);\n",
              "        }\n",
              "      </script>\n",
              "    </div>\n",
              "  </div>\n",
              "  "
            ]
          },
          "metadata": {},
          "execution_count": 88
        }
      ],
      "source": [
        "df_rfc2"
      ]
    },
    {
      "cell_type": "code",
      "execution_count": 88,
      "id": "5134023e",
      "metadata": {
        "id": "5134023e"
      },
      "outputs": [],
      "source": []
    },
    {
      "cell_type": "markdown",
      "id": "3e07e0e5",
      "metadata": {
        "id": "3e07e0e5"
      },
      "source": [
        "## KNN Classifier"
      ]
    },
    {
      "cell_type": "markdown",
      "id": "55f4d971",
      "metadata": {
        "id": "55f4d971"
      },
      "source": [
        "### Approach 1: Train-Test Split"
      ]
    },
    {
      "cell_type": "code",
      "execution_count": 89,
      "id": "a47c33a6",
      "metadata": {
        "id": "a47c33a6"
      },
      "outputs": [],
      "source": [
        "from sklearn.neighbors import KNeighborsClassifier"
      ]
    },
    {
      "cell_type": "code",
      "execution_count": 90,
      "id": "537f443e",
      "metadata": {
        "id": "537f443e"
      },
      "outputs": [],
      "source": [
        "knn_clf = KNeighborsClassifier()"
      ]
    },
    {
      "cell_type": "code",
      "execution_count": 91,
      "id": "0e1134fa",
      "metadata": {
        "id": "0e1134fa"
      },
      "outputs": [],
      "source": [
        "classifier2 = knn_clf.fit(X_train_scaled, y_train)"
      ]
    },
    {
      "cell_type": "code",
      "execution_count": 92,
      "id": "47641030",
      "metadata": {
        "id": "47641030"
      },
      "outputs": [],
      "source": [
        "y_pred_knn = knn_clf.predict(X_test_scaled)                       ## Test score prediction\n",
        "y_pred_train_knn = knn_clf.predict(X_train_scaled)                 ## Training score prediction"
      ]
    },
    {
      "cell_type": "code",
      "execution_count": 93,
      "id": "97ad603a",
      "metadata": {
        "colab": {
          "base_uri": "https://localhost:8080/"
        },
        "id": "97ad603a",
        "outputId": "d349c53c-4c96-4ee1-97e0-6101b7478bde"
      },
      "outputs": [
        {
          "output_type": "execute_result",
          "data": {
            "text/plain": [
              "0.6221428571428571"
            ]
          },
          "metadata": {},
          "execution_count": 93
        }
      ],
      "source": [
        "accuracy_score(y_train , y_pred_train_knn)   ## Train score"
      ]
    },
    {
      "cell_type": "code",
      "execution_count": 94,
      "id": "fe79b3e5",
      "metadata": {
        "colab": {
          "base_uri": "https://localhost:8080/"
        },
        "id": "fe79b3e5",
        "outputId": "f961374b-6cca-4c04-fc71-886ef2b5b459"
      },
      "outputs": [
        {
          "output_type": "execute_result",
          "data": {
            "text/plain": [
              "0.38"
            ]
          },
          "metadata": {},
          "execution_count": 94
        }
      ],
      "source": [
        "accuracy_score(y_test , y_pred_knn)       ## Test score"
      ]
    },
    {
      "cell_type": "code",
      "execution_count": 95,
      "id": "78006d61",
      "metadata": {
        "colab": {
          "base_uri": "https://localhost:8080/"
        },
        "id": "78006d61",
        "outputId": "ada6ae1c-19e2-4b0e-d5a8-a467bb0afd92"
      },
      "outputs": [
        {
          "output_type": "stream",
          "name": "stdout",
          "text": [
            "              precision    recall  f1-score   support\n",
            "\n",
            "           0       0.65      0.77      0.71       365\n",
            "           1       0.53      0.61      0.57       351\n",
            "           2       0.54      0.52      0.53       332\n",
            "           3       0.84      0.57      0.68       352\n",
            "\n",
            "    accuracy                           0.62      1400\n",
            "   macro avg       0.64      0.62      0.62      1400\n",
            "weighted avg       0.64      0.62      0.62      1400\n",
            "\n"
          ]
        }
      ],
      "source": [
        "print(classification_report(y_train, y_pred_train_knn))     ## Classification report of train set"
      ]
    },
    {
      "cell_type": "code",
      "execution_count": 96,
      "id": "4a3b7672",
      "metadata": {
        "colab": {
          "base_uri": "https://localhost:8080/"
        },
        "id": "4a3b7672",
        "outputId": "df94abd9-8b04-4b23-8014-5195e585e631"
      },
      "outputs": [
        {
          "output_type": "stream",
          "name": "stdout",
          "text": [
            "              precision    recall  f1-score   support\n",
            "\n",
            "           0       0.42      0.57      0.48       135\n",
            "           1       0.26      0.31      0.28       149\n",
            "           2       0.35      0.28      0.31       168\n",
            "           3       0.55      0.39      0.46       148\n",
            "\n",
            "    accuracy                           0.38       600\n",
            "   macro avg       0.39      0.39      0.38       600\n",
            "weighted avg       0.39      0.38      0.38       600\n",
            "\n"
          ]
        }
      ],
      "source": [
        "print(classification_report(y_test, y_pred_knn))           ## Classification report of test set"
      ]
    },
    {
      "cell_type": "code",
      "execution_count": 97,
      "id": "b6315534",
      "metadata": {
        "colab": {
          "base_uri": "https://localhost:8080/",
          "height": 282
        },
        "id": "b6315534",
        "outputId": "6392abe6-3046-4cf2-cbd9-58d3208a447e"
      },
      "outputs": [
        {
          "output_type": "execute_result",
          "data": {
            "text/plain": [
              "<matplotlib.axes._subplots.AxesSubplot at 0x7f20a6078a00>"
            ]
          },
          "metadata": {},
          "execution_count": 97
        },
        {
          "output_type": "display_data",
          "data": {
            "text/plain": [
              "<Figure size 432x288 with 2 Axes>"
            ],
            "image/png": "[encoded data removed]"
          },
          "metadata": {
            "needs_background": "light"
          }
        }
      ],
      "source": [
        "sns.heatmap(confusion_matrix(y_train, y_pred_train_knn), annot =True , fmt ='d')  ## Confusion matrix on train set"
      ]
    },
    {
      "cell_type": "code",
      "execution_count": 98,
      "id": "40a5465e",
      "metadata": {
        "colab": {
          "base_uri": "https://localhost:8080/",
          "height": 282
        },
        "id": "40a5465e",
        "outputId": "855a1f2f-d70d-41f9-f1bd-12b14adb6cfd"
      },
      "outputs": [
        {
          "output_type": "execute_result",
          "data": {
            "text/plain": [
              "<matplotlib.axes._subplots.AxesSubplot at 0x7f20a5fb02b0>"
            ]
          },
          "metadata": {},
          "execution_count": 98
        },
        {
          "output_type": "display_data",
          "data": {
            "text/plain": [
              "<Figure size 432x288 with 2 Axes>"
            ],
            "image/png": "[encoded data removed]"
          },
          "metadata": {
            "needs_background": "light"
          }
        }
      ],
      "source": [
        "sns.heatmap(confusion_matrix(y_test, y_pred_knn), annot =True , fmt ='d')    ## Confusion matrix on test set"
      ]
    },
    {
      "cell_type": "markdown",
      "id": "0c620c94",
      "metadata": {
        "id": "0c620c94"
      },
      "source": [
        "### Approach 2: 10-fold cross validation"
      ]
    },
    {
      "cell_type": "code",
      "execution_count": 99,
      "id": "79f275de",
      "metadata": {
        "id": "79f275de"
      },
      "outputs": [],
      "source": [
        "knn1 = KNeighborsClassifier()   ## Preparing base model for cross validation"
      ]
    },
    {
      "cell_type": "code",
      "execution_count": 100,
      "id": "ec789514",
      "metadata": {
        "id": "ec789514"
      },
      "outputs": [],
      "source": [
        "## 10-fold cross validation\n",
        "knn1_score = cross_validate(knn1 , X_cross, y , cv = 10, scoring=['r2','neg_root_mean_squared_error','neg_mean_absolute_error'],return_train_score=True)    "
      ]
    },
    {
      "cell_type": "code",
      "execution_count": 101,
      "id": "6adb7bd3",
      "metadata": {
        "id": "6adb7bd3"
      },
      "outputs": [],
      "source": [
        "df_knn = pd.DataFrame(knn1_score)"
      ]
    },
    {
      "cell_type": "code",
      "execution_count": 102,
      "id": "6446a5c6",
      "metadata": {
        "id": "6446a5c6"
      },
      "outputs": [],
      "source": [
        "df_knn = df_knn.rename(columns={'test_neg_root_mean_squared_error':'Test_RMSE',\n",
        "                     'train_neg_root_mean_squared_error':'Train_RMSE',\n",
        "                     'test_neg_mean_absolute_error':'Test_MAE',\n",
        "                     'train_neg_mean_absolute_error':'Train_MAE',\n",
        "                            'test_r2':'Test_R2','train_r2':'Train_R2'})\n",
        "df_knn.drop(columns=['fit_time','score_time'],inplace=True)"
      ]
    },
    {
      "cell_type": "code",
      "execution_count": 103,
      "id": "cf207357",
      "metadata": {
        "colab": {
          "base_uri": "https://localhost:8080/",
          "height": 363
        },
        "id": "cf207357",
        "outputId": "8589aebb-a7f5-489a-948e-2f06b32be1bc"
      },
      "outputs": [
        {
          "output_type": "execute_result",
          "data": {
            "text/plain": [
              "   Test_R2  Train_R2  Test_RMSE  Train_RMSE  Test_MAE  Train_MAE\n",
              "0   -0.176  0.432889  -1.212436   -0.841955    -0.840  -0.468889\n",
              "1    0.112  0.405333  -1.053565   -0.862168    -0.750  -0.483333\n",
              "2   -0.044  0.420889  -1.142366   -0.850817    -0.825  -0.470556\n",
              "3   -0.052  0.409778  -1.146734   -0.858940    -0.835  -0.476667\n",
              "4    0.148  0.400889  -1.031988   -0.865384    -0.715  -0.488889\n",
              "5    0.048  0.399111  -1.090871   -0.866667    -0.790  -0.486667\n",
              "6    0.064  0.432889  -1.081665   -0.841955    -0.780  -0.466667\n",
              "7   -0.036  0.414222  -1.137981   -0.855700    -0.845  -0.478889\n",
              "8   -0.012  0.413333  -1.124722   -0.856349    -0.795  -0.477778\n",
              "9   -0.024  0.410667  -1.131371   -0.858293    -0.790  -0.483333"
            ],
            "text/html": [
              "\n",
              "  <div id=\"df-6c8ae7cc-66ce-4632-a01c-35968655750d\">\n",
              "    <div class=\"colab-df-container\">\n",
              "      <div>\n",
              "<style scoped>\n",
              "    .dataframe tbody tr th:only-of-type {\n",
              "        vertical-align: middle;\n",
              "    }\n",
              "\n",
              "    .dataframe tbody tr th {\n",
              "        vertical-align: top;\n",
              "    }\n",
              "\n",
              "    .dataframe thead th {\n",
              "        text-align: right;\n",
              "    }\n",
              "</style>\n",
              "<table border=\"1\" class=\"dataframe\">\n",
              "  <thead>\n",
              "    <tr style=\"text-align: right;\">\n",
              "      <th></th>\n",
              "      <th>Test_R2</th>\n",
              "      <th>Train_R2</th>\n",
              "      <th>Test_RMSE</th>\n",
              "      <th>Train_RMSE</th>\n",
              "      <th>Test_MAE</th>\n",
              "      <th>Train_MAE</th>\n",
              "    </tr>\n",
              "  </thead>\n",
              "  <tbody>\n",
              "    <tr>\n",
              "      <th>0</th>\n",
              "      <td>-0.176</td>\n",
              "      <td>0.432889</td>\n",
              "      <td>-1.212436</td>\n",
              "      <td>-0.841955</td>\n",
              "      <td>-0.840</td>\n",
              "      <td>-0.468889</td>\n",
              "    </tr>\n",
              "    <tr>\n",
              "      <th>1</th>\n",
              "      <td>0.112</td>\n",
              "      <td>0.405333</td>\n",
              "      <td>-1.053565</td>\n",
              "      <td>-0.862168</td>\n",
              "      <td>-0.750</td>\n",
              "      <td>-0.483333</td>\n",
              "    </tr>\n",
              "    <tr>\n",
              "      <th>2</th>\n",
              "      <td>-0.044</td>\n",
              "      <td>0.420889</td>\n",
              "      <td>-1.142366</td>\n",
              "      <td>-0.850817</td>\n",
              "      <td>-0.825</td>\n",
              "      <td>-0.470556</td>\n",
              "    </tr>\n",
              "    <tr>\n",
              "      <th>3</th>\n",
              "      <td>-0.052</td>\n",
              "      <td>0.409778</td>\n",
              "      <td>-1.146734</td>\n",
              "      <td>-0.858940</td>\n",
              "      <td>-0.835</td>\n",
              "      <td>-0.476667</td>\n",
              "    </tr>\n",
              "    <tr>\n",
              "      <th>4</th>\n",
              "      <td>0.148</td>\n",
              "      <td>0.400889</td>\n",
              "      <td>-1.031988</td>\n",
              "      <td>-0.865384</td>\n",
              "      <td>-0.715</td>\n",
              "      <td>-0.488889</td>\n",
              "    </tr>\n",
              "    <tr>\n",
              "      <th>5</th>\n",
              "      <td>0.048</td>\n",
              "      <td>0.399111</td>\n",
              "      <td>-1.090871</td>\n",
              "      <td>-0.866667</td>\n",
              "      <td>-0.790</td>\n",
              "      <td>-0.486667</td>\n",
              "    </tr>\n",
              "    <tr>\n",
              "      <th>6</th>\n",
              "      <td>0.064</td>\n",
              "      <td>0.432889</td>\n",
              "      <td>-1.081665</td>\n",
              "      <td>-0.841955</td>\n",
              "      <td>-0.780</td>\n",
              "      <td>-0.466667</td>\n",
              "    </tr>\n",
              "    <tr>\n",
              "      <th>7</th>\n",
              "      <td>-0.036</td>\n",
              "      <td>0.414222</td>\n",
              "      <td>-1.137981</td>\n",
              "      <td>-0.855700</td>\n",
              "      <td>-0.845</td>\n",
              "      <td>-0.478889</td>\n",
              "    </tr>\n",
              "    <tr>\n",
              "      <th>8</th>\n",
              "      <td>-0.012</td>\n",
              "      <td>0.413333</td>\n",
              "      <td>-1.124722</td>\n",
              "      <td>-0.856349</td>\n",
              "      <td>-0.795</td>\n",
              "      <td>-0.477778</td>\n",
              "    </tr>\n",
              "    <tr>\n",
              "      <th>9</th>\n",
              "      <td>-0.024</td>\n",
              "      <td>0.410667</td>\n",
              "      <td>-1.131371</td>\n",
              "      <td>-0.858293</td>\n",
              "      <td>-0.790</td>\n",
              "      <td>-0.483333</td>\n",
              "    </tr>\n",
              "  </tbody>\n",
              "</table>\n",
              "</div>\n",
              "      <button class=\"colab-df-convert\" onclick=\"convertToInteractive('df-6c8ae7cc-66ce-4632-a01c-35968655750d')\"\n",
              "              title=\"Convert this dataframe to an interactive table.\"\n",
              "              style=\"display:none;\">\n",
              "        \n",
              "  <svg xmlns=\"http://www.w3.org/2000/svg\" height=\"24px\"viewBox=\"0 0 24 24\"\n",
              "       width=\"24px\">\n",
              "    <path d=\"M0 0h24v24H0V0z\" fill=\"none\"/>\n",
              "    <path d=\"M18.56 5.44l.94 2.06.94-2.06 2.06-.94-2.06-.94-.94-2.06-.94 2.06-2.06.94zm-11 1L8.5 8.5l.94-2.06 2.06-.94-2.06-.94L8.5 2.5l-.94 2.06-2.06.94zm10 10l.94 2.06.94-2.06 2.06-.94-2.06-.94-.94-2.06-.94 2.06-2.06.94z\"/><path d=\"M17.41 7.96l-1.37-1.37c-.4-.4-.92-.59-1.43-.59-.52 0-1.04.2-1.43.59L10.3 9.45l-7.72 7.72c-.78.78-.78 2.05 0 2.83L4 21.41c.39.39.9.59 1.41.59.51 0 1.02-.2 1.41-.59l7.78-7.78 2.81-2.81c.8-.78.8-2.07 0-2.86zM5.41 20L4 18.59l7.72-7.72 1.47 1.35L5.41 20z\"/>\n",
              "  </svg>\n",
              "      </button>\n",
              "      \n",
              "  <style>\n",
              "    .colab-df-container {\n",
              "      display:flex;\n",
              "      flex-wrap:wrap;\n",
              "      gap: 12px;\n",
              "    }\n",
              "\n",
              "    .colab-df-convert {\n",
              "      background-color: #E8F0FE;\n",
              "      border: none;\n",
              "      border-radius: 50%;\n",
              "      cursor: pointer;\n",
              "      display: none;\n",
              "      fill: #1967D2;\n",
              "      height: 32px;\n",
              "      padding: 0 0 0 0;\n",
              "      width: 32px;\n",
              "    }\n",
              "\n",
              "    .colab-df-convert:hover {\n",
              "      background-color: #E2EBFA;\n",
              "      box-shadow: 0px 1px 2px rgba(60, 64, 67, 0.3), 0px 1px 3px 1px rgba(60, 64, 67, 0.15);\n",
              "      fill: #174EA6;\n",
              "    }\n",
              "\n",
              "    [theme=dark] .colab-df-convert {\n",
              "      background-color: #3B4455;\n",
              "      fill: #D2E3FC;\n",
              "    }\n",
              "\n",
              "    [theme=dark] .colab-df-convert:hover {\n",
              "      background-color: #434B5C;\n",
              "      box-shadow: 0px 1px 3px 1px rgba(0, 0, 0, 0.15);\n",
              "      filter: drop-shadow(0px 1px 2px rgba(0, 0, 0, 0.3));\n",
              "      fill: #FFFFFF;\n",
              "    }\n",
              "  </style>\n",
              "\n",
              "      <script>\n",
              "        const buttonEl =\n",
              "          document.querySelector('#df-6c8ae7cc-66ce-4632-a01c-35968655750d button.colab-df-convert');\n",
              "        buttonEl.style.display =\n",
              "          google.colab.kernel.accessAllowed ? 'block' : 'none';\n",
              "\n",
              "        async function convertToInteractive(key) {\n",
              "          const element = document.querySelector('#df-6c8ae7cc-66ce-4632-a01c-35968655750d');\n",
              "          const dataTable =\n",
              "            await google.colab.kernel.invokeFunction('convertToInteractive',\n",
              "                                                     [key], {});\n",
              "          if (!dataTable) return;\n",
              "\n",
              "          const docLinkHtml = 'Like what you see? Visit the ' +\n",
              "            '<a target=\"_blank\" href=https://colab.research.google.com/notebooks/data_table.ipynb>data table notebook</a>'\n",
              "            + ' to learn more about interactive tables.';\n",
              "          element.innerHTML = '';\n",
              "          dataTable['output_type'] = 'display_data';\n",
              "          await google.colab.output.renderOutput(dataTable, element);\n",
              "          const docLink = document.createElement('div');\n",
              "          docLink.innerHTML = docLinkHtml;\n",
              "          element.appendChild(docLink);\n",
              "        }\n",
              "      </script>\n",
              "    </div>\n",
              "  </div>\n",
              "  "
            ]
          },
          "metadata": {},
          "execution_count": 103
        }
      ],
      "source": [
        "df_knn"
      ]
    },
    {
      "cell_type": "code",
      "execution_count": 103,
      "id": "f5765d24",
      "metadata": {
        "id": "f5765d24"
      },
      "outputs": [],
      "source": []
    },
    {
      "cell_type": "markdown",
      "id": "862bdabd",
      "metadata": {
        "id": "862bdabd"
      },
      "source": [
        "## From above different models implementations it can be safely concluded that -\n",
        "  ### Logistic Regressor performed best & is our final model\n",
        "\n",
        "  ### RandomForest Classifier overfitted with data\n",
        "\n",
        "  ### Knn classifier gave poor performance\n"
      ]
    },
    {
      "cell_type": "code",
      "execution_count": 103,
      "id": "fd7a0341",
      "metadata": {
        "id": "fd7a0341"
      },
      "outputs": [],
      "source": []
    },
    {
      "cell_type": "markdown",
      "id": "eee14b84",
      "metadata": {
        "id": "eee14b84"
      },
      "source": [
        "## Hyper-parameter Tuning on Final Model"
      ]
    },
    {
      "cell_type": "code",
      "execution_count": 104,
      "id": "81f837f8",
      "metadata": {
        "id": "81f837f8"
      },
      "outputs": [],
      "source": [
        "hyp_logistic = LogisticRegression()     ## Defining base model for hyper-parameter tuning"
      ]
    },
    {
      "cell_type": "code",
      "execution_count": 105,
      "id": "d4a4e914",
      "metadata": {
        "id": "d4a4e914"
      },
      "outputs": [],
      "source": [
        "params = {'C' : [100, 10, 1.0, 0.1, 0.01],                    ## Passing parameters and their values\n",
        "         'max_iter': [500,1000],\n",
        "         'random_state' : [0,1,10,55,99,555,999,9094,4494]}"
      ]
    },
    {
      "cell_type": "code",
      "execution_count": 106,
      "id": "843be04c",
      "metadata": {
        "id": "843be04c"
      },
      "outputs": [],
      "source": [
        "grid_model = GridSearchCV(hyp_logistic, param_grid = params, scoring = 'r2', cv = 10)   ## Tuning with 10-fold cross validation"
      ]
    },
    {
      "cell_type": "code",
      "execution_count": 107,
      "id": "8e29da0d",
      "metadata": {
        "id": "8e29da0d"
      },
      "outputs": [],
      "source": [
        "sc_hyp = StandardScaler()               ## Defining base standard scaler for tuning"
      ]
    },
    {
      "cell_type": "code",
      "execution_count": 108,
      "id": "2d074ce0",
      "metadata": {
        "id": "2d074ce0"
      },
      "outputs": [],
      "source": [
        "X_hyp = sc_hyp.fit_transform(X_train)      ## Scaling the features"
      ]
    },
    {
      "cell_type": "code",
      "execution_count": 109,
      "id": "8c6ec33d",
      "metadata": {
        "scrolled": true,
        "colab": {
          "base_uri": "https://localhost:8080/"
        },
        "id": "8c6ec33d",
        "outputId": "7890dfd3-7cae-4c9f-e809-0b69df3fdec1"
      },
      "outputs": [
        {
          "output_type": "execute_result",
          "data": {
            "text/plain": [
              "GridSearchCV(cv=10, estimator=LogisticRegression(),\n",
              "             param_grid={'C': [100, 10, 1.0, 0.1, 0.01],\n",
              "                         'max_iter': [500, 1000],\n",
              "                         'random_state': [0, 1, 10, 55, 99, 555, 999, 9094,\n",
              "                                          4494]},\n",
              "             scoring='r2')"
            ]
          },
          "metadata": {},
          "execution_count": 109
        }
      ],
      "source": [
        "grid_model.fit(X_hyp, y_train)            ## Training with hyper-parmeters"
      ]
    },
    {
      "cell_type": "code",
      "execution_count": 110,
      "id": "cf7321c9",
      "metadata": {
        "colab": {
          "base_uri": "https://localhost:8080/"
        },
        "id": "cf7321c9",
        "outputId": "b9ade69e-a04b-4976-c5eb-f49c284dccc5"
      },
      "outputs": [
        {
          "output_type": "execute_result",
          "data": {
            "text/plain": [
              "{'C': 100, 'max_iter': 500, 'random_state': 0}"
            ]
          },
          "metadata": {},
          "execution_count": 110
        }
      ],
      "source": [
        "grid_model.best_params_                                                     ## Getting best hyper-parameters and their values"
      ]
    },
    {
      "cell_type": "code",
      "execution_count": 111,
      "id": "c109ccae",
      "metadata": {
        "id": "c109ccae"
      },
      "outputs": [],
      "source": [
        "final_model = LogisticRegression(C=100, max_iter = 500 , random_state=0)  ## Actually implementing final model with best above parameters"
      ]
    },
    {
      "cell_type": "code",
      "execution_count": 112,
      "id": "8a79c7f7",
      "metadata": {
        "id": "8a79c7f7"
      },
      "outputs": [],
      "source": [
        "final_clf = final_model.fit(X_train_scaled, y_train)                       ## Training the model"
      ]
    },
    {
      "cell_type": "code",
      "execution_count": 113,
      "id": "a2b15045",
      "metadata": {
        "id": "a2b15045"
      },
      "outputs": [],
      "source": [
        "y_pred_train_final = final_model.predict(X_train_scaled)                    ## Predicting train & test scores\n",
        "y_pred_test_final = final_model.predict(X_test_scaled)                      "
      ]
    },
    {
      "cell_type": "code",
      "execution_count": 114,
      "id": "dad1b205",
      "metadata": {
        "colab": {
          "base_uri": "https://localhost:8080/"
        },
        "id": "dad1b205",
        "outputId": "cc46b221-1fa8-4f82-e3cb-494e71f0ebea"
      },
      "outputs": [
        {
          "output_type": "execute_result",
          "data": {
            "text/plain": [
              "0.9592857142857143"
            ]
          },
          "metadata": {},
          "execution_count": 114
        }
      ],
      "source": [
        "accuracy_score(y_train, y_pred_train_final)                                   ## Final Train score"
      ]
    },
    {
      "cell_type": "code",
      "execution_count": 115,
      "id": "ec8fc907",
      "metadata": {
        "colab": {
          "base_uri": "https://localhost:8080/"
        },
        "id": "ec8fc907",
        "outputId": "b0df2880-f1f1-4d5c-acfe-3cc128779e38"
      },
      "outputs": [
        {
          "output_type": "execute_result",
          "data": {
            "text/plain": [
              "0.915"
            ]
          },
          "metadata": {},
          "execution_count": 115
        }
      ],
      "source": [
        "accuracy_score(y_test, y_pred_test_final)                                     ## Final Test score"
      ]
    },
    {
      "cell_type": "code",
      "execution_count": 116,
      "id": "0eff9dc3",
      "metadata": {
        "colab": {
          "base_uri": "https://localhost:8080/"
        },
        "id": "0eff9dc3",
        "outputId": "30f1b1d5-97ea-46bb-8a63-1374e7872578"
      },
      "outputs": [
        {
          "output_type": "stream",
          "name": "stdout",
          "text": [
            "              precision    recall  f1-score   support\n",
            "\n",
            "           0       0.98      0.98      0.98       365\n",
            "           1       0.95      0.95      0.95       351\n",
            "           2       0.94      0.93      0.94       332\n",
            "           3       0.96      0.97      0.97       352\n",
            "\n",
            "    accuracy                           0.96      1400\n",
            "   macro avg       0.96      0.96      0.96      1400\n",
            "weighted avg       0.96      0.96      0.96      1400\n",
            "\n"
          ]
        }
      ],
      "source": [
        "print(classification_report(y_train, y_pred_train_final))               ## Classification report on train set"
      ]
    },
    {
      "cell_type": "code",
      "execution_count": 117,
      "id": "3f521489",
      "metadata": {
        "colab": {
          "base_uri": "https://localhost:8080/"
        },
        "id": "3f521489",
        "outputId": "92c4681c-e1f2-4316-d115-c5ae98db056d"
      },
      "outputs": [
        {
          "output_type": "stream",
          "name": "stdout",
          "text": [
            "              precision    recall  f1-score   support\n",
            "\n",
            "           0       0.95      0.96      0.95       135\n",
            "           1       0.88      0.89      0.88       149\n",
            "           2       0.89      0.88      0.89       168\n",
            "           3       0.95      0.94      0.95       148\n",
            "\n",
            "    accuracy                           0.92       600\n",
            "   macro avg       0.92      0.92      0.92       600\n",
            "weighted avg       0.92      0.92      0.92       600\n",
            "\n"
          ]
        }
      ],
      "source": [
        "print(classification_report(y_test, y_pred_test_final))              ## Clsssification report on test set"
      ]
    },
    {
      "cell_type": "code",
      "execution_count": 118,
      "id": "0d877065",
      "metadata": {
        "colab": {
          "base_uri": "https://localhost:8080/",
          "height": 282
        },
        "id": "0d877065",
        "outputId": "520c8f90-a07b-44dc-bbfc-955f77522947"
      },
      "outputs": [
        {
          "output_type": "execute_result",
          "data": {
            "text/plain": [
              "<matplotlib.axes._subplots.AxesSubplot at 0x7f20a5e47850>"
            ]
          },
          "metadata": {},
          "execution_count": 118
        },
        {
          "output_type": "display_data",
          "data": {
            "text/plain": [
              "<Figure size 432x288 with 2 Axes>"
            ],
            "image/png": "[encoded data removed]"
          },
          "metadata": {
            "needs_background": "light"
          }
        }
      ],
      "source": [
        "sns.heatmap(confusion_matrix(y_train, y_pred_train_final), annot =True , fmt ='d')   ## Confusion matrix on training set"
      ]
    },
    {
      "cell_type": "code",
      "execution_count": 119,
      "id": "e581d1bd",
      "metadata": {
        "colab": {
          "base_uri": "https://localhost:8080/",
          "height": 282
        },
        "id": "e581d1bd",
        "outputId": "2f8ae8f3-3fa8-4c5e-c432-9597d2a414f7"
      },
      "outputs": [
        {
          "output_type": "execute_result",
          "data": {
            "text/plain": [
              "<matplotlib.axes._subplots.AxesSubplot at 0x7f20a5d8e8b0>"
            ]
          },
          "metadata": {},
          "execution_count": 119
        },
        {
          "output_type": "display_data",
          "data": {
            "text/plain": [
              "<Figure size 432x288 with 2 Axes>"
            ],
            "image/png": "[encoded data removed]"
          },
          "metadata": {
            "needs_background": "light"
          }
        }
      ],
      "source": [
        "sns.heatmap(confusion_matrix(y_test, y_pred_test_final), annot =True , fmt ='d')   ## Confusion matrix on test set"
      ]
    },
    {
      "cell_type": "markdown",
      "id": "6ef49697",
      "metadata": {
        "id": "6ef49697"
      },
      "source": [
        "# *Final Conclusion* : Hyper-Parameter tuning [with 10-fold cross validation] further incresed the performance of LogisticRegression on both training score and test score. "
      ]
    }
  ],
  "metadata": {
    "kernelspec": {
      "display_name": "Python 3 (ipykernel)",
      "language": "python",
      "name": "python3"
    },
    "language_info": {
      "codemirror_mode": {
        "name": "ipython",
        "version": 3
      },
      "file_extension": ".py",
      "mimetype": "text/x-python",
      "name": "python",
      "nbconvert_exporter": "python",
      "pygments_lexer": "ipython3",
      "version": "3.9.13"
    },
    "colab": {
      "provenance": [],
      "include_colab_link": true
    }
  },
  "nbformat": 4,
  "nbformat_minor": 5
}